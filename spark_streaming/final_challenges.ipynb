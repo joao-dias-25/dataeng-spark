{
  "cells": [
    {
      "cell_type": "markdown",
      "metadata": {
        "id": "view-in-github",
        "colab_type": "text"
      },
      "source": [
        "<a href=\"https://colab.research.google.com/github/joao-dias-25/dataeng-spark/blob/main/spark_streaming/final_challenges.ipynb\" target=\"_parent\"><img src=\"https://colab.research.google.com/assets/colab-badge.svg\" alt=\"Open In Colab\"/></a>"
      ]
    },
    {
      "cell_type": "markdown",
      "metadata": {
        "id": "4_GBE9UsyxwK"
      },
      "source": []
    },
    {
      "cell_type": "markdown",
      "metadata": {
        "id": "d9LeYFsPTjAb"
      },
      "source": [
        "# Setting up PySpark"
      ]
    },
    {
      "cell_type": "code",
      "execution_count": 1,
      "metadata": {
        "colab": {
          "base_uri": "https://localhost:8080/"
        },
        "id": "uYXeODL0T1fO",
        "outputId": "802b6897-d3eb-4b6b-88cf-795cce58aa6b"
      },
      "outputs": [
        {
          "output_type": "stream",
          "name": "stdout",
          "text": [
            "Requirement already satisfied: pyspark in /usr/local/lib/python3.10/dist-packages (3.5.3)\n",
            "Requirement already satisfied: py4j==0.10.9.7 in /usr/local/lib/python3.10/dist-packages (from pyspark) (0.10.9.7)\n"
          ]
        }
      ],
      "source": [
        "%pip install pyspark"
      ]
    },
    {
      "cell_type": "markdown",
      "metadata": {
        "id": "Rcybt71kTDNt"
      },
      "source": [
        "# Context\n",
        "Message events are coming from platform message broker (kafka, pubsub, kinesis...).\n",
        "You need to process the data according to the requirements.\n",
        "\n",
        "Message schema:\n",
        "- timestamp\n",
        "- value\n",
        "- event_type\n",
        "- message_id\n",
        "- country_id\n",
        "- user_id\n",
        "\n"
      ]
    },
    {
      "cell_type": "markdown",
      "metadata": {
        "id": "JkyPORKNSYvV"
      },
      "source": [
        "# Challenge 1\n",
        "\n",
        "Step 1\n",
        "- Change exising producer\n",
        "\t- Change parquet location to \"/content/lake/bronze/messages/data\"\n",
        "\t- Add checkpoint (/content/lake/bronze/messages/checkpoint)\n",
        "\t- Delete /content/lake/bronze/messages and reprocess data\n",
        "\t- For reprocessing, run the streaming for at least 1 minute, then stop it\n",
        "\n",
        "Step 2\n",
        "- Implement new stream job to read from messages in bronze layer and split result in two locations\n",
        "\t- \"messages_corrupted\"\n",
        "\t\t- logic: event_status is null, empty or equal to \"NONE\"\n",
        "    - extra logic: add country name by joining message with countries dataset\n",
        "\t\t- partition by \"date\" -extract it from timestamp\n",
        "\t\t- location: /content/lake/silver/messages_corrupted/data\n",
        "\n",
        "\t- \"messages\"\n",
        "\t\t- logic: not corrupted data\n",
        "\t\t- extra logic: add country name by joining message with countries dataset\n",
        "\t\t- partition by \"date\" -extract it from timestamp\n",
        "\t\t- location: /content/lake/silver/messages/data\n",
        "\n",
        "\t- technical requirements\n",
        "\t\t- add checkpint (choose location)\n",
        "\t\t- use StructSchema\n",
        "\t\t- Set trigger interval to 5 seconds\n",
        "\t\t- run streaming for at least 20 seconds, then stop it\n",
        "\n",
        "\t- alternatives\n",
        "\t\t- implementing single streaming job with foreach/- foreachBatch logic to write into two locations\n",
        "\t\t- implementing two streaming jobs, one for messages and another for messages_corrupted\n",
        "\t\t- (paying attention on the paths and checkpoints)\n",
        "\n",
        "\n",
        "  - Check results:\n",
        "    - results from messages in bronze layer should match with the sum of messages+messages_corrupted in the silver layer"
      ]
    },
    {
      "cell_type": "code",
      "execution_count": 2,
      "metadata": {
        "colab": {
          "base_uri": "https://localhost:8080/"
        },
        "id": "Udk3tohSaXOH",
        "outputId": "1b01b322-b9bc-4013-cc9a-ddf8d0d40361"
      },
      "outputs": [
        {
          "output_type": "stream",
          "name": "stdout",
          "text": [
            "Collecting faker\n",
            "  Downloading Faker-33.1.0-py3-none-any.whl.metadata (15 kB)\n",
            "Requirement already satisfied: python-dateutil>=2.4 in /usr/local/lib/python3.10/dist-packages (from faker) (2.8.2)\n",
            "Requirement already satisfied: typing-extensions in /usr/local/lib/python3.10/dist-packages (from faker) (4.12.2)\n",
            "Requirement already satisfied: six>=1.5 in /usr/local/lib/python3.10/dist-packages (from python-dateutil>=2.4->faker) (1.17.0)\n",
            "Downloading Faker-33.1.0-py3-none-any.whl (1.9 MB)\n",
            "\u001b[2K   \u001b[90m━━━━━━━━━━━━━━━━━━━━━━━━━━━━━━━━━━━━━━━━\u001b[0m \u001b[32m1.9/1.9 MB\u001b[0m \u001b[31m13.6 MB/s\u001b[0m eta \u001b[36m0:00:00\u001b[0m\n",
            "\u001b[?25hInstalling collected packages: faker\n",
            "Successfully installed faker-33.1.0\n"
          ]
        }
      ],
      "source": [
        "%pip install faker"
      ]
    },
    {
      "cell_type": "markdown",
      "metadata": {
        "id": "cDGMKwBdi1qy"
      },
      "source": [
        "# Producer"
      ]
    },
    {
      "cell_type": "code",
      "execution_count": 183,
      "metadata": {
        "colab": {
          "base_uri": "https://localhost:8080/"
        },
        "id": "tPCOdivrfhYh",
        "outputId": "8a9eae99-bcf0-4063-c19d-7bcb83c1e452"
      },
      "outputs": [
        {
          "output_type": "execute_result",
          "data": {
            "text/plain": [
              "False"
            ]
          },
          "metadata": {},
          "execution_count": 183
        }
      ],
      "source": [
        "import pyspark.sql.functions as F\n",
        "from pyspark.sql import DataFrame\n",
        "from faker import Faker\n",
        "from pyspark.sql import SparkSession\n",
        "\n",
        "spark = SparkSession.builder.appName('Test streaming').getOrCreate()\n",
        "sc = spark.sparkContext\n",
        "\n",
        "fake = Faker()\n",
        "messages = [fake.uuid4() for _ in range(50)]\n",
        "\n",
        "def enrich_data(df, messages=messages):\n",
        "  fake = Faker()\n",
        "  new_columns = {\n",
        "      'event_type': F.lit(fake.random_element(elements=('OPEN', 'RECEIVED', 'SENT', 'CREATED', 'CLICKED', '', 'NONE'))),\n",
        "      'message_id': F.lit(fake.random_element(elements=messages)),\n",
        "      'channel': F.lit(fake.random_element(elements=('CHAT', 'EMAIL', 'SMS', 'PUSH', 'OTHER'))),\n",
        "      'country_id': F.lit(fake.random_int(min=2000, max=2015)),\n",
        "      'user_id': F.lit(fake.random_int(min=1000, max=1050)),\n",
        "  }\n",
        "  df = df.withColumns(new_columns)\n",
        "  return df\n",
        "\n",
        "def insert_messages(df: DataFrame, batch_id):\n",
        "  enrich = enrich_data(df)\n",
        "  enrich.write.mode(\"append\").format(\"parquet\").save(\"content/lake/bronze/messages/data\")\n",
        "\n",
        "# read stream\n",
        "df_stream = spark.readStream.format(\"rate\").option(\"rowsPerSecond\", 1).load()\n",
        "\n",
        "# write stream\n",
        "query = (df_stream.writeStream\n",
        ".option('checkpointLocation', 'content/lake/bronze/messages/checkpoint')\n",
        ".outputMode('append')\n",
        ".trigger(processingTime='1 seconds')\n",
        ".foreachBatch(insert_messages)\n",
        ".start()\n",
        ")\n",
        "\n",
        "query.awaitTermination(60)\n"
      ]
    },
    {
      "cell_type": "code",
      "execution_count": 184,
      "metadata": {
        "id": "KNyUK3yplDhg"
      },
      "outputs": [],
      "source": [
        "query.stop()"
      ]
    },
    {
      "cell_type": "code",
      "source": [
        "#!rm -rf content/lake/bronze/messages"
      ],
      "metadata": {
        "id": "8QRWhyKaQKEQ"
      },
      "execution_count": 185,
      "outputs": []
    },
    {
      "cell_type": "code",
      "execution_count": 186,
      "metadata": {
        "id": "ZWQExsnzlMFe",
        "outputId": "5e5d2c65-0669-4862-ff2a-0be5a6394f1e",
        "colab": {
          "base_uri": "https://localhost:8080/"
        }
      },
      "outputs": [
        {
          "output_type": "stream",
          "name": "stdout",
          "text": [
            "root\n",
            " |-- timestamp: timestamp (nullable = true)\n",
            " |-- value: long (nullable = true)\n",
            " |-- event_type: string (nullable = true)\n",
            " |-- message_id: string (nullable = true)\n",
            " |-- channel: string (nullable = true)\n",
            " |-- country_id: integer (nullable = true)\n",
            " |-- user_id: integer (nullable = true)\n",
            "\n",
            "+--------------------+-----+----------+--------------------+-------+----------+-------+\n",
            "|           timestamp|value|event_type|          message_id|channel|country_id|user_id|\n",
            "+--------------------+-----+----------+--------------------+-------+----------+-------+\n",
            "|2024-12-23 12:14:...| 6306|  RECEIVED|bd5c47e1-c137-469...|  EMAIL|      2001|   1043|\n",
            "|2024-12-23 12:14:...| 6308|  RECEIVED|bd5c47e1-c137-469...|  EMAIL|      2001|   1043|\n",
            "|2024-12-23 12:14:...| 6310|  RECEIVED|bd5c47e1-c137-469...|  EMAIL|      2001|   1043|\n",
            "|2024-12-23 12:14:...| 6312|  RECEIVED|bd5c47e1-c137-469...|  EMAIL|      2001|   1043|\n",
            "|2024-12-23 12:14:...| 6307|  RECEIVED|bd5c47e1-c137-469...|  EMAIL|      2001|   1043|\n",
            "|2024-12-23 12:14:...| 6309|  RECEIVED|bd5c47e1-c137-469...|  EMAIL|      2001|   1043|\n",
            "|2024-12-23 12:14:...| 6311|  RECEIVED|bd5c47e1-c137-469...|  EMAIL|      2001|   1043|\n",
            "|2024-12-23 12:14:...|    9|  RECEIVED|f98ebfb0-185b-43b...|   PUSH|      2008|   1036|\n",
            "|2024-12-23 12:14:...|   11|  RECEIVED|f98ebfb0-185b-43b...|   PUSH|      2008|   1036|\n",
            "|2024-12-23 12:14:...|   10|  RECEIVED|f98ebfb0-185b-43b...|   PUSH|      2008|   1036|\n",
            "|2024-12-23 12:14:...|   12|  RECEIVED|f98ebfb0-185b-43b...|   PUSH|      2008|   1036|\n",
            "|2024-12-23 12:14:...|   35|   CLICKED|6e30ef53-ab48-403...|  EMAIL|      2015|   1019|\n",
            "|2024-12-23 12:14:...|   37|   CLICKED|6e30ef53-ab48-403...|  EMAIL|      2015|   1019|\n",
            "|2024-12-23 12:15:...|   42|   CREATED|4c115f08-5348-477...|  OTHER|      2001|   1049|\n",
            "|2024-12-23 12:15:...|   44|   CREATED|4c115f08-5348-477...|  OTHER|      2001|   1049|\n",
            "|2024-12-23 12:15:...|   41|   CREATED|4c115f08-5348-477...|  OTHER|      2001|   1049|\n",
            "|2024-12-23 12:15:...|   43|   CREATED|4c115f08-5348-477...|  OTHER|      2001|   1049|\n",
            "|2024-12-23 12:14:...|   36|   CLICKED|6e30ef53-ab48-403...|  EMAIL|      2015|   1019|\n",
            "|2024-12-23 12:14:...|   38|   CLICKED|6e30ef53-ab48-403...|  EMAIL|      2015|   1019|\n",
            "|2024-12-23 12:15:...|   49|   CREATED|64f189be-9230-403...|   CHAT|      2003|   1025|\n",
            "+--------------------+-----+----------+--------------------+-------+----------+-------+\n",
            "only showing top 20 rows\n",
            "\n"
          ]
        }
      ],
      "source": [
        "\n",
        "df = spark.read.format(\"parquet\").load(\"content/lake/bronze/messages/data\")\n",
        "df.printSchema()\n",
        "df.show()"
      ]
    },
    {
      "cell_type": "markdown",
      "metadata": {
        "id": "RraxHCycMdEZ"
      },
      "source": [
        "# Additional datasets"
      ]
    },
    {
      "cell_type": "code",
      "execution_count": 187,
      "metadata": {
        "id": "cfsus3dxMcQI"
      },
      "outputs": [],
      "source": [
        "countries = [\n",
        "    {\"country_id\": 2000, \"country\": \"Brazil\"},\n",
        "    {\"country_id\": 2001, \"country\": \"Portugal\"},\n",
        "    {\"country_id\": 2002, \"country\": \"Spain\"},\n",
        "    {\"country_id\": 2003, \"country\": \"Germany\"},\n",
        "    {\"country_id\": 2004, \"country\": \"France\"},\n",
        "    {\"country_id\": 2005, \"country\": \"Italy\"},\n",
        "    {\"country_id\": 2006, \"country\": \"United Kingdom\"},\n",
        "    {\"country_id\": 2007, \"country\": \"United States\"},\n",
        "    {\"country_id\": 2008, \"country\": \"Canada\"},\n",
        "    {\"country_id\": 2009, \"country\": \"Australia\"},\n",
        "    {\"country_id\": 2010, \"country\": \"Japan\"},\n",
        "    {\"country_id\": 2011, \"country\": \"China\"},\n",
        "    {\"country_id\": 2012, \"country\": \"India\"},\n",
        "    {\"country_id\": 2013, \"country\": \"South Korea\"},\n",
        "    {\"country_id\": 2014, \"country\": \"Russia\"},\n",
        "    {\"country_id\": 2015, \"country\": \"Argentina\"}\n",
        "]\n",
        "\n",
        "countries = spark.createDataFrame(countries)"
      ]
    },
    {
      "cell_type": "markdown",
      "metadata": {
        "id": "Pg2nx03_Sn62"
      },
      "source": []
    },
    {
      "cell_type": "markdown",
      "metadata": {
        "id": "swvPj9hVpzNf"
      },
      "source": [
        "# Streaming Messages x Messages Corrupted"
      ]
    },
    {
      "cell_type": "code",
      "execution_count": 201,
      "metadata": {
        "colab": {
          "base_uri": "https://localhost:8080/"
        },
        "id": "ZAHIZeZMlpoH",
        "outputId": "139864b5-0cf2-471b-cae1-16874343620a"
      },
      "outputs": [
        {
          "output_type": "stream",
          "name": "stdout",
          "text": [
            "True\n",
            "True\n",
            "True\n"
          ]
        },
        {
          "output_type": "execute_result",
          "data": {
            "text/plain": [
              "False"
            ]
          },
          "metadata": {},
          "execution_count": 201
        }
      ],
      "source": [
        "# TODO\n",
        "from pyspark.sql.types import *\n",
        "from pyspark.sql.functions import udf, col, date_format\n",
        "\n",
        "rate_schema = StructType([\n",
        "StructField('timestamp', TimestampType(),True),\n",
        "StructField('value',LongType(),True),\n",
        "StructField('event_type',StringType(),True),\n",
        "StructField('message_id',StringType(),True),\n",
        "StructField('channel', StringType(), True),\n",
        "StructField('country_id', IntegerType(), True),\n",
        "StructField('user_id', IntegerType(), True),\n",
        "])\n",
        "\n",
        "stream2 = spark.readStream.format('parquet').schema(rate_schema).load('content/lake/bronze/messages/data')\n",
        "\n",
        "stream_not_null =stream2.filter((col(\"event_type\").isNotNull()) &\n",
        "        (col(\"event_type\") != '') &\n",
        "        (col(\"event_type\") != 'NONE'))\n",
        "stream_null = stream2.filter((F.col(\"event_type\").isNull()) |\n",
        "        (col(\"event_type\") == '') |\n",
        "        (col(\"event_type\") == 'NONE'))\n",
        "\n",
        "# Check if dataframe is streaming\n",
        "print(stream2.isStreaming)\n",
        "print(stream_null.isStreaming)\n",
        "print(stream_not_null.isStreaming)\n",
        "\n",
        "def save_parquet_c(df, batch_id):\n",
        "  (df\n",
        "    .withColumn('date', date_format('timestamp',\"yyyyMMdd\"))\n",
        "    .join(countries, \"country_id\", \"left\")\n",
        "    .write.mode(\"append\")\n",
        "    .partitionBy(\"date\")\n",
        "    .parquet('content/lake/silver/messages_corrupted/data'))\n",
        "\n",
        "def save_parquet(df, batch_id):\n",
        "  (df\n",
        "    .withColumn('date', date_format('timestamp',\"yyyyMMdd\"))\n",
        "    .join(countries, \"country_id\", \"left\")\n",
        "    .write.mode(\"append\")\n",
        "    .partitionBy(\"date\")\n",
        "    .parquet('content/lake/silver/messages/data'))\n",
        "\n",
        "\n",
        "  # Start write as streaming into parquet\n",
        "query = (stream_null.writeStream\n",
        "  .option('checkpointLocation', 'content/lake/silver/messages_corrupted/checkpoint')\n",
        "  .trigger(processingTime='5 seconds')\n",
        "  .outputMode('append')\n",
        "  .foreachBatch(save_parquet_c)\n",
        "  .start() )\n",
        "\n",
        "query2 = (stream_not_null.writeStream\n",
        "  .option('checkpointLocation', 'content/lake/silver/messages/checkpoint')\n",
        "  .trigger(processingTime='5 seconds')\n",
        "  .outputMode('append')\n",
        "  .foreachBatch(save_parquet)\n",
        "  .start() )\n",
        "\n",
        "query.awaitTermination(20)\n",
        "query2.awaitTermination(20)"
      ]
    },
    {
      "cell_type": "code",
      "source": [
        "query.stop()\n",
        "query2.stop()\n"
      ],
      "metadata": {
        "id": "A_ruBOHVFyRR"
      },
      "execution_count": 202,
      "outputs": []
    },
    {
      "cell_type": "code",
      "source": [
        "#!rm -rf content/lake/silver\n",
        "#!ls content/lake/bronze/messages/data"
      ],
      "metadata": {
        "id": "KjWchqLFdtVQ"
      },
      "execution_count": 203,
      "outputs": []
    },
    {
      "cell_type": "markdown",
      "metadata": {
        "id": "jLK9jpjCu3xE"
      },
      "source": [
        "## Checking data"
      ]
    },
    {
      "cell_type": "code",
      "execution_count": 204,
      "metadata": {
        "id": "nk8seEvbmvcU",
        "colab": {
          "base_uri": "https://localhost:8080/"
        },
        "outputId": "297e497d-f89c-401f-e3b0-570c8c9bc979"
      },
      "outputs": [
        {
          "output_type": "stream",
          "name": "stdout",
          "text": [
            "root\n",
            " |-- country_id: integer (nullable = true)\n",
            " |-- timestamp: timestamp (nullable = true)\n",
            " |-- value: long (nullable = true)\n",
            " |-- event_type: string (nullable = true)\n",
            " |-- message_id: string (nullable = true)\n",
            " |-- channel: string (nullable = true)\n",
            " |-- user_id: integer (nullable = true)\n",
            " |-- country: string (nullable = true)\n",
            " |-- date: integer (nullable = true)\n",
            "\n",
            "+----------+--------------------+-----+----------+--------------------+-------+-------+--------+--------+\n",
            "|country_id|           timestamp|value|event_type|          message_id|channel|user_id| country|    date|\n",
            "+----------+--------------------+-----+----------+--------------------+-------+-------+--------+--------+\n",
            "|      2000|2024-12-23 12:14:...|   24|      OPEN|8f389275-6f54-47e...|   CHAT|   1035|  Brazil|20241223|\n",
            "|      2000|2024-12-23 12:14:...|   26|      OPEN|8f389275-6f54-47e...|   CHAT|   1035|  Brazil|20241223|\n",
            "|      2000|2024-12-23 12:14:...|   28|      OPEN|8f389275-6f54-47e...|   CHAT|   1035|  Brazil|20241223|\n",
            "|      2000|2024-12-23 12:14:...|   25|      OPEN|8f389275-6f54-47e...|   CHAT|   1035|  Brazil|20241223|\n",
            "|      2000|2024-12-23 12:14:...|   27|      OPEN|8f389275-6f54-47e...|   CHAT|   1035|  Brazil|20241223|\n",
            "|      2000|2024-12-23 12:14:...|    1|      OPEN|b70f71a2-d08b-439...|   PUSH|   1038|  Brazil|20241223|\n",
            "|      2001|2024-12-23 12:14:...| 6306|  RECEIVED|bd5c47e1-c137-469...|  EMAIL|   1043|Portugal|20241223|\n",
            "|      2001|2024-12-23 12:14:...| 6308|  RECEIVED|bd5c47e1-c137-469...|  EMAIL|   1043|Portugal|20241223|\n",
            "|      2001|2024-12-23 12:14:...| 6310|  RECEIVED|bd5c47e1-c137-469...|  EMAIL|   1043|Portugal|20241223|\n",
            "|      2001|2024-12-23 12:14:...| 6312|  RECEIVED|bd5c47e1-c137-469...|  EMAIL|   1043|Portugal|20241223|\n",
            "|      2001|2024-12-23 12:14:...| 6307|  RECEIVED|bd5c47e1-c137-469...|  EMAIL|   1043|Portugal|20241223|\n",
            "|      2001|2024-12-23 12:14:...| 6309|  RECEIVED|bd5c47e1-c137-469...|  EMAIL|   1043|Portugal|20241223|\n",
            "|      2001|2024-12-23 12:14:...| 6311|  RECEIVED|bd5c47e1-c137-469...|  EMAIL|   1043|Portugal|20241223|\n",
            "|      2001|2024-12-23 12:15:...|   42|   CREATED|4c115f08-5348-477...|  OTHER|   1049|Portugal|20241223|\n",
            "|      2001|2024-12-23 12:15:...|   44|   CREATED|4c115f08-5348-477...|  OTHER|   1049|Portugal|20241223|\n",
            "|      2001|2024-12-23 12:15:...|   41|   CREATED|4c115f08-5348-477...|  OTHER|   1049|Portugal|20241223|\n",
            "|      2001|2024-12-23 12:15:...|   43|   CREATED|4c115f08-5348-477...|  OTHER|   1049|Portugal|20241223|\n",
            "|      2001|2024-12-23 12:14:...|   16|  RECEIVED|687160e4-31d4-436...|  OTHER|   1011|Portugal|20241223|\n",
            "|      2001|2024-12-23 12:14:...|   15|  RECEIVED|687160e4-31d4-436...|  OTHER|   1011|Portugal|20241223|\n",
            "|      2001|2024-12-23 12:14:...|    0|      SENT|e3bc312b-e132-443...|  OTHER|   1006|Portugal|20241223|\n",
            "+----------+--------------------+-----+----------+--------------------+-------+-------+--------+--------+\n",
            "only showing top 20 rows\n",
            "\n"
          ]
        }
      ],
      "source": [
        "# TODO\n",
        "\n",
        "\n",
        "\n",
        "df = spark.read.format(\"parquet\").load(\"content/lake/silver/messages/data\")\n",
        "df.printSchema()\n",
        "df.show()"
      ]
    },
    {
      "cell_type": "code",
      "source": [
        "\n",
        "df_notcorrupted = spark.read.format(\"parquet\").load(\"content/lake/silver/messages/data\")\n",
        "df_corrupted = spark.read.format(\"parquet\").load(\"content/lake/silver/messages_corrupted/data\")\n",
        "df_source = spark.read.format(\"parquet\").load(\"content/lake/bronze/messages/data\")\n",
        "\n",
        "print(f\"not corrupted - {df_notcorrupted.count()}\")\n",
        "print(f\"corrupted  - {df_corrupted.count()}\")\n",
        "print(f\"source - {df_source.count()}\")"
      ],
      "metadata": {
        "id": "jV9bjWDNT-PE",
        "outputId": "ec7d1bd9-8f27-46aa-97cd-86586a086f7b",
        "colab": {
          "base_uri": "https://localhost:8080/"
        }
      },
      "execution_count": 205,
      "outputs": [
        {
          "output_type": "stream",
          "name": "stdout",
          "text": [
            "not corrupted - 52\n",
            "corrupted  - 9\n",
            "source - 61\n"
          ]
        }
      ]
    },
    {
      "cell_type": "markdown",
      "metadata": {
        "id": "rfxIlBISSvRP"
      },
      "source": [
        "# Challenge 2\n",
        "\n",
        "- Run business report\n",
        "- But first, there is a bug in the system which is causing some duplicated messages, we need to exclude these lines from the report\n",
        "\n",
        "- removing duplicates logic:\n",
        "  - Identify possible duplicates on message_id, event_type and channel\n",
        "  - in case of duplicates, consider only the first message (occurrence by timestamp)\n",
        "  - Ex:\n",
        "    In table below, the correct message to consider is the second line\n",
        "\n",
        "```\n",
        "    message_id | channel | event_type | timestamp\n",
        "    123        | CHAT    | CREATED    | 10:10:01\n",
        "    123        | CHAT    | CREATED    | 07:56:45 (first occurrence)\n",
        "    123        | CHAT    | CREATED    | 08:13:33\n",
        "```\n",
        "\n",
        "- After cleaning the data we're able to create the busines report"
      ]
    },
    {
      "cell_type": "code",
      "execution_count": 197,
      "metadata": {
        "id": "R3J9XyOHhqvU"
      },
      "outputs": [],
      "source": [
        "# dedup data\n",
        "from pyspark.sql import functions as F\n",
        "from pyspark.sql.window import Window\n",
        "df = spark.read.format(\"parquet\").load(\"content/lake/silver/messages/data\")\n",
        "dedup = df.withColumn(\"row_number\", F.row_number().over(Window.partitionBy(\"message_id\", \"event_type\", \"channel\").orderBy(\"timestamp\"))).filter(\"row_number = 1\").drop(\"row_number\")"
      ]
    },
    {
      "cell_type": "markdown",
      "metadata": {
        "id": "RF9L9i25lk74"
      },
      "source": [
        "### Report 1\n",
        "  - Aggregate data by date, event_type and channel\n",
        "  - Count number of messages\n",
        "  - pivot event_type from rows into columns\n",
        "  - schema expected:\n",
        "  \n",
        "```\n",
        "|      date|channel|CLICKED|CREATED|OPEN|RECEIVED|SENT|\n",
        "+----------+-------+-------+-------+----+--------+----+\n",
        "|2024-12-03|    SMS|      4|      4|   1|       1|   5|\n",
        "|2024-12-03|   CHAT|      3|      7|   5|       8|   4|\n",
        "|2024-12-03|   PUSH|   NULL|      3|   4|       3|   4|\n",
        "```"
      ]
    },
    {
      "cell_type": "code",
      "execution_count": 198,
      "metadata": {
        "id": "UPHSMSXnTKgu",
        "colab": {
          "base_uri": "https://localhost:8080/"
        },
        "outputId": "a4e4fd91-e039-45e3-903f-293b3ba64b32"
      },
      "outputs": [
        {
          "output_type": "stream",
          "name": "stdout",
          "text": [
            "+--------+-------+-------+-------+----+--------+----+\n",
            "|    date|channel|CLICKED|CREATED|OPEN|RECEIVED|SENT|\n",
            "+--------+-------+-------+-------+----+--------+----+\n",
            "|20241223|    SMS|     43|     38|  40|      44|  41|\n",
            "|20241223|   CHAT|     44|     47|  45|      45|  43|\n",
            "|20241223|  OTHER|     43|     45|  39|      48|  45|\n",
            "|20241223|  EMAIL|     39|     45|  40|      44|  40|\n",
            "|20241223|   PUSH|     46|     41|  43|      47|  42|\n",
            "+--------+-------+-------+-------+----+--------+----+\n",
            "\n"
          ]
        }
      ],
      "source": [
        "# report 1\n",
        "# TODO\n",
        "\n",
        "from pyspark.sql.functions import *\n",
        "\n",
        "#dedup.show()\n",
        "aggregated_data = dedup.groupBy(\"date\", \"channel\", \"event_type\").agg(\n",
        "    count(\"message_id\").alias(\"message_count\")\n",
        ")\n",
        "\n",
        "\n",
        "pivoted_data = aggregated_data.groupBy(\"date\", \"channel\").pivot(\"event_type\").agg(first(\"message_count\"))\n",
        "\n",
        "\n",
        "pivoted_data.show()\n"
      ]
    },
    {
      "cell_type": "markdown",
      "metadata": {
        "id": "bxwOawo2lwQH"
      },
      "source": [
        "## Report 2\n",
        "\n",
        "- Identify the most active users by channel (sorted by number of iterations)\n",
        "- schema expected:\n",
        "\n",
        "```\n",
        "+-------+----------+----+-----+-----+----+---+\n",
        "|user_id|iterations|CHAT|EMAIL|OTHER|PUSH|SMS|\n",
        "+-------+----------+----+-----+-----+----+---+\n",
        "|   1022|         5|   2|    0|    1|   0|  2|\n",
        "|   1004|         4|   1|    1|    1|   1|  0|\n",
        "|   1013|         4|   0|    0|    2|   1|  1|\n",
        "|   1020|         4|   2|    0|    1|   1|  0|\n",
        "```\n"
      ]
    },
    {
      "cell_type": "code",
      "execution_count": 199,
      "metadata": {
        "id": "rsS7bkAJmWsW",
        "colab": {
          "base_uri": "https://localhost:8080/"
        },
        "outputId": "60406b46-dc07-4b8c-d08d-557f227128d3"
      },
      "outputs": [
        {
          "output_type": "stream",
          "name": "stdout",
          "text": [
            "+----------+--------------------+-----+----------+--------------------+-------+-------+--------------+--------+\n",
            "|country_id|           timestamp|value|event_type|          message_id|channel|user_id|       country|    date|\n",
            "+----------+--------------------+-----+----------+--------------------+-------+-------+--------------+--------+\n",
            "|      2007|2024-12-23 10:58:...| 1747|   CLICKED|02f6520a-2493-4ab...|   CHAT|   1046| United States|20241223|\n",
            "|      2006|2024-12-23 11:04:...| 2137|   CLICKED|02f6520a-2493-4ab...|  OTHER|   1009|United Kingdom|20241223|\n",
            "|      2013|2024-12-23 10:31:...|  152|   CLICKED|02f6520a-2493-4ab...|   PUSH|   1038|   South Korea|20241223|\n",
            "|      2005|2024-12-23 10:43:...|  867|   CREATED|02f6520a-2493-4ab...|   CHAT|   1031|         Italy|20241223|\n",
            "|      2005|2024-12-23 11:16:...| 2829|   CREATED|02f6520a-2493-4ab...|  EMAIL|   1007|         Italy|20241223|\n",
            "|      2003|2024-12-23 10:50:...| 1270|   CREATED|02f6520a-2493-4ab...|  OTHER|   1025|       Germany|20241223|\n",
            "|      2010|2024-12-23 10:40:...|  699|   CREATED|02f6520a-2493-4ab...|   PUSH|   1035|         Japan|20241223|\n",
            "|      2007|2024-12-23 11:28:...| 3550|      OPEN|02f6520a-2493-4ab...|   CHAT|   1031| United States|20241223|\n",
            "|      2001|2024-12-23 10:31:...|  182|      OPEN|02f6520a-2493-4ab...|  EMAIL|   1016|      Portugal|20241223|\n",
            "|      2012|2024-12-23 10:59:...| 1833|      OPEN|02f6520a-2493-4ab...|  OTHER|   1010|         India|20241223|\n",
            "|      2011|2024-12-23 12:07:...| 5905|      OPEN|02f6520a-2493-4ab...|   PUSH|   1030|         China|20241223|\n",
            "|      2012|2024-12-23 10:38:...|  554|      OPEN|02f6520a-2493-4ab...|    SMS|   1049|         India|20241223|\n",
            "|      2011|2024-12-23 10:37:...|  509|  RECEIVED|02f6520a-2493-4ab...|   CHAT|   1023|         China|20241223|\n",
            "|      2008|2024-12-23 10:49:...| 1232|  RECEIVED|02f6520a-2493-4ab...|  EMAIL|   1006|        Canada|20241223|\n",
            "|      2000|2024-12-23 10:36:...|  478|  RECEIVED|02f6520a-2493-4ab...|  OTHER|   1005|        Brazil|20241223|\n",
            "|      2002|2024-12-23 11:17:...| 2939|  RECEIVED|02f6520a-2493-4ab...|   PUSH|   1008|         Spain|20241223|\n",
            "|      2000|2024-12-23 10:35:...|  378|  RECEIVED|02f6520a-2493-4ab...|    SMS|   1009|        Brazil|20241223|\n",
            "|      2010|2024-12-23 11:00:...| 1888|      SENT|02f6520a-2493-4ab...|   CHAT|   1035|         Japan|20241223|\n",
            "|      2010|2024-12-23 10:45:...| 1010|      SENT|02f6520a-2493-4ab...|  EMAIL|   1039|         Japan|20241223|\n",
            "|      2003|2024-12-23 10:57:...| 1712|      SENT|02f6520a-2493-4ab...|  OTHER|   1012|       Germany|20241223|\n",
            "+----------+--------------------+-----+----------+--------------------+-------+-------+--------------+--------+\n",
            "only showing top 20 rows\n",
            "\n",
            "+-------+----------+----+-----+-----+----+---+\n",
            "|user_id|iterations|CHAT|EMAIL|OTHER|PUSH|SMS|\n",
            "+-------+----------+----+-----+-----+----+---+\n",
            "|   1025|        31|   8|    8|    6|   3|  6|\n",
            "|   1016|        17|   3|    4|    5|   3|  2|\n",
            "|   1005|        21|   4|    8|    3|   2|  4|\n",
            "|   1031|        24|   5|    3|    3|   9|  4|\n",
            "|   1034|        19|   4|    4|    3|   3|  5|\n",
            "|   1030|        22|   7|    5|    3|   4|  3|\n",
            "|   1019|        28|   6|    4|    6|   9|  3|\n",
            "|   1046|        20|   8|    4|    2|   1|  5|\n",
            "|   1008|        25|   3|    8|    9|   4|  1|\n",
            "|   1047|        22|   4|    3|    4|   8|  3|\n",
            "|   1021|        23|   6|    3|    5|   2|  7|\n",
            "|   1026|        18|   2|    4|    3|   4|  5|\n",
            "|   1028|        29|   7|    5|    5|  10|  2|\n",
            "|   1032|        21|   3|    1|   11|NULL|  6|\n",
            "|   1029|        18|   7|    4|    1|   2|  4|\n",
            "|   1010|        23|   2|    4|    4|   4|  9|\n",
            "|   1002|        20|   6|    3|    4|   4|  3|\n",
            "|   1050|        19|   4|    4|    4|   4|  3|\n",
            "|   1048|        20|   3|    5|    6|   2|  4|\n",
            "|   1035|        26|   6|    6|    4|   8|  2|\n",
            "+-------+----------+----+-----+-----+----+---+\n",
            "only showing top 20 rows\n",
            "\n"
          ]
        }
      ],
      "source": [
        "# report 2\n",
        "# TODO\n",
        "dedup.show()\n",
        "\n",
        "\n",
        "user_activity = dedup.groupBy(\"user_id\", \"channel\").agg(\n",
        "    F.count(\"message_id\").alias(\"message_count\")\n",
        ")\n",
        "\n",
        "# user total\n",
        "user_total = user_activity.groupBy(\"user_id\").agg(\n",
        "    F.sum(\"message_count\").alias(\"iterations\")\n",
        ")\n",
        "\n",
        "# user by channel\n",
        "user_by_channel= user_activity.groupBy(\"user_id\").pivot(\"channel\", [\"CHAT\", \"EMAIL\", \"OTHER\", \"PUSH\", \"SMS\"]).agg(F.first(\"message_count\"))\n",
        "\n",
        "\n",
        "final_report = user_total.join(user_by_channel, on=\"user_id\", how=\"left\")\n",
        "\n",
        "\n",
        "final_report.show()"
      ]
    },
    {
      "cell_type": "markdown",
      "metadata": {
        "id": "a9_kzDbDwDOS"
      },
      "source": [
        "# Challenge 3"
      ]
    },
    {
      "cell_type": "code",
      "execution_count": null,
      "metadata": {
        "id": "Ef0RjFTxwE5y"
      },
      "outputs": [],
      "source": [
        "# Theoretical question:\n",
        "\n",
        "# A new usecase requires the message data to be aggregate in near real time\n",
        "# They want to build a dashboard embedded in the platform website to analyze message data in low latency (few minutes)\n",
        "# This application will access directly the data aggregated by streaming process\n",
        "\n",
        "# Q1:\n",
        "- What would be your suggestion to achieve that using Spark Structure Streaming?\n",
        "Or would you choose a different data processing tool?\n",
        "\n",
        "You could use spark structure Streaming consuming date from kafka using Windowed Aggregations for agregating data and stateful processing to be used to track and update aggregates as new messages arrive\n",
        "\n",
        "- Which storage would you use and why? (database?, data lake?, kafka?)\n",
        "\n",
        "\n",
        "because the data will be consumed by a dashboard, it requires a fast query engine, which could be a real time database or a data warehouse like bigquery\n"
      ]
    }
  ],
  "metadata": {
    "colab": {
      "provenance": [],
      "include_colab_link": true
    },
    "kernelspec": {
      "display_name": "Python 3",
      "name": "python3"
    },
    "language_info": {
      "name": "python"
    }
  },
  "nbformat": 4,
  "nbformat_minor": 0
}