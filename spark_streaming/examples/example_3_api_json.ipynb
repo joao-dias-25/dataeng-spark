{
  "cells": [
    {
      "cell_type": "markdown",
      "metadata": {
        "id": "view-in-github",
        "colab_type": "text"
      },
      "source": [
        "<a href=\"https://colab.research.google.com/github/joao-dias-25/dataeng-spark/blob/main/spark_streaming/examples/example_3_api_json.ipynb\" target=\"_parent\"><img src=\"https://colab.research.google.com/assets/colab-badge.svg\" alt=\"Open In Colab\"/></a>"
      ]
    },
    {
      "cell_type": "markdown",
      "metadata": {
        "id": "4_GBE9UsyxwK"
      },
      "source": []
    },
    {
      "cell_type": "markdown",
      "metadata": {
        "id": "d9LeYFsPTjAb"
      },
      "source": [
        "# Setting up PySpark"
      ]
    },
    {
      "cell_type": "code",
      "execution_count": 1,
      "metadata": {
        "colab": {
          "base_uri": "https://localhost:8080/"
        },
        "id": "uYXeODL0T1fO",
        "outputId": "30988756-672c-4812-a4f0-7134982ff714"
      },
      "outputs": [
        {
          "output_type": "stream",
          "name": "stdout",
          "text": [
            "Requirement already satisfied: pyspark in /usr/local/lib/python3.10/dist-packages (3.5.3)\n",
            "Requirement already satisfied: py4j==0.10.9.7 in /usr/local/lib/python3.10/dist-packages (from pyspark) (0.10.9.7)\n"
          ]
        }
      ],
      "source": [
        "%pip install pyspark"
      ]
    },
    {
      "cell_type": "code",
      "execution_count": 2,
      "metadata": {
        "id": "637HFw00T3LP"
      },
      "outputs": [],
      "source": [
        "from pyspark.sql import SparkSession\n",
        "\n",
        "spark = SparkSession.builder.master('local').appName('Test streaming').getOrCreate()\n",
        "sc = spark.sparkContext"
      ]
    },
    {
      "cell_type": "code",
      "source": [
        "!rm -rf /content/landing\n",
        "!rm -rf /content/bronze\n",
        "!mkdir -p /content/landing"
      ],
      "metadata": {
        "id": "aF7fzyYIJi0l"
      },
      "execution_count": 60,
      "outputs": []
    },
    {
      "cell_type": "markdown",
      "source": [
        "## Simulate producer:\n",
        "- extract data from API\n",
        "- store data as json in the lake\n",
        "- run task async"
      ],
      "metadata": {
        "id": "RZdHGoFyTlMt"
      }
    },
    {
      "cell_type": "code",
      "source": [
        "import requests\n",
        "from pyspark.sql.types import *\n",
        "import json\n",
        "import datetime\n",
        "import asyncio\n",
        "\n",
        "async def ingest_from_api(url: str, table: str, schema: StructType = None):\n",
        "  response = requests.get(url)\n",
        "  timestamp = datetime.datetime.now().strftime(\"%Y%m%d%H%M%S\")\n",
        "  if response.status_code == 200:\n",
        "    data = response.json()\n",
        "    with open(f\"/content/landing/{table}_{int(timestamp)}.json\", \"w\") as f:\n",
        "        json.dump(data, f)\n",
        "\n",
        "async def producer(loop: int, interval_time: int):\n",
        "  for i in range(loop):\n",
        "    await ingest_from_api(\"https://api.carrismetropolitana.pt/vehicles\", \"vehicles\")\n",
        "    await ingest_from_api(\"https://api.carrismetropolitana.pt/lines\", \"lines\")\n",
        "    await asyncio.sleep(interval_time)\n",
        "\n",
        "async def main():\n",
        "  asyncio.create_task(producer(10, 30))\n",
        "\n",
        "await main()"
      ],
      "metadata": {
        "id": "tTQhp8UbFUCl"
      },
      "execution_count": 61,
      "outputs": []
    },
    {
      "cell_type": "markdown",
      "source": [
        "- Read from /content/landing as streaming\n",
        "- store data in memory (for testing)\n",
        "- store data in the bronze layer"
      ],
      "metadata": {
        "id": "kIqHdZEKUEmo"
      }
    },
    {
      "cell_type": "code",
      "source": [
        "from pyspark.sql.types import *\n",
        "\n",
        "vehicle_schema = StructType([StructField('bearing', IntegerType(), True),\n",
        "                             StructField('block_id', StringType(), True),\n",
        "                             StructField('current_status', StringType(), True),\n",
        "                             StructField('id', StringType(), True),\n",
        "                             StructField('lat', FloatType(), True),\n",
        "                             StructField('line_id', StringType(), True),\n",
        "                             StructField('lon', FloatType(), True),\n",
        "                             StructField('pattern_id', StringType(), True),\n",
        "                             StructField('route_id', StringType(), True),\n",
        "                             StructField('schedule_relationship', StringType(), True),\n",
        "                             StructField('shift_id', StringType(), True),\n",
        "                             StructField('speed', FloatType(), True),\n",
        "                             StructField('stop_id', StringType(), True),\n",
        "                             StructField('timestamp', TimestampType(), True),\n",
        "                             StructField('trip_id', StringType(), True)])\n",
        "\n",
        "stream = spark.readStream.format(\"json\").schema(vehicle_schema).load(\"/content/landing/vehicles*\")\n",
        "\n",
        "dedup = stream.dropDuplicates()"
      ],
      "metadata": {
        "id": "_dTSf527Fhy0"
      },
      "execution_count": 62,
      "outputs": []
    },
    {
      "cell_type": "code",
      "source": [
        "dedup.isStreaming"
      ],
      "metadata": {
        "id": "KVIzMyxhd_ka",
        "outputId": "c8b46e64-aaf7-4abc-b935-00eed1df1c92",
        "colab": {
          "base_uri": "https://localhost:8080/"
        }
      },
      "execution_count": 63,
      "outputs": [
        {
          "output_type": "execute_result",
          "data": {
            "text/plain": [
              "True"
            ]
          },
          "metadata": {},
          "execution_count": 63
        }
      ]
    },
    {
      "cell_type": "code",
      "source": [
        "!ls /content/landing | wc"
      ],
      "metadata": {
        "id": "ufant1WFfsSm",
        "outputId": "52028044-a1a9-4d4b-99af-db55e450c6da",
        "colab": {
          "base_uri": "https://localhost:8080/"
        }
      },
      "execution_count": 20,
      "outputs": [
        {
          "output_type": "stream",
          "name": "stdout",
          "text": [
            "     20      20     550\n"
          ]
        }
      ]
    },
    {
      "cell_type": "code",
      "source": [
        "# using memory for testing\n",
        "try:\n",
        "  if query.isActive:\n",
        "    query.stop()\n",
        "except:\n",
        "  pass\n",
        "\n",
        "\n",
        "query = (dedup.writeStream.format(\"memory\").option(\"queryName\", \"vehicles\").start())\n",
        "# memory option é so usada para troubleshooting"
      ],
      "metadata": {
        "id": "9N99eI41UUFA"
      },
      "execution_count": 9,
      "outputs": []
    },
    {
      "cell_type": "code",
      "source": [
        "query.status"
      ],
      "metadata": {
        "id": "B6DtbntJgcg_",
        "outputId": "ad3cf2e3-70ab-4277-9a6c-72db3cae7120",
        "colab": {
          "base_uri": "https://localhost:8080/"
        }
      },
      "execution_count": 22,
      "outputs": [
        {
          "output_type": "execute_result",
          "data": {
            "text/plain": [
              "{'message': 'Waiting for data to arrive',\n",
              " 'isDataAvailable': False,\n",
              " 'isTriggerActive': False}"
            ]
          },
          "metadata": {},
          "execution_count": 22
        }
      ]
    },
    {
      "cell_type": "code",
      "source": [
        "spark.sql(\"select * from vehicles\").show()"
      ],
      "metadata": {
        "id": "wT9pNrwoXBi4",
        "outputId": "d9e5cc35-ee28-427c-be77-fec2be70c09c",
        "colab": {
          "base_uri": "https://localhost:8080/"
        }
      },
      "execution_count": 10,
      "outputs": [
        {
          "output_type": "stream",
          "name": "stdout",
          "text": [
            "+-------+--------------------+--------------+--------+---------+-------+---------+----------+--------+---------------------+------------+---------+-------+-------------------+--------------------+\n",
            "|bearing|            block_id|current_status|      id|      lat|line_id|      lon|pattern_id|route_id|schedule_relationship|    shift_id|    speed|stop_id|          timestamp|             trip_id|\n",
            "+-------+--------------------+--------------+--------+---------+-------+---------+----------+--------+---------------------+------------+---------+-------+-------------------+--------------------+\n",
            "|    197|20241130-64020022...| IN_TRANSIT_TO|44|12093|38.526863|   4441|-8.890469|  4441_0_2|  4441_0|            SCHEDULED|112030000007|      0.0| 160099|2024-11-30 09:46:52|4441_0_2|3000|093...|\n",
            "|    169|      ESC_SAB_ES1019| IN_TRANSIT_TO| 43|2311|38.617603|   3112|-9.098939|  3112_0_2|  3112_0|            SCHEDULED|      ES1021|7.7777777| 140324|2024-11-30 09:46:55|3112_0_2_0930_095...|\n",
            "|    312|      ESC_SAB_ES1033| IN_TRANSIT_TO| 43|2003|38.639313|   3503|-9.155036|  3503_0_2|  3503_0|            SCHEDULED|      ES1033|4.4444447| 140687|2024-11-30 09:45:40|3503_0_2_0930_095...|\n",
            "|    344|           2_2318-21| IN_TRANSIT_TO| 41|1243| 38.76566|   1209| -9.29835|  1209_1_1|  1209_1|            SCHEDULED|        2318|7.7777777| 170459|2024-11-30 09:46:18|1209_1_1_0900_092...|\n",
            "|    102|           2_2306-21|   INCOMING_AT| 41|1212|  38.6849|   1614|-9.327638|  1614_0_1|  1614_0|            SCHEDULED|        2321|10.277778| 050013|2024-11-30 09:46:46|1614_0_1_0930_095...|\n",
            "|      0|      ESC_SAB_ES1009|    STOPPED_AT| 43|2376|38.628788|   3512|-9.125926|  3512_0_2|  3512_0|            SCHEDULED|      ES1011|      0.0| 140758|2024-11-30 09:46:45|3512_0_2_0930_095...|\n",
            "|     53|      ESC_SAB_ES2017| IN_TRANSIT_TO| 43|2085|38.681374|   3014|-9.154001|  3014_0_2|  3014_0|            SCHEDULED|      ES2017|6.6666665| 020031|2024-11-30 09:46:38|3014_0_2_0900_092...|\n",
            "|     84|      ESC_SAB_ES2077| IN_TRANSIT_TO| 43|2087| 38.62331|   3524|-9.197888|  3524_0_2|  3524_0|            SCHEDULED|      ES2077|12.777778| 020334|2024-11-30 09:46:37|3524_0_2_0900_092...|\n",
            "|     12|           2_2030-21| IN_TRANSIT_TO| 41|1353| 38.76273|   1515|-9.256314|  1515_0_1|  1515_0|            SCHEDULED|        2030|1.3888888| 170596|2024-11-30 09:45:49|1515_0_1_0900_092...|\n",
            "|      0|      ESC_SAB_ES3017|    STOPPED_AT|  43|641| 38.62052|   3535|-9.118468|  3535_0_2|  3535_0|            SCHEDULED|      ES3017|      0.0| 140108|2024-11-30 09:46:07|3535_0_2_0830_085...|\n",
            "|      0|             4005-21|    STOPPED_AT| 42|2301|38.870033|   2790|-9.061703|  2790_0_2|  2790_0|            SCHEDULED|        4005|      0.0| 180533|2024-11-30 09:46:46|2790_0_2|2|1|0900...|\n",
            "|     50|           2_2029-21| IN_TRANSIT_TO| 41|1341| 38.74951|   1502|-9.232798|  1502_0_1|  1502_0|            SCHEDULED|        2029|2.2222223| 030535|2024-11-30 09:46:20|1502_0_1_0900_092...|\n",
            "|      0|      ESC_SAB_ES1014|    STOPPED_AT| 43|2222| 38.63465|   3505|-9.144163|  3505_0_1|  3505_0|            SCHEDULED|      ES1050|      0.0| 140093|2024-11-30 09:46:51|3505_0_1_0900_092...|\n",
            "|    305|      ESC_SAB_ES3014|   INCOMING_AT|  43|662|38.547066|   3541|-9.071535|  3541_0_1|  3541_0|            SCHEDULED|      ES3014|      0.0| 150546|2024-11-30 09:46:25|3541_0_1_0930_095...|\n",
            "|    292|           2_2410-21| IN_TRANSIT_TO| 41|1346| 38.72154|   1529|-9.307978|  1529_1_1|  1529_1|            SCHEDULED|        2410|3.6111112| 120941|2024-11-30 09:46:43|1529_1_1_0930_095...|\n",
            "|      4|           2_2721-21| IN_TRANSIT_TO| 41|1411|38.783882|   1631|-9.330174|  1631_0_1|  1631_0|            SCHEDULED|        2721|7.2222223| 170063|2024-11-30 09:46:55|1631_0_1_0830_085...|\n",
            "|    129|      ESC_SAB_ES1012|    STOPPED_AT| 43|2354|38.620346|   3119|-9.127888|  3119_0_2|  3119_0|            SCHEDULED|      ES1015|      0.0| 149990|2024-11-30 09:46:51|3119_0_2_0900_092...|\n",
            "|    305|20241130-64020233...|    STOPPED_AT|44|12702|38.649734|   4701|-8.997864|  4701_0_1|  4701_0|            SCHEDULED|123130000007|      0.0| 090183|2024-11-30 09:46:50|4701_0_1|3000|091...|\n",
            "|     23|           2_2709-21| IN_TRANSIT_TO| 41|1211|38.872116|   1249|-9.426469|  1249_0_1|  1249_0|            SCHEDULED|        2709| 9.722222| 171773|2024-11-30 09:46:37|1249_0_1_0900_092...|\n",
            "|    289|      ESC_SAB_ES2081| IN_TRANSIT_TO| 43|2324|38.668243|   3011| -9.16562|  3011_0_1|  3011_0|            SCHEDULED|      ES2081|3.8888888| 020357|2024-11-30 09:46:12|3011_0_1_0930_095...|\n",
            "+-------+--------------------+--------------+--------+---------+-------+---------+----------+--------+---------------------+------------+---------+-------+-------------------+--------------------+\n",
            "only showing top 20 rows\n",
            "\n"
          ]
        }
      ]
    },
    {
      "cell_type": "code",
      "source": [
        "query.stop()"
      ],
      "metadata": {
        "id": "u8L6b_Rmj8oF"
      },
      "execution_count": 25,
      "outputs": []
    },
    {
      "cell_type": "code",
      "source": [
        "!rm -rf /content/bronze"
      ],
      "metadata": {
        "id": "W1BCl7BCXo_v"
      },
      "execution_count": 26,
      "outputs": []
    },
    {
      "cell_type": "code",
      "source": [
        "from pyspark.sql.functions import *\n",
        "\n",
        "# watermark is necessary because of the aggregation\n",
        "transformed = stream.withWatermark(\"timestamp\", \"60 seconds\")\n",
        "agg = (transformed\n",
        "       .groupBy(window(transformed.timestamp, \"2 minutes\"), col(\"current_status\"))\n",
        "       .agg(min(transformed.timestamp).alias(\"init_timestamp\"), count(\"*\").alias(\"count\")))\n",
        "\n",
        "def insert_vehicles(df, batch_id):\n",
        "  #df2 = df.groupBy(\"window\").pivot(\"current_status\").sum(\"count\")\n",
        "  df.write.format(\"parquet\").mode(\"append\").save(\"/content/bronze/vehicles\")\n",
        "\n",
        "# using memory for testing\n",
        "query2 = (agg\n",
        "          .writeStream\n",
        "          .outputMode(\"append\")\n",
        "          .foreachBatch(insert_vehicles)\n",
        "          .option(\"checkpointLocation\", \"/content/bronze/checkpoint\")\n",
        "          .trigger(processingTime='20 seconds')\n",
        "          .start())"
      ],
      "metadata": {
        "id": "xyDkRdgLUZZt"
      },
      "execution_count": 64,
      "outputs": []
    },
    {
      "cell_type": "code",
      "source": [
        "spark.read.format(\"parquet\").load(\"/content/bronze/vehicles/*\").show(100, False)"
      ],
      "metadata": {
        "id": "d6xqFWyKdujI",
        "outputId": "272dbed4-2bd1-4346-fe48-5dd3be9eeb1f",
        "colab": {
          "base_uri": "https://localhost:8080/"
        }
      },
      "execution_count": 84,
      "outputs": [
        {
          "output_type": "stream",
          "name": "stdout",
          "text": [
            "+------------------------------------------+--------------+-------------------+-----+\n",
            "|window                                    |current_status|init_timestamp     |count|\n",
            "+------------------------------------------+--------------+-------------------+-----+\n",
            "|{2024-11-30 10:33:00, 2024-11-30 10:36:00}|IN_TRANSIT_TO |2024-11-30 10:33:56|650  |\n",
            "|{2024-11-30 10:33:00, 2024-11-30 10:36:00}|INCOMING_AT   |2024-11-30 10:33:47|195  |\n",
            "|{2024-11-30 10:33:00, 2024-11-30 10:36:00}|STOPPED_AT    |2024-11-30 10:33:46|281  |\n",
            "+------------------------------------------+--------------+-------------------+-----+\n",
            "\n"
          ]
        }
      ]
    },
    {
      "cell_type": "markdown",
      "source": [
        "## Report\n",
        "- show vehicles by status in 5-min window time\n",
        "- one line per window time"
      ],
      "metadata": {
        "id": "62oGSmx4S8Ch"
      }
    },
    {
      "cell_type": "code",
      "source": [
        "def pivot_data(df: DataFrame):\n",
        "  result = df.orderBy(\"init_timestamp\").groupBy(\"window\").pivot(\"current_status\").sum(\"count\")\n",
        "  result.show(100, False)\n",
        "\n",
        "df = spark.read.format(\"parquet\").load(\"/content/bronze/vehicles/*\")\n",
        "pivot_data(df)"
      ],
      "metadata": {
        "id": "x38lvoysfKLy",
        "outputId": "4a7a33f6-ae4b-437c-857b-055303597774",
        "colab": {
          "base_uri": "https://localhost:8080/"
        }
      },
      "execution_count": 85,
      "outputs": [
        {
          "output_type": "stream",
          "name": "stdout",
          "text": [
            "+------------------------------------------+-----------+-------------+----------+\n",
            "|window                                    |INCOMING_AT|IN_TRANSIT_TO|STOPPED_AT|\n",
            "+------------------------------------------+-----------+-------------+----------+\n",
            "|{2024-11-30 10:33:00, 2024-11-30 10:36:00}|195        |650          |281       |\n",
            "+------------------------------------------+-----------+-------------+----------+\n",
            "\n"
          ]
        }
      ]
    },
    {
      "cell_type": "code",
      "source": [
        "query2.stop()"
      ],
      "metadata": {
        "id": "pyDwzbdmO29f"
      },
      "execution_count": 55,
      "outputs": []
    },
    {
      "cell_type": "code",
      "source": [],
      "metadata": {
        "id": "3ETfknUmUeZg"
      },
      "execution_count": null,
      "outputs": []
    }
  ],
  "metadata": {
    "colab": {
      "provenance": [],
      "include_colab_link": true
    },
    "kernelspec": {
      "display_name": "Python 3",
      "name": "python3"
    },
    "language_info": {
      "name": "python"
    }
  },
  "nbformat": 4,
  "nbformat_minor": 0
}