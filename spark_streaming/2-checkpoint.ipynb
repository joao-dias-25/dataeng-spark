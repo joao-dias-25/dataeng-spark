{
  "cells": [
    {
      "cell_type": "markdown",
      "metadata": {
        "id": "view-in-github",
        "colab_type": "text"
      },
      "source": [
        "<a href=\"https://colab.research.google.com/github/joao-dias-25/dataeng-spark/blob/main/spark_streaming/2-checkpoint.ipynb\" target=\"_parent\"><img src=\"https://colab.research.google.com/assets/colab-badge.svg\" alt=\"Open In Colab\"/></a>"
      ]
    },
    {
      "cell_type": "markdown",
      "metadata": {
        "id": "4_GBE9UsyxwK"
      },
      "source": []
    },
    {
      "cell_type": "markdown",
      "metadata": {
        "id": "BOA_wQSmLd9z"
      },
      "source": [
        "# Checkpoint"
      ]
    },
    {
      "cell_type": "markdown",
      "metadata": {
        "id": "d9LeYFsPTjAb"
      },
      "source": [
        "# Setting up PySpark"
      ]
    },
    {
      "cell_type": "code",
      "execution_count": 1,
      "metadata": {
        "colab": {
          "base_uri": "https://localhost:8080/"
        },
        "id": "uYXeODL0T1fO",
        "outputId": "d1b459e5-6484-44b0-8562-10c1b42e11cd"
      },
      "outputs": [
        {
          "output_type": "stream",
          "name": "stdout",
          "text": [
            "Requirement already satisfied: pyspark in /usr/local/lib/python3.10/dist-packages (3.5.3)\n",
            "Requirement already satisfied: py4j==0.10.9.7 in /usr/local/lib/python3.10/dist-packages (from pyspark) (0.10.9.7)\n"
          ]
        }
      ],
      "source": [
        "%pip install pyspark"
      ]
    },
    {
      "cell_type": "code",
      "execution_count": 2,
      "metadata": {
        "id": "637HFw00T3LP"
      },
      "outputs": [],
      "source": [
        "from pyspark.sql import SparkSession\n",
        "\n",
        "spark = SparkSession.builder.master('local').appName('Test streaming').getOrCreate()"
      ]
    },
    {
      "cell_type": "code",
      "source": [
        "!rm -rf content/input/*\n",
        "!rm -rf content/output/*\n",
        "!rm -rf content/checkpoint/*"
      ],
      "metadata": {
        "id": "Wx-vNUM9eWjh"
      },
      "execution_count": 3,
      "outputs": []
    },
    {
      "cell_type": "code",
      "source": [
        "from datetime import datetime\n",
        "import csv\n",
        "\n",
        "def generate_file():\n",
        "  timestamp = datetime.now().strftime(\"%Y%m%d%H%M%S\")\n",
        "  filename = f\"content/input/file_{timestamp}.csv\"\n",
        "  with open(filename, 'w', newline='') as csvfile:\n",
        "      fieldnames = ['col', 'value', 'file']\n",
        "      writer = csv.DictWriter(csvfile, fieldnames=fieldnames, delimiter=\";\")\n",
        "      writer.writeheader()\n",
        "      writer.writerow({'col': 'c1', 'value': 'v1', 'file': filename})\n",
        "      writer.writerow({'col': 'c2', 'value': 'v2', 'file': filename})\n",
        "      writer.writerow({'col': 'c3', 'value': 'v3', 'file': filename})\n",
        "\n",
        "!mkdir -p content/input"
      ],
      "metadata": {
        "id": "8-4gd_2WWDZI"
      },
      "execution_count": 4,
      "outputs": []
    },
    {
      "cell_type": "code",
      "source": [
        "spark.read.format(\"csv\").option(\"sep\", \";\").option(\"header\", True).load(\"content/input/\").show(100, False)"
      ],
      "metadata": {
        "id": "yBPux6iaagTL",
        "outputId": "7d81620a-e685-48db-860d-aaefcb078434",
        "colab": {
          "base_uri": "https://localhost:8080/"
        }
      },
      "execution_count": 45,
      "outputs": [
        {
          "output_type": "stream",
          "name": "stdout",
          "text": [
            "+---+-----+-------------------------------------+\n",
            "|col|value|file                                 |\n",
            "+---+-----+-------------------------------------+\n",
            "|c1 |v1   |content/input/file_20241123144806.csv|\n",
            "|c2 |v2   |content/input/file_20241123144806.csv|\n",
            "|c3 |v3   |content/input/file_20241123144806.csv|\n",
            "|c1 |v1   |content/input/file_20241123144159.csv|\n",
            "|c2 |v2   |content/input/file_20241123144159.csv|\n",
            "|c3 |v3   |content/input/file_20241123144159.csv|\n",
            "|c1 |v1   |content/input/file_20241123143458.csv|\n",
            "|c2 |v2   |content/input/file_20241123143458.csv|\n",
            "|c3 |v3   |content/input/file_20241123143458.csv|\n",
            "|c1 |v1   |content/input/file_20241123144140.csv|\n",
            "|c2 |v2   |content/input/file_20241123144140.csv|\n",
            "|c3 |v3   |content/input/file_20241123144140.csv|\n",
            "|c1 |v1   |content/input/file_20241123144628.csv|\n",
            "|c2 |v2   |content/input/file_20241123144628.csv|\n",
            "|c3 |v3   |content/input/file_20241123144628.csv|\n",
            "|c1 |v1   |content/input/file_20241123143533.csv|\n",
            "|c2 |v2   |content/input/file_20241123143533.csv|\n",
            "|c3 |v3   |content/input/file_20241123143533.csv|\n",
            "|c1 |v1   |content/input/file_20241123143530.csv|\n",
            "|c2 |v2   |content/input/file_20241123143530.csv|\n",
            "|c3 |v3   |content/input/file_20241123143530.csv|\n",
            "+---+-----+-------------------------------------+\n",
            "\n"
          ]
        }
      ]
    },
    {
      "cell_type": "code",
      "source": [
        "generate_file()"
      ],
      "metadata": {
        "id": "F2oCKEUXXSR-"
      },
      "execution_count": 54,
      "outputs": []
    },
    {
      "cell_type": "code",
      "source": [
        "from pyspark.sql.types import *\n",
        "\n",
        "schema = StructType([\n",
        "StructField('Col',StringType(),True),\n",
        "StructField('Value',StringType(),True),\n",
        "StructField('File',StringType(),True)\n",
        "])\n",
        "\n",
        "stream = spark.readStream.format('csv').schema(schema).option(\"sep\", \";\").option('header', True).load('content/input/')"
      ],
      "metadata": {
        "id": "dEpmqZ2-XUvI"
      },
      "execution_count": 55,
      "outputs": []
    },
    {
      "cell_type": "code",
      "source": [
        "stream.isStreaming"
      ],
      "metadata": {
        "id": "bIq_b4HNc_TC",
        "outputId": "d2fc1f90-f855-40b6-a6c0-724ca0f51875",
        "colab": {
          "base_uri": "https://localhost:8080/"
        }
      },
      "execution_count": 56,
      "outputs": [
        {
          "output_type": "execute_result",
          "data": {
            "text/plain": [
              "True"
            ]
          },
          "metadata": {},
          "execution_count": 56
        }
      ]
    },
    {
      "cell_type": "code",
      "source": [
        "query = (stream.writeStream\n",
        ".format('csv')\n",
        ".option(\"header\", True)\n",
        ".queryName(\"stream\")\n",
        ".option('checkpointLocation', 'content/checkpoint')\n",
        ".option('path', 'content/output')\n",
        ".trigger(processingTime='5 seconds')\n",
        ".outputMode('append')\n",
        ".start()\n",
        ")"
      ],
      "metadata": {
        "id": "1C2h4x86ZuUl"
      },
      "execution_count": 60,
      "outputs": []
    },
    {
      "cell_type": "code",
      "source": [
        "print(spark.read.csv('content/output', header=True, sep=\";\").count())\n",
        "spark.read.csv('content/output', header=True, sep=\",\").show(100, False)"
      ],
      "metadata": {
        "id": "ZTZYvbd7bQXO",
        "outputId": "9b7413b5-3b36-4445-9ebc-da620944272a",
        "colab": {
          "base_uri": "https://localhost:8080/"
        }
      },
      "execution_count": 58,
      "outputs": [
        {
          "output_type": "stream",
          "name": "stdout",
          "text": [
            "21\n",
            "+---+-----+-------------------------------------+\n",
            "|Col|Value|File                                 |\n",
            "+---+-----+-------------------------------------+\n",
            "|c1 |v1   |content/input/file_20241123143458.csv|\n",
            "|c2 |v2   |content/input/file_20241123143458.csv|\n",
            "|c3 |v3   |content/input/file_20241123143458.csv|\n",
            "|c1 |v1   |content/input/file_20241123143530.csv|\n",
            "|c2 |v2   |content/input/file_20241123143530.csv|\n",
            "|c3 |v3   |content/input/file_20241123143530.csv|\n",
            "|c1 |v1   |content/input/file_20241123143533.csv|\n",
            "|c2 |v2   |content/input/file_20241123143533.csv|\n",
            "|c3 |v3   |content/input/file_20241123143533.csv|\n",
            "|c1 |v1   |content/input/file_20241123144140.csv|\n",
            "|c2 |v2   |content/input/file_20241123144140.csv|\n",
            "|c3 |v3   |content/input/file_20241123144140.csv|\n",
            "|c1 |v1   |content/input/file_20241123144159.csv|\n",
            "|c2 |v2   |content/input/file_20241123144159.csv|\n",
            "|c3 |v3   |content/input/file_20241123144159.csv|\n",
            "|c1 |v1   |content/input/file_20241123144628.csv|\n",
            "|c2 |v2   |content/input/file_20241123144628.csv|\n",
            "|c3 |v3   |content/input/file_20241123144628.csv|\n",
            "|c1 |v1   |content/input/file_20241123144806.csv|\n",
            "|c2 |v2   |content/input/file_20241123144806.csv|\n",
            "|c3 |v3   |content/input/file_20241123144806.csv|\n",
            "+---+-----+-------------------------------------+\n",
            "\n"
          ]
        }
      ]
    },
    {
      "cell_type": "code",
      "source": [
        "query.stop()"
      ],
      "metadata": {
        "id": "uzQLfia6b1DM"
      },
      "execution_count": 50,
      "outputs": []
    },
    {
      "cell_type": "code",
      "source": [
        "query.isActive"
      ],
      "metadata": {
        "id": "pV_rix5FeNQN",
        "outputId": "1252421a-3da1-4d82-d8af-9afd90d4c4cb",
        "colab": {
          "base_uri": "https://localhost:8080/"
        }
      },
      "execution_count": 51,
      "outputs": [
        {
          "output_type": "execute_result",
          "data": {
            "text/plain": [
              "False"
            ]
          },
          "metadata": {},
          "execution_count": 51
        }
      ]
    },
    {
      "cell_type": "code",
      "source": [],
      "metadata": {
        "id": "76NMJaMFeGb_"
      },
      "execution_count": null,
      "outputs": []
    }
  ],
  "metadata": {
    "colab": {
      "provenance": [],
      "include_colab_link": true
    },
    "kernelspec": {
      "display_name": "Python 3",
      "name": "python3"
    },
    "language_info": {
      "name": "python"
    }
  },
  "nbformat": 4,
  "nbformat_minor": 0
}