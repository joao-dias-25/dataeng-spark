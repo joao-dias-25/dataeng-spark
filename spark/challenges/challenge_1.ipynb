{
  "cells": [
    {
      "cell_type": "markdown",
      "metadata": {
        "id": "view-in-github",
        "colab_type": "text"
      },
      "source": [
        "<a href=\"https://colab.research.google.com/github/joao-dias-25/dataeng-spark/blob/main/spark/challenges/challenge_1.ipynb\" target=\"_parent\"><img src=\"https://colab.research.google.com/assets/colab-badge.svg\" alt=\"Open In Colab\"/></a>"
      ]
    },
    {
      "cell_type": "markdown",
      "metadata": {
        "id": "BOA_wQSmLd9z"
      },
      "source": [
        "# CHALLENGE 1\n",
        "##  Implement INGESTION process\n",
        "- Set up path in the \"lake\"\n",
        "  - !mkdir -p /content/lake/bronze\n",
        "\n",
        "- Read data from API https://api.carrismetropolitana.pt/\n",
        "  - Endpoints:\n",
        "    - vehicles\n",
        "    - lines\n",
        "    - municipalities\n",
        "  - Use StructFields to enforce schema\n",
        "\n",
        "- Transformations\n",
        "  - vehicles\n",
        "    - create \"date\" extracted from \"timestamp\" column (format: hh24miss)\n",
        "\n",
        "- Write data as PARQUET into the BRONZE layer (/content/lake/bronze)\n",
        "  - Partition \"vehicles\" by \"date\" column\n",
        "  - Paths:\n",
        "    - vehicles - path: /content/lake/bronze/vehicles\n",
        "    - lines - path: /content/lake/bronze/lines\n",
        "    - municipalities - path: /content/lake/bronze/municipalities\n",
        "  - Make sure there is only 1 single parquet created\n",
        "  - Use overwrite as write mode"
      ]
    },
    {
      "cell_type": "markdown",
      "metadata": {
        "id": "d9LeYFsPTjAb"
      },
      "source": [
        "# Setting up PySpark"
      ]
    },
    {
      "cell_type": "code",
      "execution_count": 1,
      "metadata": {
        "colab": {
          "base_uri": "https://localhost:8080/"
        },
        "id": "uYXeODL0T1fO",
        "outputId": "4157ceca-8f49-48d5-bbbd-34fd020ab26d"
      },
      "outputs": [
        {
          "output_type": "stream",
          "name": "stdout",
          "text": [
            "Requirement already satisfied: pyspark in /usr/local/lib/python3.10/dist-packages (3.5.3)\n",
            "Requirement already satisfied: py4j==0.10.9.7 in /usr/local/lib/python3.10/dist-packages (from pyspark) (0.10.9.7)\n"
          ]
        }
      ],
      "source": [
        "%pip install pyspark"
      ]
    },
    {
      "cell_type": "code",
      "source": [],
      "metadata": {
        "id": "jxo6fEs_maYi"
      },
      "execution_count": 2,
      "outputs": []
    },
    {
      "cell_type": "code",
      "source": [
        "\n",
        "from pyspark.sql import DataFrame, SparkSession\n",
        "from pyspark.sql.functions import *\n",
        "from pyspark.sql.types import *\n",
        "import requests\n",
        "\n",
        "class ETLFlow:\n",
        "    def __init__(self, spark: SparkSession) -> None:\n",
        "        self.spark = spark\n",
        "\n",
        "    def extract_from_file(self, format: str, path: str, **kwargs) -> DataFrame:\n",
        "        df = self.spark.read.format(format).load(path)\n",
        "        return df\n",
        "\n",
        "    def extract_from_api(self, url: str, schema: StructType = None):\n",
        "      response = requests.get(url)\n",
        "      rdd = spark.sparkContext.parallelize(response.json())\n",
        "      if schema:\n",
        "        df = spark.read.schema(schema).json(rdd)\n",
        "      else:\n",
        "        df = spark.read.json(rdd)\n",
        "      return df\n",
        "\n",
        "    def load(self, df: DataFrame, format: str, path: str, **kwargs) -> None:\n",
        "        df.write.mode(\"overwrite\").format(format).save(path)\n",
        "\n",
        "class ETLTask(ETLFlow):\n",
        "\n",
        "    def __init__(self, spark: SparkSession) -> None:\n",
        "        self.spark = spark\n",
        "\n",
        "    def ingestion_vehicles(self):\n",
        "      vehicle_schema = StructType([StructField('bearing', IntegerType(), True),\n",
        "                                  StructField('block_id', StringType(), True),\n",
        "                                  StructField('current_status', StringType(), True),\n",
        "                                  StructField('id', StringType(), True),\n",
        "                                  StructField('lat', FloatType(), True),\n",
        "                                  StructField('line_id', StringType(), True),\n",
        "                                  StructField('lon', FloatType(), True),\n",
        "                                  StructField('pattern_id', StringType(), True),\n",
        "                                  StructField('route_id', StringType(), True),\n",
        "                                  StructField('schedule_relationship', StringType(), True),\n",
        "                                  StructField('shift_id', StringType(), True),\n",
        "                                  StructField('speed', FloatType(), True),\n",
        "                                  StructField('stop_id', StringType(), True),\n",
        "                                  StructField('timestamp', TimestampType(), True),\n",
        "                                  StructField('trip_id', StringType(), True)])\n",
        "\n",
        "      df = self.extract_from_api(url=\"https://api.carrismetropolitana.pt/vehicles\", schema=vehicle_schema)\n",
        "      df = df.withColumn('date', date_format('timestamp',\"HHmmss\"))\n",
        "      self.load(df=df, format=\"parquet\", path=\"/content/lake/bronze/vehicles\")\n",
        "\n",
        "    def ingestion_lines(self):\n",
        "\n",
        "\n",
        "      df = self.extract_from_api(url=\"https://api.carrismetropolitana.pt/lines\")\n",
        "\n",
        "      self.load(df=df, format=\"parquet\", path=\"/content/lake/bronze/lines\")\n",
        "\n",
        "    def ingestion_municipalities(self):\n",
        "\n",
        "\n",
        "      df = self.extract_from_api(url=\"https://api.carrismetropolitana.pt/municipalities\")\n",
        "\n",
        "      self.load(df=df, format=\"parquet\", path=\"/content/lake/bronze/municipalities\")\n",
        "\n",
        "    def cleansing_vehicles(self):\n",
        "      df = self.extract_from_file(format=\"parquet\", path=\"/content/lake/bronze/vehicles\")\n",
        "\n",
        "      # transformations\n",
        "      #df = df.withColumn(\"date\", lit(\"test\"))\n",
        "      df = df.drop_duplicates()\n",
        "\n",
        "      self.load(df=df, format=\"parquet\", path=\"/content/lake/silver/vehicles\")\n",
        "\n",
        "\n",
        "\n",
        "    def enrich(self):\n",
        "        pass\n",
        "\n",
        "\n",
        "if __name__ == '__main__':\n",
        "\n",
        "    # init spark\n",
        "    from pyspark.sql import SparkSession\n",
        "    spark = SparkSession.builder.master('local').appName('ETL Program').getOrCreate()\n",
        "\n",
        "    print(\"Starting ETL program\")\n",
        "    etl = ETLTask(spark)\n",
        "\n",
        "    # run tasks\n",
        "    print(\"Running Task - Ingestion Vehicles\")\n",
        "    etl.ingestion_vehicles()\n",
        "\n",
        "    print(\"Running Task - Ingestion lines\")\n",
        "    etl.ingestion_lines()\n",
        "\n",
        "    print(\"Running Task - ingestion municipalities \")\n",
        "    etl.ingestion_municipalities()\n",
        "\n",
        "    print(\"Running Task - Cleansing Vehicles\")\n",
        "    etl.cleansing_vehicles()\n",
        "\n",
        "    #etl.enrich()\n",
        "\n",
        "    print(\"ETL program completed\")"
      ],
      "metadata": {
        "colab": {
          "base_uri": "https://localhost:8080/"
        },
        "id": "eO9yZo9gnJOM",
        "outputId": "0bf49d0d-4a8b-4e7d-d922-d1ef4ff2c283"
      },
      "execution_count": 31,
      "outputs": [
        {
          "output_type": "stream",
          "name": "stdout",
          "text": [
            "Starting ETL program\n",
            "Running Task - Ingestion Vehicles\n",
            "Running Task - Ingestion lines\n",
            "Running Task - ingestion municipalities \n",
            "Running Task - Cleansing Vehicles\n",
            "ETL program completed\n"
          ]
        }
      ]
    },
    {
      "cell_type": "code",
      "source": [
        "\n",
        "spark.read.parquet(\"/content/lake/bronze/vehicles\").show()"
      ],
      "metadata": {
        "colab": {
          "base_uri": "https://localhost:8080/"
        },
        "id": "ZKuYNjgAm-pC",
        "outputId": "7a40a51e-dc84-499b-a9b8-67f6e032e486"
      },
      "execution_count": 22,
      "outputs": [
        {
          "output_type": "stream",
          "name": "stdout",
          "text": [
            "+-------+--------------------+--------------+--------+---------+-------+---------+----------+--------+---------------------+------------+---------+-------+-------------------+--------------------+------+\n",
            "|bearing|            block_id|current_status|      id|      lat|line_id|      lon|pattern_id|route_id|schedule_relationship|    shift_id|    speed|stop_id|          timestamp|             trip_id|  date|\n",
            "+-------+--------------------+--------------+--------+---------+-------+---------+----------+--------+---------------------+------------+---------+-------+-------------------+--------------------+------+\n",
            "|    198|20241122-64010340...| IN_TRANSIT_TO|44|12063|  38.5313|   4426|-8.885352|  4426_0_1|  4426_0|            SCHEDULED|112340234560|      0.0| 160266|2024-11-22 16:45:52|4426_0_1|2200|170...|164552|\n",
            "|    142|20241122-64010062...| IN_TRANSIT_TO|44|12506|38.617672|   4621|-9.102014|  4621_0_2|  4621_0|            SCHEDULED|121810234560|      0.0| 140045|2024-11-22 16:46:54|4621_0_2|2200|162...|164654|\n",
            "|    144|20241122-64010591...| IN_TRANSIT_TO|44|12684| 38.53577|   4730|-9.023865|  4730_0_1|  4730_0|            SCHEDULED|113240234560|3.3333333| 160783|2024-11-22 16:46:45|4730_0_1|2200|153...|164645|\n",
            "|    350|20241122-64010082...| IN_TRANSIT_TO|44|12503|38.648758|   4604|-8.991843|  4604_0_1|  4604_0|            SCHEDULED|121630234560| 9.722222| 090016|2024-11-22 16:46:50|4604_0_1|2200|161...|164650|\n",
            "|     92|20241122-64010228...| IN_TRANSIT_TO|44|12077| 38.52538|   4436|-8.887225|  4436_0_1|  4436_0|            SCHEDULED|112230234560| 6.388889| 160141|2024-11-22 16:46:44|4436_0_1|2200|164...|164644|\n",
            "|    126|20241122-64010084...| IN_TRANSIT_TO|44|12603|38.599792|   4512|-8.898407|  4512_0_1|  4512_0|            SCHEDULED|121610234560|      5.0| 130231|2024-11-22 16:46:45|4512_0_1|2200|154...|164645|\n",
            "|      0|20241122-64010008...| IN_TRANSIT_TO|44|12656| 38.76828|   4701|-9.100277|  4701_0_1|  4701_0|            SCHEDULED|123500234560|      0.0| 060001|2024-11-22 16:46:44|4701_0_1|2200|165...|164644|\n",
            "|    188|20241122-64010297...| IN_TRANSIT_TO|44|12524|38.530804|   4435|-8.828136|  4435_0_1|  4435_0|            SCHEDULED|111260234560|14.166667| 160673|2024-11-22 16:46:44|4435_0_1|2200|163...|164644|\n",
            "|    102|20241122-64010110...| IN_TRANSIT_TO|44|12638| 38.66174|   4311|-8.730991|  4311_0_2|  4311_0|            SCHEDULED|121360234560|15.833333| 136211|2024-11-22 16:46:44|4311_0_2|2200|164...|164644|\n",
            "|     75|20241122-64010259...| IN_TRANSIT_TO|44|12615|38.570465|   4308|-8.904351|  4308_0_1|  4308_0|            SCHEDULED|111640234560|3.6111112| 130028|2024-11-22 16:46:44|4308_0_1|2200|164...|164644|\n",
            "|    133|20241122-64010095...| IN_TRANSIT_TO|44|12056| 38.73122|   4504|-8.943243|  4504_0_2|  4504_0|            SCHEDULED|121510234560|10.555555| 010109|2024-11-22 16:46:58|4504_0_2|2200|163...|164658|\n",
            "|    118|20241122-64010278...|   INCOMING_AT|44|12590|38.584217|   4540| -8.69158|  4540_0_2|  4540_0|            SCHEDULED|111450234560|6.6666665| 130707|2024-11-22 16:45:29|4540_0_2|2200|161...|164529|\n",
            "|    104|UNAVAILABLE_BLOCK_ID| IN_TRANSIT_TO| 41|1134| 38.71419|   1722|-9.244162|  1722_0_1|  1722_0|            SCHEDULED|     1500+TP|      0.0| 120057|2024-11-22 16:46:30|1722_0_1_1600_162...|164630|\n",
            "|    242|20241122-64010255...| IN_TRANSIT_TO|44|12523|38.609177|   4307|-8.773045|  4307_0_1|  4307_0|            SCHEDULED|111670234560|13.888889| 130173|2024-11-22 16:46:56|4307_0_1|2200|162...|164656|\n",
            "|    284|20241122-64010170...| IN_TRANSIT_TO|44|13573|38.539566|   4725|-8.887828|  4725_0_2|  4725_0|            SCHEDULED|113130234560|      0.0| 162005|2024-11-22 16:46:44|4725_0_2|2200|170...|164644|\n",
            "|    161|20241122-64010151...|   INCOMING_AT|44|12745|38.768345|   4720|-9.100308|  4720_0_2|  4720_0|            SCHEDULED|113320234560|2.2222223| 060011|2024-11-22 16:45:33|4720_0_2|2200|160...|164533|\n",
            "|    274|20241122-64010002...| IN_TRANSIT_TO|44|12669| 38.76755|   4705|-9.103432|  4705_0_1|  4705_0|            SCHEDULED|123460234560|1.3888888| 100042|2024-11-22 16:46:45|4705_0_1|2200|164...|164645|\n",
            "|    270|20241122-64010312...| IN_TRANSIT_TO|44|12564|38.577126|   4524|-8.894114|  4524_0_2|  4524_0|            SCHEDULED|111110230560|3.6111112| 130019|2024-11-22 16:46:44|4524_0_2|2200|160...|164644|\n",
            "|     86|20241122-64010093...| IN_TRANSIT_TO|44|12514| 38.62917|   4521|-8.739114|  4521_0_2|  4521_0|            SCHEDULED|121530234560|6.6666665| 130160|2024-11-22 16:46:46|4521_0_2|2200|160...|164646|\n",
            "|     93|20241122-64010200...|    STOPPED_AT|44|12085|38.523052|   4438|-8.895228|  4438_0_2|  4438_0|            SCHEDULED|112500234560|      0.0| 160159|2024-11-22 16:46:50|4438_0_2|2200|164...|164650|\n",
            "+-------+--------------------+--------------+--------+---------+-------+---------+----------+--------+---------------------+------------+---------+-------+-------------------+--------------------+------+\n",
            "only showing top 20 rows\n",
            "\n"
          ]
        }
      ]
    },
    {
      "cell_type": "code",
      "source": [
        "\n"
      ],
      "metadata": {
        "colab": {
          "base_uri": "https://localhost:8080/"
        },
        "id": "bN2gWE6fnSpo",
        "outputId": "7f0b3937-c2d9-43f3-a318-09c58f8e9af4"
      },
      "execution_count": 6,
      "outputs": [
        {
          "output_type": "stream",
          "name": "stdout",
          "text": [
            "756\n",
            "+-------+--------------------+--------------+--------+---------+-------+---------+----------+--------+---------------------+------------+---------+-------+-------------------+--------------------+\n",
            "|bearing|            block_id|current_status|      id|      lat|line_id|      lon|pattern_id|route_id|schedule_relationship|    shift_id|    speed|stop_id|          timestamp|             trip_id|\n",
            "+-------+--------------------+--------------+--------+---------+-------+---------+----------+--------+---------------------+------------+---------+-------+-------------------+--------------------+\n",
            "|    271|20241122-64010230...| IN_TRANSIT_TO|44|12074|38.522186|   4426|-8.861442|  4426_0_2|  4426_0|            SCHEDULED|112210234560|      0.0| 160237|2024-11-22 16:05:09|4426_0_2|2200|161...|\n",
            "|     67|20241122-64010191...|   INCOMING_AT|44|12548| 38.52589|   4409|-8.910276|  4409_0_2|  4409_0|            SCHEDULED|112580234560|4.7222223| 160264|2024-11-22 16:05:07|4409_0_2|2200|160...|\n",
            "|    331|20241122-64010087...| IN_TRANSIT_TO|44|12533|38.707085|   4504|-8.988318|  4504_0_1|  4504_0|            SCHEDULED|121580230560|      0.0| 100130|2024-11-22 16:05:08|4504_0_1|2200|160...|\n",
            "|    297|20241122-64010066...| IN_TRANSIT_TO|44|12070|38.661133|   4604|-9.049916|  4604_0_2|  4604_0|            SCHEDULED|121770234560|      0.0| 040019|2024-11-22 16:05:14|4604_0_2|2200|153...|\n",
            "|     12|20241122-64010300...|   INCOMING_AT|44|12746|38.565243|   4562|-8.887593|  4562_0_1|  4562_0|            SCHEDULED|111600234560|11.944445| 130462|2024-11-22 16:05:12|4562_0_1|2200|154...|\n",
            "|    338|20241122-64010149...| IN_TRANSIT_TO|44|12673| 38.53977|   4720|-8.888052|  4720_0_2|  4720_0|            SCHEDULED|113340234560|      0.0| 161002|2024-11-22 16:05:18|4720_0_2|2200|161...|\n",
            "|     34|20241122-64010459...| IN_TRANSIT_TO|44|12632|38.523582|   4409| -8.86361|  4409_0_1|  4409_0|            SCHEDULED|112460234560|1.6666666| 160177|2024-11-22 16:05:04|4409_0_1|2200|160...|\n",
            "|     75|20241122-64010095...| IN_TRANSIT_TO|44|12056| 38.70587|   4501|-8.988091|  4501_0_2|  4501_0|            SCHEDULED|121510234560|7.7777777| 100130|2024-11-22 16:05:12|4501_0_2|2200|160...|\n",
            "|     89|20241122-64010286...| IN_TRANSIT_TO|44|12554|38.577057|   4562|-8.896348|  4562_0_2|  4562_0|            SCHEDULED|111370234560|3.6111112| 130020|2024-11-22 16:05:05|4562_0_2|2200|153...|\n",
            "|    356|20241122-64010016...| IN_TRANSIT_TO|44|12667| 38.78263|   4702| -9.10492|  4702_0_1|  4702_0|            SCHEDULED|123320234560|14.444445| 010159|2024-11-22 16:05:18|4702_0_1|2200|160...|\n",
            "|    314|20241122-64010002...| IN_TRANSIT_TO|44|12669| 38.77583|   4705|-9.061084|  4705_0_2|  4705_0|            SCHEDULED|123460234560|26.666666| 060005|2024-11-22 16:05:04|4705_0_2|2200|153...|\n",
            "|     69|20241122-64010336...|   INCOMING_AT|44|12731|38.525253|   4426|-8.903475|  4426_0_1|  4426_0|            SCHEDULED|112320000060|10.277778| 160269|2024-11-22 16:05:16|4426_0_1|2200|160...|\n",
            "|     83|20241122-64010339...|   INCOMING_AT|44|12083|38.522915|   4436|-8.896505|  4436_0_2|  4436_0|            SCHEDULED|112550234560|10.555555| 160161|2024-11-22 16:05:17|4436_0_2|2200|154...|\n",
            "|    208|20241122-64010296...|   INCOMING_AT|44|12591|38.565243|   4562|-8.946185|  4562_0_1|  4562_0|            SCHEDULED|111270234560| 6.111111| 130137|2024-11-22 16:05:13|4562_0_1|2200|151...|\n",
            "|    262|20241122-64010123...|    STOPPED_AT|44|12071| 38.71121|   4504|-8.963387|  4504_0_2|  4504_0|            SCHEDULED|121230230560|      0.0| 100446|2024-11-22 16:05:15|4504_0_2|2200|153...|\n",
            "|      0|           1_1431-11|    STOPPED_AT| 41|1103|38.707382|   1503|-9.225625|  1503_0_1|  1503_0|            SCHEDULED|        1466|      0.0| 120186|2024-11-22 16:05:02|1503_0_1_1600_162...|\n",
            "|    348|           1_1619-11|    STOPPED_AT| 41|1366|38.745888|   1513|-9.246043|  1513_0_3|  1513_0|            SCHEDULED|        1655|      0.0| 030311|2024-11-22 16:04:30|1513_C_0_3_1600_1...|\n",
            "|     37|20241122-64010205...| IN_TRANSIT_TO|44|12733|38.528282|   4426|-8.882684|  4426_0_2|  4426_0|            SCHEDULED|112450234560|6.6666665| 160213|2024-11-22 16:05:05|4426_0_2|2200|154...|\n",
            "|     96|20241122-64010224...| IN_TRANSIT_TO|44|12568| 38.52515|   4429|-8.904703|  4429_0_2|  4429_0|            SCHEDULED|112270234560|7.2222223| 160269|2024-11-22 16:05:17|4429_0_2|2200|160...|\n",
            "|    187|20241122-64010236...| IN_TRANSIT_TO|44|12079| 38.53059|   4420|-8.870341|  4420_0_1|  4420_0|            SCHEDULED|112160234560|1.6666666| 160021|2024-11-22 16:05:06|4420_0_1|2200|154...|\n",
            "+-------+--------------------+--------------+--------+---------+-------+---------+----------+--------+---------------------+------------+---------+-------+-------------------+--------------------+\n",
            "only showing top 20 rows\n",
            "\n"
          ]
        }
      ]
    },
    {
      "cell_type": "code",
      "source": [
        "spark.read.parquet(\"/content/lake/bronze/lines\").show()"
      ],
      "metadata": {
        "id": "53dNVZiTy1je",
        "outputId": "0b59b351-e0ac-4eae-e9c4-44645bcd04d2",
        "colab": {
          "base_uri": "https://localhost:8080/"
        }
      },
      "execution_count": 30,
      "outputs": [
        {
          "output_type": "stream",
          "name": "stdout",
          "text": [
            "+--------------------+-------+----------+----+--------------------+--------------------+--------------+--------------------+--------------------+----------+----------+\n",
            "|     _corrupt_record|  color|facilities|  id|          localities|           long_name|municipalities|            patterns|              routes|short_name|text_color|\n",
            "+--------------------+-------+----------+----+--------------------+--------------------+--------------+--------------------+--------------------+----------+----------+\n",
            "|                NULL|#C61D23|        []|1001|[Alfragide, Amado...|Alfragide (Estr S...|        [1115]|[1001_0_1, 1001_0_2]|            [1001_0]|      1001|   #FFFFFF|\n",
            "|                NULL|#C61D23|        []|1002|[Reboleira, Amado...|Reboleira (Estaçã...|        [1115]|          [1002_0_3]|            [1002_0]|      1002|   #FFFFFF|\n",
            "|                NULL|#C61D23|        []|1003|[Amadora, Amadora...|Amadora (Estação ...|        [1115]|[1003_0_1, 1003_0_2]|            [1003_0]|      1003|   #FFFFFF|\n",
            "|                NULL|#C61D23|        []|1004|[Amadora, Moinhos...|Amadora (Estação ...|        [1115]|          [1004_0_3]|            [1004_0]|      1004|   #FFFFFF|\n",
            "|                NULL|#C61D23|        []|1005|[Amadora, Casal d...|Amadora (Estação ...|        [1115]|[1005_0_1, 1005_0...|[1005_0, 1005_1, ...|      1005|   #FFFFFF|\n",
            "|                NULL|#C61D23|        []|1006|[Amadora, Moinhos...|Amadora (Estação ...|        [1115]|[1006_0_1, 1006_0...|    [1006_0, 1006_1]|      1006|   #FFFFFF|\n",
            "|{'color': '#3D85C...|#3D85C6|        []|1008|                NULL|Amadora Este (Met...|        [1115]|          [1008_0_3]|            [1008_0]|      1008|   #FFFFFF|\n",
            "|                NULL|#3D85C6|        []|1009|   [Amadora, Sintra]|Amadora (Hospital...|  [1115, 1111]|          [1009_0_3]|            [1009_0]|      1009|   #FFFFFF|\n",
            "|                NULL|#C61D23|        []|1010|[Brandoa, Amadora...|Brandoa (Pólo Esc...|        [1115]|[1010_0_1, 1010_0_2]|            [1010_0]|      1010|   #FFFFFF|\n",
            "|                NULL|#C61D23|        []|1011|[Brandoa, Amadora...|Brandoa (Largo) -...|        [1115]|[1011_0_1, 1011_0...|    [1011_0, 1011_1]|      1011|   #FFFFFF|\n",
            "|                NULL|#3D85C6|        []|1012|[Amadora, Brandoa...|Alfornelos Metro ...|        [1115]|          [1012_0_3]|            [1012_0]|      1012|   #FFFFFF|\n",
            "|                NULL|#C61D23|        []|1013|  [Amadora, Atalaia]|Amadora (Cemitéri...|        [1115]|[1013_0_1, 1013_0_2]|            [1013_0]|      1013|   #FFFFFF|\n",
            "|                NULL|#C61D23|        []|1014|[Amadora, Rebolei...|Amadora (Cemitéri...|        [1115]|[1014_0_1, 1014_0_2]|            [1014_0]|      1014|   #FFFFFF|\n",
            "|                NULL|#3D85C6|        []|1015|[Reboleira, Amado...|Reboleira (Estaçã...|        [1115]|          [1015_0_3]|            [1015_0]|      1015|   #FFFFFF|\n",
            "|                NULL|#C61D23|        []|1101|[Alfragide, Oeira...|Alfragide (Centro...|        [1110]|[1101_0_1, 1101_0...|    [1101_0, 1101_1]|      1101|   #FFFFFF|\n",
            "|                NULL|#C61D23|        []|1103|[Algés, Oeiras, Q...|Algés (Estação) -...|        [1110]|[1103_0_1, 1103_0_2]|            [1103_0]|      1103|   #FFFFFF|\n",
            "|                NULL|#C61D23|        []|1105|[Algés, Oeiras, M...|Algés (Estação) -...|        [1110]|[1105_0_1, 1105_0...|    [1105_0, 1105_1]|      1105|   #FFFFFF|\n",
            "|                NULL|#C61D23|        []|1106|[Queluz Baixo, Oe...|Queluz Baixo (Cen...|        [1110]|[1106_0_2, 1106_1...|    [1106_0, 1106_1]|      1106|   #FFFFFF|\n",
            "|                NULL|#C61D23|        []|1107|[Algés, Oeiras, Q...|Algés (Estação) -...|        [1110]|[1107_0_1, 1107_0_2]|            [1107_0]|      1107|   #FFFFFF|\n",
            "|                NULL|#3D85C6|        []|1109|[Carnaxide, Oeira...|Carnaxide via Out...|        [1110]|          [1109_0_3]|            [1109_0]|      1109|   #FFFFFF|\n",
            "+--------------------+-------+----------+----+--------------------+--------------------+--------------+--------------------+--------------------+----------+----------+\n",
            "only showing top 20 rows\n",
            "\n"
          ]
        }
      ]
    },
    {
      "cell_type": "code",
      "source": [],
      "metadata": {
        "id": "unKzdtlzzXKT"
      },
      "execution_count": null,
      "outputs": []
    }
  ],
  "metadata": {
    "colab": {
      "provenance": [],
      "include_colab_link": true
    },
    "kernelspec": {
      "display_name": "Python 3",
      "name": "python3"
    },
    "language_info": {
      "name": "python"
    }
  },
  "nbformat": 4,
  "nbformat_minor": 0
}