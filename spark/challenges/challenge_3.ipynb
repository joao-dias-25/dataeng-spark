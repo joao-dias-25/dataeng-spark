{
  "cells": [
    {
      "cell_type": "markdown",
      "metadata": {
        "id": "view-in-github",
        "colab_type": "text"
      },
      "source": [
        "<a href=\"https://colab.research.google.com/github/joao-dias-25/dataeng-spark/blob/main/spark/challenges/challenge_3.ipynb\" target=\"_parent\"><img src=\"https://colab.research.google.com/assets/colab-badge.svg\" alt=\"Open In Colab\"/></a>"
      ]
    },
    {
      "cell_type": "markdown",
      "metadata": {
        "id": "BOA_wQSmLd9z"
      },
      "source": [
        "# CHALLENGE 3\n",
        "##  Implement ENRICH process\n",
        "- Set up path in the \"lake\"\n",
        "  - !mkdir -p /content/lake/gold\n",
        "\n",
        "- Read data from SILVER layer\n",
        "  - Paths:\n",
        "    - vehicles - path: /content/lake/silver/vehicles\n",
        "    - lines - path: /content/lake/silver/lines\n",
        "    - municipalities - path: /content/lake/silver/municipalities\n",
        "  - Use StructFields to enforce schema\n",
        "\n",
        "- Enrichment\n",
        "  - Enrich vehicles dataset with information from the line and municipalities\n",
        "    - join vehicles with lines and municipalities\n",
        "      - select all columns from vehicles + lines.long_name (name: line_name, format:string) + municipalities.name (name: municipality_name, format: array)\n",
        "      - Note that \"municipalities.name\" is an array\n",
        "\n",
        "- Write data as PARQUET into the GOLD layer (/content/lake/gold)\n",
        "  - Dataset name: vehicles_enriched\n",
        "  - Partition \"vehicles_enriched\" by \"date\" column\n",
        "  - Paths:\n",
        "    - vehicles - path: /content/lake/gold/vehicles_enriched\n",
        "  - Make sure there is only 1 single parquet created\n",
        "  - Use overwrite as write mode"
      ]
    },
    {
      "cell_type": "markdown",
      "metadata": {
        "id": "d9LeYFsPTjAb"
      },
      "source": [
        "# Setting up PySpark"
      ]
    },
    {
      "cell_type": "code",
      "execution_count": 1,
      "metadata": {
        "colab": {
          "base_uri": "https://localhost:8080/"
        },
        "id": "uYXeODL0T1fO",
        "outputId": "850e1012-ee8e-4b7b-b620-31d27fa41892"
      },
      "outputs": [
        {
          "output_type": "stream",
          "name": "stdout",
          "text": [
            "Requirement already satisfied: pyspark in /usr/local/lib/python3.10/dist-packages (3.5.3)\n",
            "Requirement already satisfied: py4j==0.10.9.7 in /usr/local/lib/python3.10/dist-packages (from pyspark) (0.10.9.7)\n"
          ]
        }
      ],
      "source": [
        "%pip install pyspark"
      ]
    },
    {
      "cell_type": "code",
      "source": [
        "\n",
        "from pyspark.sql import DataFrame, SparkSession\n",
        "from pyspark.sql.functions import *\n",
        "from pyspark.sql.types import *\n",
        "import requests\n",
        "\n",
        "class ETLFlow:\n",
        "    def __init__(self, spark: SparkSession) -> None:\n",
        "        self.spark = spark\n",
        "\n",
        "    def extract_from_file(self, format: str, path: str, **kwargs) -> DataFrame:\n",
        "        df = self.spark.read.format(format).load(path)\n",
        "        return df\n",
        "\n",
        "    def extract_from_api(self, url: str, schema: StructType = None):\n",
        "      response = requests.get(url)\n",
        "      rdd = spark.sparkContext.parallelize(response.json())\n",
        "      if schema:\n",
        "        df = spark.read.schema(schema).json(rdd)\n",
        "      else:\n",
        "        df = spark.read.json(rdd)\n",
        "      return df\n",
        "\n",
        "    def load(self, df: DataFrame, format: str, path: str, **kwargs) -> None:\n",
        "        df.write.mode(\"overwrite\").format(format).save(path)\n",
        "\n",
        "    def load_partition(self, df: DataFrame, partition:str, format: str, path: str, **kwargs) -> None:\n",
        "        df.write.mode(\"overwrite\").partitionBy(partition).format(format).save(path)\n",
        "\n",
        "class ETLTask(ETLFlow):\n",
        "\n",
        "    def __init__(self, spark: SparkSession) -> None:\n",
        "        self.spark = spark\n",
        "\n",
        "    def ingestion_vehicles(self):\n",
        "      vehicle_schema = StructType([StructField('bearing', IntegerType(), True),\n",
        "                                  StructField('block_id', StringType(), True),\n",
        "                                  StructField('current_status', StringType(), True),\n",
        "                                  StructField('id', StringType(), True),\n",
        "                                  StructField('lat', FloatType(), True),\n",
        "                                  StructField('line_id', StringType(), True),\n",
        "                                  StructField('lon', FloatType(), True),\n",
        "                                  StructField('pattern_id', StringType(), True),\n",
        "                                  StructField('route_id', StringType(), True),\n",
        "                                  StructField('schedule_relationship', StringType(), True),\n",
        "                                  StructField('shift_id', StringType(), True),\n",
        "                                  StructField('speed', FloatType(), True),\n",
        "                                  StructField('stop_id', StringType(), True),\n",
        "                                  StructField('timestamp', TimestampType(), True),\n",
        "                                  StructField('trip_id', StringType(), True)])\n",
        "\n",
        "      df = self.extract_from_api(url=\"https://api.carrismetropolitana.pt/vehicles\", schema=vehicle_schema)\n",
        "      df = df.withColumn('date', date_format('timestamp',\"yyyyMMdd\"))\n",
        "      self.load(df=df, format=\"parquet\", path=\"/content/lake/bronze/vehicles\")\n",
        "\n",
        "    def ingestion_lines(self):\n",
        "\n",
        "      lines_schema = StructType([\n",
        "                                 StructField('_corrupt_record', StringType(), True),\n",
        "                                  StructField('color', StringType(), True),\n",
        "                                  StructField(\"facilities\",  ArrayType(StringType(), True), True),\n",
        "                                  StructField('id', StringType(), True),\n",
        "                                  StructField(\"localities\",  ArrayType(StringType(), True), True),\n",
        "                                  StructField('long_name', StringType(), True),\n",
        "                                  StructField(\"municipalities\",  ArrayType(StringType(), True), True),\n",
        "                                  StructField(\"patterns\",  ArrayType(StringType(), True), True),\n",
        "                                  StructField(\"routes\",  ArrayType(StringType(), True), True),\n",
        "                                  StructField('short_name', StringType(), True),\n",
        "                                  StructField('text_color', StringType(), True)\n",
        "                                  ])\n",
        "      df = self.extract_from_api(url=\"https://api.carrismetropolitana.pt/lines\", schema=lines_schema)\n",
        "\n",
        "      self.load(df=df, format=\"parquet\", path=\"/content/lake/bronze/lines\")\n",
        "\n",
        "    def ingestion_municipalities(self):\n",
        "      municipalities_schema = StructType([\n",
        "                                 StructField('district_id', StringType(), True),\n",
        "                                  StructField('district_name', StringType(), True),\n",
        "                                  StructField(\"id\",  StringType(), True),\n",
        "                                  StructField('name', StringType(), True),\n",
        "                                  StructField(\"prefix\", StringType(), True),\n",
        "                                  StructField('region_id', StringType(), True),\n",
        "                                  StructField(\"region_name\",  StringType(), True),\n",
        "\n",
        "                                  ])\n",
        "\n",
        "      df = self.extract_from_api(url=\"https://api.carrismetropolitana.pt/municipalities\", schema=municipalities_schema)\n",
        "\n",
        "      self.load(df=df, format=\"parquet\", path=\"/content/lake/bronze/municipalities\")\n",
        "\n",
        "    def cleansing_vehicles(self):\n",
        "      df = self.extract_from_file(format=\"parquet\", path=\"/content/lake/bronze/vehicles\")\n",
        "\n",
        "      # transformations\n",
        "      df = df.withColumnRenamed(\"lat\", \"latitude\")\n",
        "      df = df.withColumnRenamed(\"lon\", \"longitude\")\n",
        "      df = df.drop_duplicates()\n",
        "      df = df.filter(df.current_status.isNotNull())\n",
        "\n",
        "      self.load_partition(df=df, format=\"parquet\", partition='date' ,path=\"/content/lake/silver/vehicles\")\n",
        "\n",
        "    def cleansing_lines(self):\n",
        "      df = self.extract_from_file(format=\"parquet\", path=\"/content/lake/bronze/lines\")\n",
        "\n",
        "      # transformations\n",
        "      df = df.drop_duplicates()\n",
        "      df = df.filter(df.long_name.isNotNull())\n",
        "      self.load(df=df, format=\"parquet\", path=\"/content/lake/silver/lines\")\n",
        "\n",
        "    def cleansing_municipalities(self):\n",
        "      df = self.extract_from_file(format=\"parquet\", path=\"/content/lake/bronze/municipalities\")\n",
        "\n",
        "      # transformations\n",
        "      df = df.drop_duplicates()\n",
        "      df = df.filter(df.name.isNotNull() & df.district_name.isNotNull())\n",
        "      self.load(df=df, format=\"parquet\", path=\"/content/lake/silver/municipalities\")\n",
        "\n",
        "\n",
        "\n",
        "    def enrich_vehicles(self):\n",
        "      df_v = self.extract_from_file(format=\"parquet\", path=\"/content/lake/silver/vehicles\")\n",
        "      df_l = self.extract_from_file(format=\"parquet\", path=\"/content/lake/silver/lines\")\n",
        "      df_m = self.extract_from_file(format=\"parquet\", path=\"/content/lake/silver/municipalities\")\n",
        "\n",
        "      # transformations\n",
        "      # transformations\n",
        "\n",
        "      df_l = df_l.withColumnRenamed(\"id\", \"line_id\")\n",
        "      dict = {row['id']:row['name'] for row in df_m.collect()}\n",
        "\n",
        "      df = df_v.join(df_l.select('line_id', 'long_name','municipalities'), on='line_id' ,how='left')\n",
        "      map_col = create_map([lit(x) for i in dict.items() for x in i])\n",
        "      df = df.withColumn('municipality_names', transform('municipalities', lambda x: map_col[x]))\n",
        "\n",
        "      self.load(df=df, format=\"parquet\", path=\"/content/lake/gold/vehicles\")\n",
        "\n",
        "\n",
        "if __name__ == '__main__':\n",
        "\n",
        "    # init spark\n",
        "    from pyspark.sql import SparkSession\n",
        "    spark = SparkSession.builder.master('local').appName('ETL Program').getOrCreate()\n",
        "\n",
        "    print(\"Starting ETL program\")\n",
        "    etl = ETLTask(spark)\n",
        "\n",
        "    # run tasks\n",
        "    print(\"Running Task - Ingestion Vehicles\")\n",
        "    etl.ingestion_vehicles()\n",
        "\n",
        "    print(\"Running Task - Ingestion lines\")\n",
        "    etl.ingestion_lines()\n",
        "\n",
        "    print(\"Running Task - ingestion municipalities \")\n",
        "    etl.ingestion_municipalities()\n",
        "\n",
        "    print(\"Running Task - Cleansing Vehicles\")\n",
        "    etl.cleansing_vehicles()\n",
        "\n",
        "    print(\"Running Task - Cleansing lines\")\n",
        "    etl.cleansing_lines()\n",
        "\n",
        "    print(\"Running Task - Cleansing municipalities\")\n",
        "    etl.cleansing_municipalities()\n",
        "\n",
        "    print(\"Running Task - enrich vehicles\")\n",
        "    etl.enrich_vehicles()\n",
        "\n",
        "    #etl.enrich()\n",
        "\n",
        "    print(\"ETL program completed\")"
      ],
      "metadata": {
        "id": "kwvPzS1llYQx",
        "outputId": "c1d4f2f3-c9f7-47a7-c584-59dd62e628e8",
        "colab": {
          "base_uri": "https://localhost:8080/"
        }
      },
      "execution_count": 48,
      "outputs": [
        {
          "output_type": "stream",
          "name": "stdout",
          "text": [
            "Starting ETL program\n",
            "Running Task - Ingestion Vehicles\n",
            "Running Task - Ingestion lines\n",
            "Running Task - ingestion municipalities \n",
            "Running Task - Cleansing Vehicles\n",
            "Running Task - Cleansing lines\n",
            "Running Task - Cleansing municipalities\n",
            "Running Task - enrich vehicles\n",
            "ETL program completed\n"
          ]
        }
      ]
    },
    {
      "cell_type": "code",
      "source": [
        "\n",
        "df_v = ETLTask(spark).extract_from_file(format=\"parquet\", path=\"/content/lake/silver/vehicles\")\n",
        "df_l = ETLTask(spark).extract_from_file(format=\"parquet\", path=\"/content/lake/silver/lines\")\n",
        "df_m = ETLTask(spark).extract_from_file(format=\"parquet\", path=\"/content/lake/silver/municipalities\")\n",
        "\n",
        "df_l = df_l.withColumnRenamed(\"id\", \"line_id\")\n",
        "dict = {row['id']:row['name'] for row in df_m.collect()}\n",
        "\n",
        "df = df_v.join(df_l.select('line_id', 'long_name','municipalities'), on='line_id' ,how='left')\n",
        "\n",
        "map_col = create_map([lit(x) for i in dict.items() for x in i])\n",
        "df = df.withColumn('municipality_name', transform('municipalities', lambda x: map_col[x]))\n",
        "#df = df.join(df_m.select('id', 'name'), df.stop_id==df_m.id ,'left'\n",
        "df.printSchema()\n",
        "df.show()"
      ],
      "metadata": {
        "id": "Jn2PvS-0lbBe",
        "outputId": "82346a7c-02de-4d2e-be76-a11083222bf0",
        "colab": {
          "base_uri": "https://localhost:8080/"
        }
      },
      "execution_count": 47,
      "outputs": [
        {
          "output_type": "stream",
          "name": "stdout",
          "text": [
            "root\n",
            " |-- line_id: string (nullable = true)\n",
            " |-- bearing: integer (nullable = true)\n",
            " |-- block_id: string (nullable = true)\n",
            " |-- current_status: string (nullable = true)\n",
            " |-- id: string (nullable = true)\n",
            " |-- latitude: float (nullable = true)\n",
            " |-- longitude: float (nullable = true)\n",
            " |-- pattern_id: string (nullable = true)\n",
            " |-- route_id: string (nullable = true)\n",
            " |-- schedule_relationship: string (nullable = true)\n",
            " |-- shift_id: string (nullable = true)\n",
            " |-- speed: float (nullable = true)\n",
            " |-- stop_id: string (nullable = true)\n",
            " |-- timestamp: timestamp (nullable = true)\n",
            " |-- trip_id: string (nullable = true)\n",
            " |-- date: integer (nullable = true)\n",
            " |-- long_name: string (nullable = true)\n",
            " |-- municipalities: array (nullable = true)\n",
            " |    |-- element: string (containsNull = true)\n",
            " |-- municipality_name: array (nullable = true)\n",
            " |    |-- element: string (containsNull = true)\n",
            "\n",
            "+-------+-------+--------------------+--------------+--------------------+---------+---------+----------+--------+---------------------+------------+---------+-------+-------------------+--------------------+--------+--------------------+------------------+--------------------+\n",
            "|line_id|bearing|            block_id|current_status|                  id| latitude|longitude|pattern_id|route_id|schedule_relationship|    shift_id|    speed|stop_id|          timestamp|             trip_id|    date|           long_name|    municipalities|   municipality_name|\n",
            "+-------+-------+--------------------+--------------+--------------------+---------+---------+----------+--------+---------------------+------------+---------+-------+-------------------+--------------------+--------+--------------------+------------------+--------------------+\n",
            "|   4437|     68|20241122-64010186...| IN_TRANSIT_TO|            44|12083| 38.52161|-8.821803|  4437_0_2|  4437_0|            SCHEDULED|112620234560|5.2777777| 160319|2024-11-22 22:29:24|4437_0_2|2200|221...|20241122|Faralhão - Setúba...|            [1512]|           [Setúbal]|\n",
            "|   3521|    338|       ESC_DU_EU1077|   INCOMING_AT|             43|2335| 38.57613|-9.193605|  3521_0_1|  3521_0|            SCHEDULED|      EU1144|      0.0| 020484|2024-11-22 22:28:47|3521_0_1_2130_215...|20241122|Cruz de Pau - Fon...|      [1510, 1503]|    [Seixal, Almada]|\n",
            "|   2205|      0|             1526-11|    STOPPED_AT|             42|2555| 38.78122|-9.193142|  2205_0_1|  2205_0|            SCHEDULED|        1629|      0.0| 110136|2024-11-22 22:29:27|2205_0_1|1|1|2210...|20241122|Caneças (Esc. Sec...|            [1116]|          [Odivelas]|\n",
            "|   2708|    275|             1029-11| IN_TRANSIT_TO|             42|2360|38.767616|-9.103742|  2708_0_2|  2708_0|            SCHEDULED|        1313|4.4444447| 060219|2024-11-22 22:28:31|2708_0_2|1|1|2220...|20241122|C.Aguieira - Esta...|      [1107, 1106]|    [Loures, Lisboa]|\n",
            "|   1249|      0|           1_1759-11|    STOPPED_AT|             41|1409| 38.80248|-9.376152|  1249_0_1|  1249_0|            SCHEDULED|        1826|      0.0| 170307|2024-11-22 22:28:37|1249_0_1_2230_225...|20241122|Portela Sintra (E...|            [1111]|            [Sintra]|\n",
            "|   1708|    305|           1_1065-11| IN_TRANSIT_TO|             41|1909| 38.75513|-9.192004|  1708_0_3|  1708_0|            SCHEDULED|        1132|      0.0| 060057|2024-11-22 22:29:07|1708_C_0_3_2130_2...|20241122|Casal Mira (Centr...|      [1115, 1106]|   [Amadora, Lisboa]|\n",
            "|   2729|      0|UNAVAILABLE_BLOCK_ID|    STOPPED_AT|             42|2307|38.823986|-9.103081|  2729_0_1|  2729_0|            SCHEDULED|        1234|      0.0| 071471|2024-11-22 22:29:30|2729_0_1|1|1|2200...|20241122|Estação Oriente -...|      [1106, 1107]|    [Lisboa, Loures]|\n",
            "|   2726|      0|UNAVAILABLE_BLOCK_ID|    STOPPED_AT|             42|2356| 38.80096|-9.109783|  2726_0_2|  2726_0|            SCHEDULED|        1066|      0.0| 060205|2024-11-22 22:28:31|2726_0_2|1|1|1950...|20241122|Estação Oriente -...|      [1106, 1107]|    [Lisboa, Loures]|\n",
            "|   2713|    325|UNAVAILABLE_BLOCK_ID| IN_TRANSIT_TO|42|UNAVAILABLE_VE...| 38.75576| -9.15158|  2713_0_3|  2713_0|           DUPLICATED|        1324|      0.0| 061200|2024-11-22 22:28:31|2713_0_3|1|1|1745...|20241122|Campo Grande - Ca...|      [1106, 1107]|    [Lisboa, Loures]|\n",
            "|   1514|      0|           1_1069-11|    STOPPED_AT|             41|1146| 38.74618|-9.246448|  1514_0_2|  1514_0|            SCHEDULED|        1138|      0.0| 170002|2024-11-22 22:29:16|1514_0_2_2230_225...|20241122|Amadora (Hospital...|      [1115, 1111]|   [Amadora, Sintra]|\n",
            "|   2711|    347|             1068-11|   INCOMING_AT|             42|2333| 38.80506| -9.12037|  2711_0_2|  2711_0|            SCHEDULED|        1205|5.8333335| 071383|2024-11-22 22:29:09|2711_0_2|1|1|2200...|20241122|Charneca - Est Or...|      [1106, 1107]|    [Lisboa, Loures]|\n",
            "|   2796|    138|             1744-11| IN_TRANSIT_TO|             42|2756| 38.75965|-9.161372|  2796_1_2|  2796_1|            SCHEDULED|        1793|     17.5| 060008|2024-11-22 22:29:04|2796_1_2|1|1|2140...|20241122|Lisboa (C. Grande...|[1106, 1107, 1114]|[Lisboa, Loures, ...|\n",
            "|   1229|      1|           1_1667-11| IN_TRANSIT_TO|             41|1802| 38.75598|-9.286745|  1229_0_3|  1229_0|            SCHEDULED|        1686|7.2222223| 170913|2024-11-22 22:29:15|1229_0_3_2200_222...|20241122|Massamá-Barcarena...|            [1111]|            [Sintra]|\n",
            "|   3017|      0|       ESC_DU_EU2128|   INCOMING_AT|             43|2272|38.604935|-9.186237|  3017_0_1|  3017_0|            SCHEDULED|      EU2237|6.6666665| 020421|2024-11-22 22:29:16|3017_0_1_2200_222...|20241122|Charneca da Capar...|            [1503]|            [Almada]|\n",
            "|   2927|    189|             1187-11| IN_TRANSIT_TO|             42|2016|38.986683|-9.013595|  2927_0_1|  2927_0|            SCHEDULED|        1181|6.9444447| 180366|2024-11-22 22:29:12|2927_0_1|1|1|2210...|20241122|Castanheira(CP) -...|      [1114, 1101]|[Vila Franca de X...|\n",
            "|   1101|    280|UNAVAILABLE_BLOCK_ID|   INCOMING_AT|             41|1110|38.723465| -9.22532|  1101_0_1|  1101_0|            SCHEDULED|        1498|7.2222223| 120017|2024-11-22 22:29:29|1101_0_1_2200_222...|20241122|Alfragide (Centro...|            [1110]|            [Oeiras]|\n",
            "|   1720|    197|           1_1014-11|   INCOMING_AT|             41|1307|38.764664|-9.251804|  1720_0_1|  1720_0|            SCHEDULED|        1135| 8.611111| 172039|2024-11-22 22:29:10|1720_0_1_2200_222...|20241122|Casal de Cambra -...|[1111, 1115, 1106]|[Sintra, Amadora,...|\n",
            "|   1624|    275|           1_1754-11|   INCOMING_AT|             41|1199|38.776295|-9.480379|  1624_0_2|  1624_0|            SCHEDULED|        1795| 8.611111| 172314|2024-11-22 22:29:21|1624_0_2_2200_222...|20241122|Cascais (Terminal...|      [1105, 1111]|   [Cascais, Sintra]|\n",
            "|   2703|    314|             1051-11| IN_TRANSIT_TO|             42|2323|38.804302|-9.144743|  2703_0_3|  2703_0|            SCHEDULED|        1222| 8.888889| 071305|2024-11-22 22:29:32|2703_0_3|1|1|2210...|20241122|Campo Grande - Ca...|      [1106, 1107]|    [Lisboa, Loures]|\n",
            "|   2213|      0|             1545-11|    STOPPED_AT|             42|2559| 38.81377|-9.226657|  2213_1_1|  2213_1|            SCHEDULED|        1648|      0.0| 110267|2024-11-22 22:28:31|2213_1_1|1|1|2105...|20241122|Odivelas (Metro) ...|            [1116]|          [Odivelas]|\n",
            "+-------+-------+--------------------+--------------+--------------------+---------+---------+----------+--------+---------------------+------------+---------+-------+-------------------+--------------------+--------+--------------------+------------------+--------------------+\n",
            "only showing top 20 rows\n",
            "\n"
          ]
        }
      ]
    },
    {
      "cell_type": "code",
      "source": [
        "from pyspark.sql.functions import *\n",
        "mapping = {0: \"negative\", 1: \"positive\", 2: \"name\", 3: \"sequel\", 4: \"odd\"}\n",
        "map_col = create_map([lit(x) for i in mapping.items() for x in i])\n",
        "print(map_col)"
      ],
      "metadata": {
        "id": "AeLVyJpXmmOo",
        "outputId": "afb098c4-d528-493d-dca0-410c509a961f",
        "colab": {
          "base_uri": "https://localhost:8080/"
        }
      },
      "execution_count": 20,
      "outputs": [
        {
          "output_type": "stream",
          "name": "stdout",
          "text": [
            "Column<'map(0, negative, 1, positive, 2, name, 3, sequel, 4, odd)'>\n"
          ]
        }
      ]
    },
    {
      "cell_type": "code",
      "source": [
        "dict = {row['id']:row['name'] for row in df_m.collect()}\n",
        "\n",
        "dict"
      ],
      "metadata": {
        "id": "iOVBulcR4L6P",
        "outputId": "abde8554-99f3-49a1-85e7-b62e062896bb",
        "colab": {
          "base_uri": "https://localhost:8080/"
        }
      },
      "execution_count": 36,
      "outputs": [
        {
          "output_type": "execute_result",
          "data": {
            "text/plain": [
              "{'1107': 'Loures',\n",
              " '1504': 'Barreiro',\n",
              " '1101': 'Alenquer',\n",
              " '1511': 'Sesimbra',\n",
              " '0712': 'Vendas Novas',\n",
              " '1102': 'Arruda dos Vinhos',\n",
              " '1510': 'Seixal',\n",
              " '1114': 'Vila Franca de Xira',\n",
              " '1506': 'Moita',\n",
              " '1115': 'Amadora',\n",
              " '1512': 'Setúbal',\n",
              " '1109': 'Mafra',\n",
              " '1113': 'Torres Vedras',\n",
              " '1503': 'Almada',\n",
              " '1110': 'Oeiras',\n",
              " '1111': 'Sintra',\n",
              " '1508': 'Palmela',\n",
              " '1105': 'Cascais',\n",
              " '1116': 'Odivelas',\n",
              " '1502': 'Alcochete',\n",
              " '1507': 'Montijo',\n",
              " '1112': 'Sobral de Monte Agraço',\n",
              " '1106': 'Lisboa'}"
            ]
          },
          "metadata": {},
          "execution_count": 36
        }
      ]
    },
    {
      "cell_type": "code",
      "source": [
        "map_col = create_map([lit(x) for i in dict.items() for x in i])\n",
        "df_l = df_l.withColumn('arraydata', transform('municipalities', lambda x: map_col[x]))\n",
        "df_l.show()"
      ],
      "metadata": {
        "id": "o8L8Lh_m4-fU",
        "outputId": "a50ee5bb-90dc-4d44-a221-dd2f7b26c365",
        "colab": {
          "base_uri": "https://localhost:8080/"
        }
      },
      "execution_count": 38,
      "outputs": [
        {
          "output_type": "stream",
          "name": "stdout",
          "text": [
            "+---------------+-------+----------+----+--------------------+--------------------+--------------------+--------------------+--------------------+----------+----------+--------------------+\n",
            "|_corrupt_record|  color|facilities|  id|          localities|           long_name|      municipalities|            patterns|              routes|short_name|text_color|           arraydata|\n",
            "+---------------+-------+----------+----+--------------------+--------------------+--------------------+--------------------+--------------------+----------+----------+--------------------+\n",
            "|           NULL|#C61D23|        []|2115|             [Mafra]|Codeçal (Tapada N...|              [1109]|[2115_0_1, 2115_0_2]|            [2115_0]|      2115|   #FFFFFF|             [Mafra]|\n",
            "|           NULL|#C61D23|        []|2532|[Alverca, Vila Fr...|Alverca(Est) - Lo...|        [1114, 1107]|[2532_0_1, 2532_0_2]|            [2532_0]|      2532|   #FFFFFF|[Vila Franca de X...|\n",
            "|           NULL|#C61D23|        []|3119|[Pinhal de Cima, ...|Pinhal Conde Cunh...|              [1510]|[3119_0_1, 3119_0_2]|            [3119_0]|      3119|   #FFFFFF|            [Seixal]|\n",
            "|           NULL|#C61D23|        []|3535|[Cacilhas, Cova d...|Cacilhas (Termina...|  [1503, 1510, 1511]|[3535_0_1, 3535_0_2]|            [3535_0]|      3535|   #FFFFFF|[Almada, Seixal, ...|\n",
            "|           NULL|#C61D23|        []|3545|[Corroios, Sta. M...|Corroios (Estação...|        [1510, 1511]|[3545_0_1, 3545_0_2]|            [3545_0]|      3545|   #FFFFFF|  [Seixal, Sesimbra]|\n",
            "|           NULL|#3D85C6|        []|4430|           [Setúbal]|Setúbal (Hospital...|              [1512]|[4430_0_1, 4430_0_2]|            [4430_0]|      4430|   #FFFFFF|           [Setúbal]|\n",
            "|           NULL|#C61D23|        []|1733|[Marquês de Pomba...|Marquês Pombal (M...|  [1106, 1110, 1111]|[1733_0_1, 1733_0...|[1733_0, 1733_1, ...|      1733|   #FFFFFF|[Lisboa, Oeiras, ...|\n",
            "|           NULL|#C61D23|        []|2014|            [Loures]|Escola Maria Vele...|              [1107]|[2014_0_1, 2014_0_2]|            [2014_0]|      2014|   #FFFFFF|            [Loures]|\n",
            "|           NULL|#C61D23|        []|2210|          [Odivelas]|J. Amoreira-Colin...|              [1116]|          [2210_0_3]|            [2210_0]|      2210|   #FFFFFF|          [Odivelas]|\n",
            "|           NULL|#C61D23|        []|2753|[Campo Grande, Od...|Lisboa (C. Grande...|[1106, 1116, 1107...|[2753_0_1, 2753_0_2]|            [2753_0]|      2753|   #FFFFFF|[Lisboa, Odivelas...|\n",
            "|           NULL|#C61D23|        []|4002|[Alcochete, São F...|São Francisco | C...|              [1502]|          [4002_0_3]|            [4002_0]|      4002|   #FFFFFF|         [Alcochete]|\n",
            "|           NULL|#C61D23|        []|4308|[Pinhal Novo, Val...|Palmela (Terminal...|              [1508]|[4308_0_2, 4308_0_1]|            [4308_0]|      4308|   #FFFFFF|           [Palmela]|\n",
            "|           NULL|#C61D23|        []|4452|[Setúbal, Praias ...|Mitrena (Portucel...|              [1512]|[4452_0_1, 4452_0...|    [4452_0, 4452_1]|      4452|   #FFFFFF|           [Setúbal]|\n",
            "|           NULL|#C61D23|        []|1103|[Algés, Oeiras, Q...|Algés (Estação) -...|              [1110]|[1103_0_1, 1103_0_2]|            [1103_0]|      1103|   #FFFFFF|            [Oeiras]|\n",
            "|           NULL|#C61D23|        []|1523|[Cacém, Sintra, T...|Agualva-Cacém (Es...|        [1111, 1110]|[1523_0_1, 1523_0_2]|            [1523_0]|      1523|   #FFFFFF|    [Sintra, Oeiras]|\n",
            "|           NULL|#C61D23|        []|2116|  [Mafra, Murgueira]|Encarnação - Mafr...|              [1109]|[2116_0_1, 2116_0_2]|            [2116_0]|      2116|   #FFFFFF|             [Mafra]|\n",
            "|           NULL|#C61D23|        []|3207|[Carrasqueira, Se...|Carrasqueira - Se...|              [1511]|[3207_0_1, 3207_0_2]|            [3207_0]|      3207|   #FFFFFF|          [Sesimbra]|\n",
            "|           NULL|#3D85C6|        []|4106|[Moita, Alhos Ved...|Alhos Vedros | Ci...|              [1506]|          [4106_0_3]|            [4106_0]|      4106|   #FFFFFF|             [Moita]|\n",
            "|           NULL|#C61D23|        []|4541|[Algeruz, Brejos ...|Algeruz - Setúbal...|        [1508, 1512]|[4541_0_1, 4541_0_2]|            [4541_0]|      4541|   #FFFFFF|  [Palmela, Setúbal]|\n",
            "|           NULL|#C61D23|        []|4550|[Vila Nogueira de...|Palmela (Terminal...|        [1512, 1508]|[4550_0_2, 4550_0_1]|            [4550_0]|      4550|   #FFFFFF|  [Setúbal, Palmela]|\n",
            "+---------------+-------+----------+----+--------------------+--------------------+--------------------+--------------------+--------------------+----------+----------+--------------------+\n",
            "only showing top 20 rows\n",
            "\n"
          ]
        }
      ]
    },
    {
      "cell_type": "code",
      "source": [],
      "metadata": {
        "id": "rDJtJnSB5zRG"
      },
      "execution_count": null,
      "outputs": []
    }
  ],
  "metadata": {
    "colab": {
      "provenance": [],
      "include_colab_link": true
    },
    "kernelspec": {
      "display_name": "Python 3",
      "name": "python3"
    },
    "language_info": {
      "name": "python"
    }
  },
  "nbformat": 4,
  "nbformat_minor": 0
}