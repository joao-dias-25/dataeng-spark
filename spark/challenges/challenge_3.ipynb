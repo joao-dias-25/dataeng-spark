{
  "cells": [
    {
      "cell_type": "markdown",
      "metadata": {
        "id": "view-in-github",
        "colab_type": "text"
      },
      "source": [
        "<a href=\"https://colab.research.google.com/github/joao-dias-25/dataeng-spark/blob/main/spark/challenges/challenge_3.ipynb\" target=\"_parent\"><img src=\"https://colab.research.google.com/assets/colab-badge.svg\" alt=\"Open In Colab\"/></a>"
      ]
    },
    {
      "cell_type": "markdown",
      "metadata": {
        "id": "BOA_wQSmLd9z"
      },
      "source": [
        "# CHALLENGE 3\n",
        "##  Implement ENRICH process\n",
        "- Set up path in the \"lake\"\n",
        "  - !mkdir -p /content/lake/gold\n",
        "\n",
        "- Read data from SILVER layer\n",
        "  - Paths:\n",
        "    - vehicles - path: /content/lake/silver/vehicles\n",
        "    - lines - path: /content/lake/silver/lines\n",
        "    - municipalities - path: /content/lake/silver/municipalities\n",
        "  - Use StructFields to enforce schema\n",
        "\n",
        "- Enrichment\n",
        "  - Enrich vehicles dataset with information from the line and municipalities\n",
        "    - join vehicles with lines and municipalities\n",
        "      - select all columns from vehicles + lines.long_name (name: line_name, format:string) + municipalities.name (name: municipality_name, format: array)\n",
        "      - Note that \"municipalities.name\" is an array\n",
        "\n",
        "- Write data as PARQUET into the GOLD layer (/content/lake/gold)\n",
        "  - Dataset name: vehicles_enriched\n",
        "  - Partition \"vehicles_enriched\" by \"date\" column\n",
        "  - Paths:\n",
        "    - vehicles - path: /content/lake/gold/vehicles_enriched\n",
        "  - Make sure there is only 1 single parquet created\n",
        "  - Use overwrite as write mode"
      ]
    },
    {
      "cell_type": "markdown",
      "metadata": {
        "id": "d9LeYFsPTjAb"
      },
      "source": [
        "# Setting up PySpark"
      ]
    },
    {
      "cell_type": "code",
      "execution_count": 1,
      "metadata": {
        "colab": {
          "base_uri": "https://localhost:8080/"
        },
        "id": "uYXeODL0T1fO",
        "outputId": "ec7c8db6-d2f9-49e4-e855-bff7ae7d7357"
      },
      "outputs": [
        {
          "output_type": "stream",
          "name": "stdout",
          "text": [
            "Requirement already satisfied: pyspark in /usr/local/lib/python3.10/dist-packages (3.5.3)\n",
            "Requirement already satisfied: py4j==0.10.9.7 in /usr/local/lib/python3.10/dist-packages (from pyspark) (0.10.9.7)\n"
          ]
        }
      ],
      "source": [
        "%pip install pyspark"
      ]
    },
    {
      "cell_type": "code",
      "source": [
        "\n",
        "from pyspark.sql import DataFrame, SparkSession\n",
        "from pyspark.sql.functions import *\n",
        "from pyspark.sql.types import *\n",
        "import requests\n",
        "\n",
        "class ETLFlow:\n",
        "    def __init__(self, spark: SparkSession) -> None:\n",
        "        self.spark = spark\n",
        "\n",
        "    def extract_from_file(self, format: str, path: str, **kwargs) -> DataFrame:\n",
        "        df = self.spark.read.format(format).load(path)\n",
        "        return df\n",
        "\n",
        "    def extract_from_api(self, url: str, schema: StructType = None):\n",
        "      response = requests.get(url)\n",
        "      rdd = spark.sparkContext.parallelize(response.json())\n",
        "      if schema:\n",
        "        df = spark.read.schema(schema).json(rdd)\n",
        "      else:\n",
        "        df = spark.read.json(rdd)\n",
        "      return df\n",
        "\n",
        "    def load(self, df: DataFrame, format: str, path: str, **kwargs) -> None:\n",
        "        df.coalesce(1).write.mode(\"overwrite\").format(format).save(path)\n",
        "\n",
        "    def load_partition(self, df: DataFrame, partition:str, format: str, path: str, **kwargs) -> None:\n",
        "        df.coalesce(1).write.mode(\"overwrite\").partitionBy(partition).format(format).save(path)\n",
        "\n",
        "class ETLTask(ETLFlow):\n",
        "\n",
        "    def __init__(self, spark: SparkSession) -> None:\n",
        "        self.spark = spark\n",
        "\n",
        "    def ingestion_vehicles(self):\n",
        "      vehicle_schema = StructType([StructField('bearing', IntegerType(), True),\n",
        "                                  StructField('block_id', StringType(), True),\n",
        "                                  StructField('current_status', StringType(), True),\n",
        "                                  StructField('id', StringType(), True),\n",
        "                                  StructField('lat', FloatType(), True),\n",
        "                                  StructField('line_id', StringType(), True),\n",
        "                                  StructField('lon', FloatType(), True),\n",
        "                                  StructField('pattern_id', StringType(), True),\n",
        "                                  StructField('route_id', StringType(), True),\n",
        "                                  StructField('schedule_relationship', StringType(), True),\n",
        "                                  StructField('shift_id', StringType(), True),\n",
        "                                  StructField('speed', FloatType(), True),\n",
        "                                  StructField('stop_id', StringType(), True),\n",
        "                                  StructField('timestamp', TimestampType(), True),\n",
        "                                  StructField('trip_id', StringType(), True)])\n",
        "\n",
        "      df = self.extract_from_api(url=\"https://api.carrismetropolitana.pt/vehicles\", schema=vehicle_schema)\n",
        "      df = df.withColumn('date', date_format('timestamp',\"yyyyMMdd\"))\n",
        "      self.load(df=df, format=\"parquet\", path=\"/content/lake/bronze/vehicles\")\n",
        "\n",
        "    def ingestion_lines(self):\n",
        "\n",
        "      lines_schema = StructType([\n",
        "                                 StructField('_corrupt_record', StringType(), True),\n",
        "                                  StructField('color', StringType(), True),\n",
        "                                  StructField(\"facilities\",  ArrayType(StringType(), True), True),\n",
        "                                  StructField('id', StringType(), True),\n",
        "                                  StructField(\"localities\",  ArrayType(StringType(), True), True),\n",
        "                                  StructField('long_name', StringType(), True),\n",
        "                                  StructField(\"municipalities\",  ArrayType(StringType(), True), True),\n",
        "                                  StructField(\"patterns\",  ArrayType(StringType(), True), True),\n",
        "                                  StructField(\"routes\",  ArrayType(StringType(), True), True),\n",
        "                                  StructField('short_name', StringType(), True),\n",
        "                                  StructField('text_color', StringType(), True)\n",
        "                                  ])\n",
        "      df = self.extract_from_api(url=\"https://api.carrismetropolitana.pt/lines\", schema=lines_schema)\n",
        "\n",
        "      self.load(df=df, format=\"parquet\", path=\"/content/lake/bronze/lines\")\n",
        "\n",
        "    def ingestion_municipalities(self):\n",
        "      municipalities_schema = StructType([\n",
        "                                 StructField('district_id', StringType(), True),\n",
        "                                  StructField('district_name', StringType(), True),\n",
        "                                  StructField(\"id\",  StringType(), True),\n",
        "                                  StructField('name', StringType(), True),\n",
        "                                  StructField(\"prefix\", StringType(), True),\n",
        "                                  StructField('region_id', StringType(), True),\n",
        "                                  StructField(\"region_name\",  StringType(), True),\n",
        "\n",
        "                                  ])\n",
        "\n",
        "      df = self.extract_from_api(url=\"https://api.carrismetropolitana.pt/municipalities\", schema=municipalities_schema)\n",
        "\n",
        "      self.load(df=df, format=\"parquet\", path=\"/content/lake/bronze/municipalities\")\n",
        "\n",
        "    def cleansing_vehicles(self):\n",
        "      df = self.extract_from_file(format=\"parquet\", path=\"/content/lake/bronze/vehicles\")\n",
        "\n",
        "      # transformations\n",
        "      df = df.withColumnRenamed(\"lat\", \"latitude\")\n",
        "      df = df.withColumnRenamed(\"lon\", \"longitude\")\n",
        "      df = df.drop_duplicates()\n",
        "      df = df.filter(df.current_status.isNotNull())\n",
        "\n",
        "      self.load_partition(df=df, format=\"parquet\", partition='date' ,path=\"/content/lake/silver/vehicles\")\n",
        "\n",
        "    def cleansing_lines(self):\n",
        "      df = self.extract_from_file(format=\"parquet\", path=\"/content/lake/bronze/lines\")\n",
        "\n",
        "      # transformations\n",
        "      df = df.drop_duplicates()\n",
        "      df = df.filter(df.long_name.isNotNull())\n",
        "      self.load(df=df, format=\"parquet\", path=\"/content/lake/silver/lines\")\n",
        "\n",
        "    def cleansing_municipalities(self):\n",
        "      df = self.extract_from_file(format=\"parquet\", path=\"/content/lake/bronze/municipalities\")\n",
        "\n",
        "      # transformations\n",
        "      df = df.drop_duplicates()\n",
        "      df = df.filter(df.name.isNotNull() & df.district_name.isNotNull())\n",
        "      self.load(df=df, format=\"parquet\", path=\"/content/lake/silver/municipalities\")\n",
        "\n",
        "\n",
        "\n",
        "    def enrich_vehicles(self):\n",
        "      df_v = self.extract_from_file(format=\"parquet\", path=\"/content/lake/silver/vehicles\")\n",
        "      df_l = self.extract_from_file(format=\"parquet\", path=\"/content/lake/silver/lines\")\n",
        "      df_m = self.extract_from_file(format=\"parquet\", path=\"/content/lake/silver/municipalities\")\n",
        "\n",
        "      # transformations\n",
        "      # transformations\n",
        "\n",
        "      df_l = df_l.withColumnRenamed(\"id\", \"line_id\")\n",
        "      dict = {row['id']:row['name'] for row in df_m.collect()}\n",
        "\n",
        "      df = df_v.join(df_l.select('line_id', 'long_name','municipalities'), on='line_id' ,how='left')\n",
        "      map_col = create_map([lit(x) for i in dict.items() for x in i])\n",
        "      df = df.withColumn('municipality_names', transform('municipalities', lambda x: map_col[x]))\n",
        "\n",
        "      self.load_partition(df=df, format=\"parquet\", partition='date' ,path=\"/content/lake/gold/vehicles_enriched\")\n",
        "\n",
        "\n",
        "if __name__ == '__main__':\n",
        "\n",
        "    # init spark\n",
        "    from pyspark.sql import SparkSession\n",
        "    spark = SparkSession.builder.master('local').appName('ETL Program').getOrCreate()\n",
        "\n",
        "    print(\"Starting ETL program\")\n",
        "    etl = ETLTask(spark)\n",
        "\n",
        "    # run tasks\n",
        "    print(\"Running Task - Ingestion Vehicles\")\n",
        "    etl.ingestion_vehicles()\n",
        "\n",
        "    print(\"Running Task - Ingestion lines\")\n",
        "    etl.ingestion_lines()\n",
        "\n",
        "    print(\"Running Task - ingestion municipalities \")\n",
        "    etl.ingestion_municipalities()\n",
        "\n",
        "    print(\"Running Task - Cleansing Vehicles\")\n",
        "    etl.cleansing_vehicles()\n",
        "\n",
        "    print(\"Running Task - Cleansing lines\")\n",
        "    etl.cleansing_lines()\n",
        "\n",
        "    print(\"Running Task - Cleansing municipalities\")\n",
        "    etl.cleansing_municipalities()\n",
        "\n",
        "    print(\"Running Task - enrich vehicles\")\n",
        "    etl.enrich_vehicles()\n",
        "\n",
        "    #etl.enrich()\n",
        "\n",
        "    print(\"ETL program completed\")"
      ],
      "metadata": {
        "id": "kwvPzS1llYQx",
        "outputId": "f330a88a-8639-495f-dd7d-4733ac14423f",
        "colab": {
          "base_uri": "https://localhost:8080/"
        }
      },
      "execution_count": 8,
      "outputs": [
        {
          "output_type": "stream",
          "name": "stdout",
          "text": [
            "Starting ETL program\n",
            "Running Task - Ingestion Vehicles\n",
            "Running Task - Ingestion lines\n",
            "Running Task - ingestion municipalities \n",
            "Running Task - Cleansing Vehicles\n",
            "Running Task - Cleansing lines\n",
            "Running Task - Cleansing municipalities\n",
            "Running Task - enrich vehicles\n",
            "ETL program completed\n"
          ]
        }
      ]
    },
    {
      "cell_type": "code",
      "source": [
        "\n",
        "df_v = ETLTask(spark).extract_from_file(format=\"parquet\", path=\"/content/lake/silver/vehicles\")\n",
        "df_l = ETLTask(spark).extract_from_file(format=\"parquet\", path=\"/content/lake/silver/lines\")\n",
        "df_m = ETLTask(spark).extract_from_file(format=\"parquet\", path=\"/content/lake/silver/municipalities\")\n",
        "\n",
        "df_l = df_l.withColumnRenamed(\"id\", \"line_id\")\n",
        "dict = {row['id']:row['name'] for row in df_m.collect()}\n",
        "\n",
        "df = df_v.join(df_l.select('line_id', 'long_name','municipalities'), on='line_id' ,how='left')\n",
        "\n",
        "map_col = create_map([lit(x) for i in dict.items() for x in i])\n",
        "df = df.withColumn('municipality_name', transform('municipalities', lambda x: map_col[x]))\n",
        "#df = df.join(df_m.select('id', 'name'), df.stop_id==df_m.id ,'left'\n",
        "df.printSchema()\n",
        "df.show()"
      ],
      "metadata": {
        "id": "Jn2PvS-0lbBe",
        "outputId": "8c06b50d-bf7b-4d8b-9b82-378192093585",
        "colab": {
          "base_uri": "https://localhost:8080/"
        }
      },
      "execution_count": 3,
      "outputs": [
        {
          "output_type": "stream",
          "name": "stdout",
          "text": [
            "root\n",
            " |-- line_id: string (nullable = true)\n",
            " |-- bearing: integer (nullable = true)\n",
            " |-- block_id: string (nullable = true)\n",
            " |-- current_status: string (nullable = true)\n",
            " |-- id: string (nullable = true)\n",
            " |-- latitude: float (nullable = true)\n",
            " |-- longitude: float (nullable = true)\n",
            " |-- pattern_id: string (nullable = true)\n",
            " |-- route_id: string (nullable = true)\n",
            " |-- schedule_relationship: string (nullable = true)\n",
            " |-- shift_id: string (nullable = true)\n",
            " |-- speed: float (nullable = true)\n",
            " |-- stop_id: string (nullable = true)\n",
            " |-- timestamp: timestamp (nullable = true)\n",
            " |-- trip_id: string (nullable = true)\n",
            " |-- date: integer (nullable = true)\n",
            " |-- long_name: string (nullable = true)\n",
            " |-- municipalities: array (nullable = true)\n",
            " |    |-- element: string (containsNull = true)\n",
            " |-- municipality_name: array (nullable = true)\n",
            " |    |-- element: string (containsNull = true)\n",
            "\n",
            "+-------+-------+--------------------+--------------+--------+---------+---------+----------+--------+---------------------+------------+---------+-------+-------------------+--------------------+--------+--------------------+------------------+--------------------+\n",
            "|line_id|bearing|            block_id|current_status|      id| latitude|longitude|pattern_id|route_id|schedule_relationship|    shift_id|    speed|stop_id|          timestamp|             trip_id|    date|           long_name|    municipalities|   municipality_name|\n",
            "+-------+-------+--------------------+--------------+--------+---------+---------+----------+--------+---------------------+------------+---------+-------+-------------------+--------------------+--------+--------------------+------------------+--------------------+\n",
            "|   2790|    193|             1143-11| IN_TRANSIT_TO| 42|2311|38.833675|-9.085132|  2790_0_1|  2790_0|            SCHEDULED|        1256|4.4444447| 071632|2024-11-27 16:32:19|2790_0_1|1|1|1600...|20241127|Alverca(Est) - Ar...|[1114, 1107, 1106]|[Vila Franca de X...|\n",
            "|   2796|    132|             1732-11| IN_TRANSIT_TO| 42|2771|38.839394|-9.159534|  2796_0_2|  2796_0|            SCHEDULED|        1732|6.9444447| 070383|2024-11-27 16:31:40|2796_0_2|1|1|1600...|20241127|Lisboa (C. Grande...|[1106, 1107, 1114]|[Lisboa, Loures, ...|\n",
            "|   2703|      0|UNAVAILABLE_BLOCK_ID|    STOPPED_AT| 42|2358|38.787655|-9.159168|  2703_0_3|  2703_0|            SCHEDULED|        1327|1.3888888| 060175|2024-11-27 16:32:24|2703_0_3|1|1|1615...|20241127|Campo Grande - Ca...|      [1106, 1107]|    [Lisboa, Loures]|\n",
            "|   1249|      0|           1_1704-11|    STOPPED_AT| 41|1207|38.865192|-9.448826|  1249_0_2|  1249_0|            SCHEDULED|        1782|      0.0| 171789|2024-11-27 16:31:50|1249_0_2_1630_165...|20241127|Portela Sintra (E...|            [1111]|            [Sintra]|\n",
            "|   2792|      0|             1102-11|    STOPPED_AT| 42|2706|38.767746|-9.100199|  2792_0_2|  2792_0|            SCHEDULED|        1221|2.2222223| 060361|2024-11-27 16:32:07|2792_0_2|1|1|1630...|20241127|Arcena - Estação ...|[1114, 1107, 1106]|[Vila Franca de X...|\n",
            "|   1507|     79|           1_1046-11| IN_TRANSIT_TO| 41|1164|38.751297|-9.219493|  1507_0_2|  1507_0|            SCHEDULED|        1107|6.6666665| 030285|2024-11-27 16:32:17|1507_0_2_1630_165...|20241127|Caxias (Estação) ...|      [1110, 1115]|   [Oeiras, Amadora]|\n",
            "|   3017|    320|       ESC_DU_EU2026| IN_TRANSIT_TO| 43|2228|38.663223|-9.186461|  3017_0_2|  3017_0|            SCHEDULED|      EU2107|      5.0| 020075|2024-11-27 16:31:47|3017_0_2_1600_162...|20241127|Charneca da Capar...|            [1503]|            [Almada]|\n",
            "|   2728|      9|             1129-11|   INCOMING_AT|  42|286| 38.82183|-9.098029|  2728_0_2|  2728_0|            SCHEDULED|        1136| 9.722222| 070739|2024-11-27 16:32:03|2728_0_2|1|1|1605...|20241127|Bairro Covina - E...|      [1107, 1106]|    [Loures, Lisboa]|\n",
            "|   4305|    357|20241127-64010305...| IN_TRANSIT_TO|44|12564| 38.57528|-8.903256|  4305_0_2|  4305_0|            SCHEDULED|111180234560|6.6666665| 130024|2024-11-27 16:32:23|4305_0_2|2700|163...|20241127|Brejos do Assa - ...|            [1508]|           [Palmela]|\n",
            "|   2725|    230|             1034-11| IN_TRANSIT_TO| 42|2103|38.821465|-9.177931|  2725_0_1|  2725_0|            SCHEDULED|        1209|     10.0| 070470|2024-11-27 16:31:37|2725_0_1|1|1|1540...|20241127|Estação Oriente -...|      [1106, 1107]|    [Lisboa, Loures]|\n",
            "|   4540|    245|20241127-64010298...|   INCOMING_AT|44|12647|38.539608|-8.836675|  4540_0_1|  4540_0|            SCHEDULED|111250234560|12.222222| 160389|2024-11-27 16:32:27|4540_0_1|2700|161...|20241127|Águas de Moura - ...|      [1512, 1508]|  [Setúbal, Palmela]|\n",
            "|   1604|     36|           1_1335-11| IN_TRANSIT_TO|  41|736|38.699596|-9.348968|  1604_0_2|  1604_0|            SCHEDULED|        1323|     10.0| 050032|2024-11-27 16:32:14|1604_0_2_1600_162...|20241127|Carcavelos (Estaç...|      [1105, 1110]|   [Cascais, Oeiras]|\n",
            "|   1224|    358|           1_1653-11| IN_TRANSIT_TO| 41|1383| 38.75788|-9.259768|  1224_0_2|  1224_0|            SCHEDULED|   1976+1683|11.111111| 170599|2024-11-27 16:31:59|1224_0_2_1630_165...|20241127|Belas Clube Campo...|            [1111]|            [Sintra]|\n",
            "|   3705|    359|       ESC_DU_EU2104| IN_TRANSIT_TO| 43|2201|38.708755|-9.173704|  3705_0_1|  3705_0|            SCHEDULED|      EU2104|10.277778| 060387|2024-11-27 16:31:50|3705_0_1_1500_152...|20241127|Charneca da Capar...|      [1503, 1106]|    [Almada, Lisboa]|\n",
            "|   1529|     10|           1_1426-11|    STOPPED_AT| 41|1105| 38.68873|-9.316934|  1529_0_1|  1529_0|            SCHEDULED|        1453|0.2777778| 121272|2024-11-27 16:31:53|1529_0_1_1630_165...|20241127|Oeiras (Estação N...|      [1110, 1111]|    [Oeiras, Sintra]|\n",
            "|   2731|    208|             1016-11| IN_TRANSIT_TO| 42|2033| 38.78901|-9.110597|  2731_0_3|  2731_0|            SCHEDULED|        1016|5.2777777| 071410|2024-11-27 16:31:09|2731_0_3|1|1|1600...|20241127|Estação Oriente -...|      [1106, 1107]|    [Lisboa, Loures]|\n",
            "|   2764|    215|             1756-11| IN_TRANSIT_TO| 42|2593|38.796688|-9.162869|  2764_0_1|  2764_0|            SCHEDULED|        1715|5.5555553| 110623|2024-11-27 16:32:06|2764_0_1|1|1|1600...|20241127|Bucelas - Lisboa ...|[1107, 1116, 1106]|[Loures, Odivelas...|\n",
            "|   2039|     30|             1708-11| IN_TRANSIT_TO| 42|2503|38.854847| -9.13912|  2039_0_1|  2039_0|            SCHEDULED|        1779|13.611111| 070839|2024-11-27 16:32:17|2039_0_1|1|1|1535...|20241127|Bucelas - Zambuja...|            [1107]|            [Loures]|\n",
            "|   3030|    337|UNAVAILABLE_BLOCK_ID|   INCOMING_AT| 43|2257|38.654144|-9.235625|  3030_0_1|  3030_0|            SCHEDULED|      EU2094|10.833333| 020457|2024-11-27 16:32:19|3030_0_1_1600_162...|20241127|Fonte da Telha - ...|            [1503]|            [Almada]|\n",
            "|   2797|     49|             1742-11| IN_TRANSIT_TO| 42|2761|38.856632|-9.165351|  2797_1_1|  2797_1|            SCHEDULED|        1742|     27.5| 070851|2024-11-27 16:31:47|2797_1_1|1|1|1615...|20241127|Vialonga - Lisboa...|[1114, 1107, 1106]|[Vila Franca de X...|\n",
            "+-------+-------+--------------------+--------------+--------+---------+---------+----------+--------+---------------------+------------+---------+-------+-------------------+--------------------+--------+--------------------+------------------+--------------------+\n",
            "only showing top 20 rows\n",
            "\n"
          ]
        }
      ]
    },
    {
      "cell_type": "code",
      "source": [
        "print(dict)"
      ],
      "metadata": {
        "id": "XhzR3QoWeM8Y",
        "outputId": "100b8ab9-9f14-408f-d94a-0094498e8ea5",
        "colab": {
          "base_uri": "https://localhost:8080/"
        }
      },
      "execution_count": 6,
      "outputs": [
        {
          "output_type": "stream",
          "name": "stdout",
          "text": [
            "{'1107': 'Loures', '1504': 'Barreiro', '1101': 'Alenquer', '1511': 'Sesimbra', '0712': 'Vendas Novas', '1102': 'Arruda dos Vinhos', '1510': 'Seixal', '1114': 'Vila Franca de Xira', '1506': 'Moita', '1115': 'Amadora', '1512': 'Setúbal', '1109': 'Mafra', '1113': 'Torres Vedras', '1503': 'Almada', '1110': 'Oeiras', '1111': 'Sintra', '1508': 'Palmela', '1105': 'Cascais', '1116': 'Odivelas', '1502': 'Alcochete', '1507': 'Montijo', '1112': 'Sobral de Monte Agraço', '1106': 'Lisboa'}\n"
          ]
        }
      ]
    },
    {
      "cell_type": "code",
      "source": [
        "from pyspark.sql.functions import *\n",
        "mapping = {0: \"negative\", 1: \"positive\", 2: \"name\", 3: \"sequel\", 4: \"odd\"}\n",
        "map_col = create_map([lit(x) for i in mapping.items() for x in i])\n",
        "print(map_col)"
      ],
      "metadata": {
        "id": "AeLVyJpXmmOo",
        "outputId": "afb098c4-d528-493d-dca0-410c509a961f",
        "colab": {
          "base_uri": "https://localhost:8080/"
        }
      },
      "execution_count": null,
      "outputs": [
        {
          "output_type": "stream",
          "name": "stdout",
          "text": [
            "Column<'map(0, negative, 1, positive, 2, name, 3, sequel, 4, odd)'>\n"
          ]
        }
      ]
    },
    {
      "cell_type": "code",
      "source": [
        "dict = {row['id']:row['name'] for row in df_m.collect()}\n",
        "\n",
        "dict"
      ],
      "metadata": {
        "id": "iOVBulcR4L6P",
        "outputId": "abde8554-99f3-49a1-85e7-b62e062896bb",
        "colab": {
          "base_uri": "https://localhost:8080/"
        }
      },
      "execution_count": null,
      "outputs": [
        {
          "output_type": "execute_result",
          "data": {
            "text/plain": [
              "{'1107': 'Loures',\n",
              " '1504': 'Barreiro',\n",
              " '1101': 'Alenquer',\n",
              " '1511': 'Sesimbra',\n",
              " '0712': 'Vendas Novas',\n",
              " '1102': 'Arruda dos Vinhos',\n",
              " '1510': 'Seixal',\n",
              " '1114': 'Vila Franca de Xira',\n",
              " '1506': 'Moita',\n",
              " '1115': 'Amadora',\n",
              " '1512': 'Setúbal',\n",
              " '1109': 'Mafra',\n",
              " '1113': 'Torres Vedras',\n",
              " '1503': 'Almada',\n",
              " '1110': 'Oeiras',\n",
              " '1111': 'Sintra',\n",
              " '1508': 'Palmela',\n",
              " '1105': 'Cascais',\n",
              " '1116': 'Odivelas',\n",
              " '1502': 'Alcochete',\n",
              " '1507': 'Montijo',\n",
              " '1112': 'Sobral de Monte Agraço',\n",
              " '1106': 'Lisboa'}"
            ]
          },
          "metadata": {},
          "execution_count": 36
        }
      ]
    },
    {
      "cell_type": "code",
      "source": [
        "map_col = create_map([lit(x) for i in dict.items() for x in i])\n",
        "df_l = df_l.withColumn('arraydata', transform('municipalities', lambda x: map_col[x]))\n",
        "df_l.show()"
      ],
      "metadata": {
        "id": "o8L8Lh_m4-fU",
        "outputId": "a50ee5bb-90dc-4d44-a221-dd2f7b26c365",
        "colab": {
          "base_uri": "https://localhost:8080/"
        }
      },
      "execution_count": null,
      "outputs": [
        {
          "output_type": "stream",
          "name": "stdout",
          "text": [
            "+---------------+-------+----------+----+--------------------+--------------------+--------------------+--------------------+--------------------+----------+----------+--------------------+\n",
            "|_corrupt_record|  color|facilities|  id|          localities|           long_name|      municipalities|            patterns|              routes|short_name|text_color|           arraydata|\n",
            "+---------------+-------+----------+----+--------------------+--------------------+--------------------+--------------------+--------------------+----------+----------+--------------------+\n",
            "|           NULL|#C61D23|        []|2115|             [Mafra]|Codeçal (Tapada N...|              [1109]|[2115_0_1, 2115_0_2]|            [2115_0]|      2115|   #FFFFFF|             [Mafra]|\n",
            "|           NULL|#C61D23|        []|2532|[Alverca, Vila Fr...|Alverca(Est) - Lo...|        [1114, 1107]|[2532_0_1, 2532_0_2]|            [2532_0]|      2532|   #FFFFFF|[Vila Franca de X...|\n",
            "|           NULL|#C61D23|        []|3119|[Pinhal de Cima, ...|Pinhal Conde Cunh...|              [1510]|[3119_0_1, 3119_0_2]|            [3119_0]|      3119|   #FFFFFF|            [Seixal]|\n",
            "|           NULL|#C61D23|        []|3535|[Cacilhas, Cova d...|Cacilhas (Termina...|  [1503, 1510, 1511]|[3535_0_1, 3535_0_2]|            [3535_0]|      3535|   #FFFFFF|[Almada, Seixal, ...|\n",
            "|           NULL|#C61D23|        []|3545|[Corroios, Sta. M...|Corroios (Estação...|        [1510, 1511]|[3545_0_1, 3545_0_2]|            [3545_0]|      3545|   #FFFFFF|  [Seixal, Sesimbra]|\n",
            "|           NULL|#3D85C6|        []|4430|           [Setúbal]|Setúbal (Hospital...|              [1512]|[4430_0_1, 4430_0_2]|            [4430_0]|      4430|   #FFFFFF|           [Setúbal]|\n",
            "|           NULL|#C61D23|        []|1733|[Marquês de Pomba...|Marquês Pombal (M...|  [1106, 1110, 1111]|[1733_0_1, 1733_0...|[1733_0, 1733_1, ...|      1733|   #FFFFFF|[Lisboa, Oeiras, ...|\n",
            "|           NULL|#C61D23|        []|2014|            [Loures]|Escola Maria Vele...|              [1107]|[2014_0_1, 2014_0_2]|            [2014_0]|      2014|   #FFFFFF|            [Loures]|\n",
            "|           NULL|#C61D23|        []|2210|          [Odivelas]|J. Amoreira-Colin...|              [1116]|          [2210_0_3]|            [2210_0]|      2210|   #FFFFFF|          [Odivelas]|\n",
            "|           NULL|#C61D23|        []|2753|[Campo Grande, Od...|Lisboa (C. Grande...|[1106, 1116, 1107...|[2753_0_1, 2753_0_2]|            [2753_0]|      2753|   #FFFFFF|[Lisboa, Odivelas...|\n",
            "|           NULL|#C61D23|        []|4002|[Alcochete, São F...|São Francisco | C...|              [1502]|          [4002_0_3]|            [4002_0]|      4002|   #FFFFFF|         [Alcochete]|\n",
            "|           NULL|#C61D23|        []|4308|[Pinhal Novo, Val...|Palmela (Terminal...|              [1508]|[4308_0_2, 4308_0_1]|            [4308_0]|      4308|   #FFFFFF|           [Palmela]|\n",
            "|           NULL|#C61D23|        []|4452|[Setúbal, Praias ...|Mitrena (Portucel...|              [1512]|[4452_0_1, 4452_0...|    [4452_0, 4452_1]|      4452|   #FFFFFF|           [Setúbal]|\n",
            "|           NULL|#C61D23|        []|1103|[Algés, Oeiras, Q...|Algés (Estação) -...|              [1110]|[1103_0_1, 1103_0_2]|            [1103_0]|      1103|   #FFFFFF|            [Oeiras]|\n",
            "|           NULL|#C61D23|        []|1523|[Cacém, Sintra, T...|Agualva-Cacém (Es...|        [1111, 1110]|[1523_0_1, 1523_0_2]|            [1523_0]|      1523|   #FFFFFF|    [Sintra, Oeiras]|\n",
            "|           NULL|#C61D23|        []|2116|  [Mafra, Murgueira]|Encarnação - Mafr...|              [1109]|[2116_0_1, 2116_0_2]|            [2116_0]|      2116|   #FFFFFF|             [Mafra]|\n",
            "|           NULL|#C61D23|        []|3207|[Carrasqueira, Se...|Carrasqueira - Se...|              [1511]|[3207_0_1, 3207_0_2]|            [3207_0]|      3207|   #FFFFFF|          [Sesimbra]|\n",
            "|           NULL|#3D85C6|        []|4106|[Moita, Alhos Ved...|Alhos Vedros | Ci...|              [1506]|          [4106_0_3]|            [4106_0]|      4106|   #FFFFFF|             [Moita]|\n",
            "|           NULL|#C61D23|        []|4541|[Algeruz, Brejos ...|Algeruz - Setúbal...|        [1508, 1512]|[4541_0_1, 4541_0_2]|            [4541_0]|      4541|   #FFFFFF|  [Palmela, Setúbal]|\n",
            "|           NULL|#C61D23|        []|4550|[Vila Nogueira de...|Palmela (Terminal...|        [1512, 1508]|[4550_0_2, 4550_0_1]|            [4550_0]|      4550|   #FFFFFF|  [Setúbal, Palmela]|\n",
            "+---------------+-------+----------+----+--------------------+--------------------+--------------------+--------------------+--------------------+----------+----------+--------------------+\n",
            "only showing top 20 rows\n",
            "\n"
          ]
        }
      ]
    },
    {
      "cell_type": "code",
      "source": [],
      "metadata": {
        "id": "rDJtJnSB5zRG"
      },
      "execution_count": null,
      "outputs": []
    }
  ],
  "metadata": {
    "colab": {
      "provenance": [],
      "include_colab_link": true
    },
    "kernelspec": {
      "display_name": "Python 3",
      "name": "python3"
    },
    "language_info": {
      "name": "python"
    }
  },
  "nbformat": 4,
  "nbformat_minor": 0
}