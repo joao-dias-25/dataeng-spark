{
  "cells": [
    {
      "cell_type": "markdown",
      "metadata": {
        "id": "view-in-github",
        "colab_type": "text"
      },
      "source": [
        "<a href=\"https://colab.research.google.com/github/joao-dias-25/dataeng-spark/blob/main/spark/challenges/challenge_2.ipynb\" target=\"_parent\"><img src=\"https://colab.research.google.com/assets/colab-badge.svg\" alt=\"Open In Colab\"/></a>"
      ]
    },
    {
      "cell_type": "markdown",
      "metadata": {
        "id": "BOA_wQSmLd9z"
      },
      "source": [
        "# CHALLENGE 2\n",
        "##  Implement CLEANSING process\n",
        "- Set up path in the \"lake\"\n",
        "  - !mkdir -p /content/lake/silver\n",
        "\n",
        "- Read data from BRONZE layer as PARQUET:\n",
        "    - vehicles - path: /content/lake/bronze/vehicles\n",
        "    - lines - path: /content/lake/bronze/lines\n",
        "    - municipalities - path: /content/lake/bronze/municipalities\n",
        "\n",
        "- Transformations\n",
        "  - vehicles\n",
        "    - rename \"lat\" and \"lon\" to \"latitude\" and \"longitude\" respectively\n",
        "    - remove possible duplicates\n",
        "    - remove rows when the column CURRENT_STATUS is null\n",
        "    - remove any corrupted record\n",
        "  - lines\n",
        "    - remove duplicates\n",
        "    - remove rows when the column LONG_NAME is null\n",
        "    - remove any corrupted record\n",
        "  - municipalities\n",
        "    - remove duplicates\n",
        "    - remove rows when the columns NAME or DISTRICT_NAME are null\n",
        "    - remove any corrupted record\n",
        "\n",
        "- Write data as PARQUET into the SILVER layer (/content/lake/silver)\n",
        "  - Partition \"vehicles\" by \"date\"(created in the ingestion)\n",
        "  - Paths:\n",
        "    - vehicles - path: /content/lake/silver/vehicles\n",
        "    - lines - path: /content/lake/silver/lines\n",
        "    - municipalities - path: /content/lake/silver/municipalities"
      ]
    },
    {
      "cell_type": "markdown",
      "metadata": {
        "id": "d9LeYFsPTjAb"
      },
      "source": [
        "# Setting up PySpark"
      ]
    },
    {
      "cell_type": "code",
      "execution_count": 2,
      "metadata": {
        "colab": {
          "base_uri": "https://localhost:8080/"
        },
        "id": "uYXeODL0T1fO",
        "outputId": "7e6f7a0c-9117-4773-c71a-ba6b24f42aae"
      },
      "outputs": [
        {
          "output_type": "stream",
          "name": "stdout",
          "text": [
            "Requirement already satisfied: pyspark in /usr/local/lib/python3.10/dist-packages (3.5.3)\n",
            "Requirement already satisfied: py4j==0.10.9.7 in /usr/local/lib/python3.10/dist-packages (from pyspark) (0.10.9.7)\n"
          ]
        }
      ],
      "source": [
        "%pip install pyspark"
      ]
    },
    {
      "cell_type": "code",
      "source": [
        "\n",
        "from pyspark.sql import SparkSession\n",
        "spark = SparkSession.builder.master('local').appName('Spark Course').config('spark.ui.port', '4050').getOrCreate()\n",
        "sc = spark.sparkContext"
      ],
      "metadata": {
        "id": "o5eW810rC3et"
      },
      "execution_count": 7,
      "outputs": []
    },
    {
      "cell_type": "code",
      "source": [
        "\n",
        "from pyspark.sql import DataFrame, SparkSession\n",
        "from pyspark.sql.functions import *\n",
        "from pyspark.sql.types import *\n",
        "import requests\n",
        "\n",
        "class ETLFlow:\n",
        "    def __init__(self, spark: SparkSession) -> None:\n",
        "        self.spark = spark\n",
        "\n",
        "    def extract_from_file(self, format: str, path: str, **kwargs) -> DataFrame:\n",
        "        df = self.spark.read.format(format).load(path)\n",
        "        return df\n",
        "\n",
        "    def extract_from_api(self, url: str, schema: StructType = None):\n",
        "      response = requests.get(url)\n",
        "      rdd = spark.sparkContext.parallelize(response.json())\n",
        "      if schema:\n",
        "        df = spark.read.schema(schema).json(rdd)\n",
        "      else:\n",
        "        df = spark.read.json(rdd)\n",
        "      return df\n",
        "\n",
        "    def load(self, df: DataFrame, format: str, path: str, **kwargs) -> None:\n",
        "        df.write.mode(\"overwrite\").format(format).save(path)\n",
        "\n",
        "class ETLTask(ETLFlow):\n",
        "\n",
        "    def __init__(self, spark: SparkSession) -> None:\n",
        "        self.spark = spark\n",
        "\n",
        "    def ingestion_vehicles(self):\n",
        "      vehicle_schema = StructType([StructField('bearing', IntegerType(), True),\n",
        "                                  StructField('block_id', StringType(), True),\n",
        "                                  StructField('current_status', StringType(), True),\n",
        "                                  StructField('id', StringType(), True),\n",
        "                                  StructField('lat', FloatType(), True),\n",
        "                                  StructField('line_id', StringType(), True),\n",
        "                                  StructField('lon', FloatType(), True),\n",
        "                                  StructField('pattern_id', StringType(), True),\n",
        "                                  StructField('route_id', StringType(), True),\n",
        "                                  StructField('schedule_relationship', StringType(), True),\n",
        "                                  StructField('shift_id', StringType(), True),\n",
        "                                  StructField('speed', FloatType(), True),\n",
        "                                  StructField('stop_id', StringType(), True),\n",
        "                                  StructField('timestamp', TimestampType(), True),\n",
        "                                  StructField('trip_id', StringType(), True)])\n",
        "\n",
        "      df = self.extract_from_api(url=\"https://api.carrismetropolitana.pt/vehicles\", schema=vehicle_schema)\n",
        "      df = df.withColumn('date', date_format('timestamp',\"HHmmss\"))\n",
        "      self.load(df=df, format=\"parquet\", path=\"/content/lake/bronze/vehicles\")\n",
        "\n",
        "    def ingestion_lines(self):\n",
        "\n",
        "      lines_schema = StructType([\n",
        "                                 StructField('_corrupt_record', StringType(), True),\n",
        "                                  StructField('color', StringType(), True),\n",
        "                                  StructField(\"facilities\",  ArrayType(StringType(), True), True),\n",
        "                                  StructField('id', StringType(), True),\n",
        "                                  StructField(\"localities\",  ArrayType(StringType(), True), True),\n",
        "                                  StructField('long_name', StringType(), True),\n",
        "                                  StructField(\"municipalities\",  ArrayType(StringType(), True), True),\n",
        "                                  StructField(\"patterns\",  ArrayType(StringType(), True), True),\n",
        "                                  StructField(\"routes\",  ArrayType(StringType(), True), True),\n",
        "                                  StructField('short_name', StringType(), True),\n",
        "                                  StructField('text_color', StringType(), True)\n",
        "                                  ])\n",
        "      df = self.extract_from_api(url=\"https://api.carrismetropolitana.pt/lines\", schema=lines_schema)\n",
        "\n",
        "      self.load(df=df, format=\"parquet\", path=\"/content/lake/bronze/lines\")\n",
        "\n",
        "    def ingestion_municipalities(self):\n",
        "      municipalities_schema = StructType([\n",
        "                                 StructField('district_id', StringType(), True),\n",
        "                                  StructField('district_name', StringType(), True),\n",
        "                                  StructField(\"id\",  StringType(), True),\n",
        "                                  StructField('name', StringType(), True),\n",
        "                                  StructField(\"prefix\", StringType(), True),\n",
        "                                  StructField('region_id', StringType(), True),\n",
        "                                  StructField(\"region_name\",  StringType(), True),\n",
        "\n",
        "                                  ])\n",
        "\n",
        "      df = self.extract_from_api(url=\"https://api.carrismetropolitana.pt/municipalities\", schema=municipalities_schema)\n",
        "\n",
        "      self.load(df=df, format=\"parquet\", path=\"/content/lake/bronze/municipalities\")\n",
        "\n",
        "    def cleansing_vehicles(self):\n",
        "      df = self.extract_from_file(format=\"parquet\", path=\"/content/lake/bronze/vehicles\")\n",
        "\n",
        "      # transformations\n",
        "      df = df.withColumnRenamed(\"lat\", \"latitude\")\n",
        "      df = df.withColumnRenamed(\"lon\", \"longitude\")\n",
        "      df = df.drop_duplicates()\n",
        "      df = df.filter(df.current_status.isNotNull())\n",
        "\n",
        "      self.load(df=df, format=\"parquet\", path=\"/content/lake/silver/vehicles\")\n",
        "\n",
        "\n",
        "\n",
        "    def enrich(self):\n",
        "        pass\n",
        "\n",
        "\n",
        "if __name__ == '__main__':\n",
        "\n",
        "    # init spark\n",
        "    from pyspark.sql import SparkSession\n",
        "    spark = SparkSession.builder.master('local').appName('ETL Program').getOrCreate()\n",
        "\n",
        "    print(\"Starting ETL program\")\n",
        "    etl = ETLTask(spark)\n",
        "\n",
        "    # run tasks\n",
        "    #print(\"Running Task - Ingestion Vehicles\")\n",
        "   # etl.ingestion_vehicles()\n",
        "\n",
        "    #print(\"Running Task - Ingestion lines\")\n",
        "    #etl.ingestion_lines()\n",
        "\n",
        "    #print(\"Running Task - ingestion municipalities \")\n",
        "    #etl.ingestion_municipalities()\n",
        "\n",
        "    print(\"Running Task - Cleansing Vehicles\")\n",
        "    etl.cleansing_vehicles()\n",
        "\n",
        "    #etl.enrich()\n",
        "\n",
        "    print(\"ETL program completed\")"
      ],
      "metadata": {
        "id": "RIpsmUNACtpd",
        "outputId": "ec746714-d309-45c9-dbdd-f5604e11cdfa",
        "colab": {
          "base_uri": "https://localhost:8080/"
        }
      },
      "execution_count": 24,
      "outputs": [
        {
          "output_type": "stream",
          "name": "stdout",
          "text": [
            "Starting ETL program\n",
            "Running Task - Cleansing Vehicles\n",
            "ETL program completed\n"
          ]
        }
      ]
    },
    {
      "cell_type": "code",
      "source": [],
      "metadata": {
        "id": "BLxWnFlyE3r5"
      },
      "execution_count": 24,
      "outputs": []
    },
    {
      "cell_type": "code",
      "source": [],
      "metadata": {
        "id": "NVGp8bgXE7yB"
      },
      "execution_count": null,
      "outputs": []
    },
    {
      "cell_type": "code",
      "source": [
        "df = ETLTask(spark).extract_from_file(format=\"parquet\", path=\"/content/lake/silver/vehicles\")\n",
        "\n",
        "\n",
        "df.printSchema()\n",
        "df.filter(df.current_status.isNull()).show()"
      ],
      "metadata": {
        "id": "75CrcxIhCvpI",
        "outputId": "4ce81283-f7b0-4f02-fc86-2ffde3b33fa3",
        "colab": {
          "base_uri": "https://localhost:8080/"
        }
      },
      "execution_count": 23,
      "outputs": [
        {
          "output_type": "stream",
          "name": "stdout",
          "text": [
            "root\n",
            " |-- bearing: integer (nullable = true)\n",
            " |-- block_id: string (nullable = true)\n",
            " |-- current_status: string (nullable = true)\n",
            " |-- id: string (nullable = true)\n",
            " |-- latitude: float (nullable = true)\n",
            " |-- line_id: string (nullable = true)\n",
            " |-- longitude: float (nullable = true)\n",
            " |-- pattern_id: string (nullable = true)\n",
            " |-- route_id: string (nullable = true)\n",
            " |-- schedule_relationship: string (nullable = true)\n",
            " |-- shift_id: string (nullable = true)\n",
            " |-- speed: float (nullable = true)\n",
            " |-- stop_id: string (nullable = true)\n",
            " |-- timestamp: timestamp (nullable = true)\n",
            " |-- trip_id: string (nullable = true)\n",
            " |-- date: string (nullable = true)\n",
            "\n",
            "+-------+--------+--------------+---+--------+-------+---------+----------+--------+---------------------+--------+-----+-------+---------+-------+----+\n",
            "|bearing|block_id|current_status| id|latitude|line_id|longitude|pattern_id|route_id|schedule_relationship|shift_id|speed|stop_id|timestamp|trip_id|date|\n",
            "+-------+--------+--------------+---+--------+-------+---------+----------+--------+---------------------+--------+-----+-------+---------+-------+----+\n",
            "+-------+--------+--------------+---+--------+-------+---------+----------+--------+---------------------+--------+-----+-------+---------+-------+----+\n",
            "\n"
          ]
        }
      ]
    },
    {
      "cell_type": "code",
      "source": [
        "df = ETLTask(spark).extract_from_file(format=\"parquet\", path=\"/content/lake/bronze/vehicles\")\n",
        "\n",
        "df = df.withColumnRenamed(\"lat\", \"latitude\")\n",
        "df = df.withColumnRenamed(\"lon\", \"longitude\")\n",
        "df.printSchema()\n",
        "df.show()"
      ],
      "metadata": {
        "id": "zzEFMjlJCzt-",
        "outputId": "c6125b16-8a1e-428b-8d95-f6152fc435c1",
        "colab": {
          "base_uri": "https://localhost:8080/"
        }
      },
      "execution_count": 17,
      "outputs": [
        {
          "output_type": "stream",
          "name": "stdout",
          "text": [
            "root\n",
            " |-- bearing: integer (nullable = true)\n",
            " |-- block_id: string (nullable = true)\n",
            " |-- current_status: string (nullable = true)\n",
            " |-- id: string (nullable = true)\n",
            " |-- latitude: float (nullable = true)\n",
            " |-- line_id: string (nullable = true)\n",
            " |-- longitude: float (nullable = true)\n",
            " |-- pattern_id: string (nullable = true)\n",
            " |-- route_id: string (nullable = true)\n",
            " |-- schedule_relationship: string (nullable = true)\n",
            " |-- shift_id: string (nullable = true)\n",
            " |-- speed: float (nullable = true)\n",
            " |-- stop_id: string (nullable = true)\n",
            " |-- timestamp: timestamp (nullable = true)\n",
            " |-- trip_id: string (nullable = true)\n",
            " |-- date: string (nullable = true)\n",
            "\n",
            "+-------+--------------------+--------------+--------+---------+-------+---------+----------+--------+---------------------+------------+---------+-------+-------------------+--------------------+------+\n",
            "|bearing|            block_id|current_status|      id| latitude|line_id|longitude|pattern_id|route_id|schedule_relationship|    shift_id|    speed|stop_id|          timestamp|             trip_id|  date|\n",
            "+-------+--------------------+--------------+--------+---------+-------+---------+----------+--------+---------------------+------------+---------+-------+-------------------+--------------------+------+\n",
            "|    334|20241122-64010324...| IN_TRANSIT_TO|44|12556|38.521713|   4412| -8.82723|  4412_0_1|  4412_0|            SCHEDULED|111650234560| 8.611111| 160325|2024-11-22 18:05:02|4412_0_1|2200|175...|180502|\n",
            "|    335|20241122-64010102...| IN_TRANSIT_TO|44|12735|38.703598|   4203|  -9.0065|  4203_0_2|  4203_0|            SCHEDULED|121440234560|4.7222223| 100135|2024-11-22 18:04:57|4203_0_2|2200|180...|180457|\n",
            "|    227|20241122-64010230...| IN_TRANSIT_TO|44|12074|38.525425|   4409|-8.885193|  4409_0_1|  4409_0|            SCHEDULED|112210234560|3.3333333| 160213|2024-11-22 18:04:59|4409_0_1|2200|173...|180459|\n",
            "|    289|20241122-64010221...| IN_TRANSIT_TO|44|12088| 38.54176|   4420|-8.877129|  4420_0_2|  4420_0|            SCHEDULED|112300234560|4.7222223| 160375|2024-11-22 18:04:57|4420_0_2|2200|171...|180457|\n",
            "|    240|20241122-64010123...| IN_TRANSIT_TO|44|12071| 38.65294|   4102|-8.991591|  4102_0_2|  4102_0|            SCHEDULED|121230230560|      0.0| 090002|2024-11-22 18:05:02|4102_0_2|2200|174...|180502|\n",
            "|    103|20241122-64010092...|   INCOMING_AT|44|12532|38.622738|   4521|-8.862225|  4521_0_2|  4521_0|            SCHEDULED|121540234560|12.222222| 130543|2024-11-22 18:05:08|4521_0_2|2200|174...|180508|\n",
            "|    176|20241122-64010023...| IN_TRANSIT_TO|44|12742|38.705425|   4704|-8.927705|  4704_0_2|  4704_0|            SCHEDULED|123250234560|10.277778| 100295|2024-11-22 18:05:04|4704_0_2|2200|172...|180504|\n",
            "|     57|20241122-64010261...| IN_TRANSIT_TO|44|12548|38.540615|   4560| -9.02284|  4560_0_2|  4560_0|            SCHEDULED|111620234560| 8.611111| 160760|2024-11-22 18:05:10|4560_0_2|2200|173...|180510|\n",
            "|    349|20241122-64010175...| IN_TRANSIT_TO|44|12676| 38.53585|   4725|-8.884519|  4725_0_1|  4725_0|            SCHEDULED|113080234560|      0.0| 161001|2024-11-22 18:04:59|4725_0_1|2200|170...|180459|\n",
            "|    120|20241122-64010152...| IN_TRANSIT_TO|44|12679|38.731785|   4720|-9.000241|  4720_0_1|  4720_0|            SCHEDULED|113310234560|3.6111112| 160027|2024-11-22 18:04:58|4720_0_1|2200|175...|180458|\n",
            "|    262|20241122-64010282...| IN_TRANSIT_TO|44|12583| 38.52342|   4412|-8.895746|  4412_0_1|  4412_0|            SCHEDULED|111410234560|6.6666665| 160161|2024-11-22 18:05:01|4412_0_1|2200|171...|180501|\n",
            "|    348|20241122-64010255...| IN_TRANSIT_TO|44|12523|38.644444|   4307|-8.743657|  4307_0_2|  4307_0|            SCHEDULED|111670234560|19.722221| 130156|2024-11-22 18:05:05|4307_0_2|2200|171...|180505|\n",
            "|    163|20241122-64010300...| IN_TRANSIT_TO|44|12746|38.559345|   4562|-8.887477|  4562_0_2|  4562_0|            SCHEDULED|111600234560|13.888889| 130467|2024-11-22 18:04:58|4562_0_2|2200|170...|180458|\n",
            "|    178|20241122-64010458...| IN_TRANSIT_TO|44|12093|38.537247|   4481|  -8.8823|  4481_0_3|  4481_0|            SCHEDULED|112520234560| 8.055555| 160143|2024-11-22 18:04:58|4481_0_3|2200|180...|180458|\n",
            "|     18|20241122-64010084...| IN_TRANSIT_TO|44|12603|38.677647|   4512| -8.92889|  4512_0_2|  4512_0|            SCHEDULED|121610234560|13.611111| 100356|2024-11-22 18:05:06|4512_0_2|2200|170...|180506|\n",
            "|     93|20241122-64010027...| IN_TRANSIT_TO|44|12692|38.786613|   4705|-9.095616|  4705_0_1|  4705_0|            SCHEDULED|123210234560|25.277779| 100042|2024-11-22 18:04:57|4705_0_1|2200|180...|180457|\n",
            "|    264|20241122-64010222...| IN_TRANSIT_TO|44|12059|38.528397|   4438|-8.889605|  4438_0_1|  4438_0|            SCHEDULED|112290234560|2.7777777| 160123|2024-11-22 18:05:10|4438_0_1|2200|174...|180510|\n",
            "|     40|           1_1002-11| IN_TRANSIT_TO| 41|1157|38.753593|   1706|-9.196126|  1706_0_2|  1706_0|            SCHEDULED|        1106|6.6666665| 060015|2024-11-22 18:04:39|1706_0_2_1730_175...|180439|\n",
            "|    151|20241122-64010271...| IN_TRANSIT_TO|44|12612|38.543243|   4632|-9.028202|  4632_0_1|  4632_0|            SCHEDULED|111520234560|5.8333335| 160781|2024-11-22 18:04:59|4632_0_1|2200|175...|180459|\n",
            "|    336|20241122-64010094...| IN_TRANSIT_TO|44|12637|38.753895|   4002|-8.959247|  4002_0_3|  4002_0|            SCHEDULED|121520234560|      5.0| 010161|2024-11-22 18:04:59|4002_0_3|2200|173...|180459|\n",
            "+-------+--------------------+--------------+--------+---------+-------+---------+----------+--------+---------------------+------------+---------+-------+-------------------+--------------------+------+\n",
            "only showing top 20 rows\n",
            "\n"
          ]
        }
      ]
    },
    {
      "cell_type": "code",
      "source": [],
      "metadata": {
        "id": "MKKGRvqhFd4T"
      },
      "execution_count": null,
      "outputs": []
    }
  ],
  "metadata": {
    "colab": {
      "provenance": [],
      "include_colab_link": true
    },
    "kernelspec": {
      "display_name": "Python 3",
      "name": "python3"
    },
    "language_info": {
      "name": "python"
    }
  },
  "nbformat": 4,
  "nbformat_minor": 0
}