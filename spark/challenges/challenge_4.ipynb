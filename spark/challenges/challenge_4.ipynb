{
  "cells": [
    {
      "cell_type": "markdown",
      "metadata": {
        "id": "view-in-github",
        "colab_type": "text"
      },
      "source": [
        "<a href=\"https://colab.research.google.com/github/joao-dias-25/dataeng-spark/blob/main/spark/challenges/challenge_4.ipynb\" target=\"_parent\"><img src=\"https://colab.research.google.com/assets/colab-badge.svg\" alt=\"Open In Colab\"/></a>"
      ]
    },
    {
      "cell_type": "markdown",
      "metadata": {
        "id": "BOA_wQSmLd9z"
      },
      "source": [
        "# CHALLENGE 4\n",
        "##  Analyze data\n",
        "\n",
        "- Query table \"vehicles_enriched\" in gold layer\n",
        "- Aggregate data by municipality_name (array)\n",
        "- Calculate:\n",
        "  - count of vehicles (id) that pass through that municipality\n",
        "  - sum speed of vehicles\n",
        "\n",
        "Questions:\n",
        "  - What are the top 3 municipalities by vehicles routes?\n",
        "  - What are the top 3 municipalities with higher vehicle speed on average?\n",
        "\n",
        "\n",
        "Tips:\n",
        "- explode array into rows -> https://spark.apache.org/docs/latest/api/python/reference/pyspark.sql/api/pyspark.sql.functions.explode.html\n"
      ]
    },
    {
      "cell_type": "markdown",
      "metadata": {
        "id": "d9LeYFsPTjAb"
      },
      "source": [
        "# Setting up PySpark"
      ]
    },
    {
      "cell_type": "code",
      "execution_count": 1,
      "metadata": {
        "colab": {
          "base_uri": "https://localhost:8080/"
        },
        "id": "uYXeODL0T1fO",
        "outputId": "c569880a-72a5-4d56-e758-0bcc18dc7f08"
      },
      "outputs": [
        {
          "output_type": "stream",
          "name": "stdout",
          "text": [
            "Requirement already satisfied: pyspark in /usr/local/lib/python3.10/dist-packages (3.5.3)\n",
            "Requirement already satisfied: py4j==0.10.9.7 in /usr/local/lib/python3.10/dist-packages (from pyspark) (0.10.9.7)\n"
          ]
        }
      ],
      "source": [
        "%pip install pyspark"
      ]
    },
    {
      "cell_type": "code",
      "source": [
        "\n",
        "from pyspark.sql import DataFrame, SparkSession\n",
        "from pyspark.sql.functions import *\n",
        "from pyspark.sql.types import *\n",
        "import requests\n",
        "\n",
        "class ETLFlow:\n",
        "    def __init__(self, spark: SparkSession) -> None:\n",
        "        self.spark = spark\n",
        "\n",
        "    def extract_from_file(self, format: str, path: str, **kwargs) -> DataFrame:\n",
        "        df = self.spark.read.format(format).load(path)\n",
        "        return df\n",
        "\n",
        "    def extract_from_api(self, url: str, schema: StructType = None):\n",
        "      response = requests.get(url)\n",
        "      rdd = spark.sparkContext.parallelize(response.json())\n",
        "      if schema:\n",
        "        df = spark.read.schema(schema).json(rdd)\n",
        "      else:\n",
        "        df = spark.read.json(rdd)\n",
        "      return df\n",
        "\n",
        "    def load(self, df: DataFrame, format: str, path: str, **kwargs) -> None:\n",
        "        df.coalesce(1).write.mode(\"overwrite\").format(format).save(path)\n",
        "\n",
        "    def load_partition(self, df: DataFrame, partition:str, format: str, path: str, **kwargs) -> None:\n",
        "        df.coalesce(1).write.mode(\"overwrite\").partitionBy(partition).format(format).save(path)\n",
        "\n",
        "class ETLTask(ETLFlow):\n",
        "\n",
        "    def __init__(self, spark: SparkSession) -> None:\n",
        "        self.spark = spark\n",
        "\n",
        "    def ingestion_vehicles(self):\n",
        "      vehicle_schema = StructType([StructField('bearing', IntegerType(), True),\n",
        "                                  StructField('block_id', StringType(), True),\n",
        "                                  StructField('current_status', StringType(), True),\n",
        "                                  StructField('id', StringType(), True),\n",
        "                                  StructField('lat', FloatType(), True),\n",
        "                                  StructField('line_id', StringType(), True),\n",
        "                                  StructField('lon', FloatType(), True),\n",
        "                                  StructField('pattern_id', StringType(), True),\n",
        "                                  StructField('route_id', StringType(), True),\n",
        "                                  StructField('schedule_relationship', StringType(), True),\n",
        "                                  StructField('shift_id', StringType(), True),\n",
        "                                  StructField('speed', FloatType(), True),\n",
        "                                  StructField('stop_id', StringType(), True),\n",
        "                                  StructField('timestamp', TimestampType(), True),\n",
        "                                  StructField('trip_id', StringType(), True)])\n",
        "\n",
        "      df = self.extract_from_api(url=\"https://api.carrismetropolitana.pt/vehicles\", schema=vehicle_schema)\n",
        "      df = df.withColumn('date', date_format('timestamp',\"yyyyMMdd\"))\n",
        "      self.load(df=df, format=\"parquet\", path=\"/content/lake/bronze/vehicles\")\n",
        "\n",
        "    def ingestion_lines(self):\n",
        "\n",
        "      lines_schema = StructType([\n",
        "                                 StructField('_corrupt_record', StringType(), True),\n",
        "                                  StructField('color', StringType(), True),\n",
        "                                  StructField(\"facilities\",  ArrayType(StringType(), True), True),\n",
        "                                  StructField('id', StringType(), True),\n",
        "                                  StructField(\"localities\",  ArrayType(StringType(), True), True),\n",
        "                                  StructField('long_name', StringType(), True),\n",
        "                                  StructField(\"municipalities\",  ArrayType(StringType(), True), True),\n",
        "                                  StructField(\"patterns\",  ArrayType(StringType(), True), True),\n",
        "                                  StructField(\"routes\",  ArrayType(StringType(), True), True),\n",
        "                                  StructField('short_name', StringType(), True),\n",
        "                                  StructField('text_color', StringType(), True)\n",
        "                                  ])\n",
        "      df = self.extract_from_api(url=\"https://api.carrismetropolitana.pt/lines\", schema=lines_schema)\n",
        "\n",
        "      self.load(df=df, format=\"parquet\", path=\"/content/lake/bronze/lines\")\n",
        "\n",
        "    def ingestion_municipalities(self):\n",
        "      municipalities_schema = StructType([\n",
        "                                 StructField('district_id', StringType(), True),\n",
        "                                  StructField('district_name', StringType(), True),\n",
        "                                  StructField(\"id\",  StringType(), True),\n",
        "                                  StructField('name', StringType(), True),\n",
        "                                  StructField(\"prefix\", StringType(), True),\n",
        "                                  StructField('region_id', StringType(), True),\n",
        "                                  StructField(\"region_name\",  StringType(), True),\n",
        "\n",
        "                                  ])\n",
        "\n",
        "      df = self.extract_from_api(url=\"https://api.carrismetropolitana.pt/municipalities\", schema=municipalities_schema)\n",
        "\n",
        "      self.load(df=df, format=\"parquet\", path=\"/content/lake/bronze/municipalities\")\n",
        "\n",
        "    def cleansing_vehicles(self):\n",
        "      df = self.extract_from_file(format=\"parquet\", path=\"/content/lake/bronze/vehicles\")\n",
        "\n",
        "      # transformations\n",
        "      df = df.withColumnRenamed(\"lat\", \"latitude\")\n",
        "      df = df.withColumnRenamed(\"lon\", \"longitude\")\n",
        "      df = df.drop_duplicates()\n",
        "      df = df.filter(df.current_status.isNotNull())\n",
        "\n",
        "      self.load_partition(df=df, format=\"parquet\", partition='date' ,path=\"/content/lake/silver/vehicles\")\n",
        "\n",
        "    def cleansing_lines(self):\n",
        "      df = self.extract_from_file(format=\"parquet\", path=\"/content/lake/bronze/lines\")\n",
        "\n",
        "      # transformations\n",
        "      df = df.drop_duplicates()\n",
        "      df = df.filter(df.long_name.isNotNull())\n",
        "      self.load(df=df, format=\"parquet\", path=\"/content/lake/silver/lines\")\n",
        "\n",
        "    def cleansing_municipalities(self):\n",
        "      df = self.extract_from_file(format=\"parquet\", path=\"/content/lake/bronze/municipalities\")\n",
        "\n",
        "      # transformations\n",
        "      df = df.drop_duplicates()\n",
        "      df = df.filter(df.name.isNotNull() & df.district_name.isNotNull())\n",
        "      self.load(df=df, format=\"parquet\", path=\"/content/lake/silver/municipalities\")\n",
        "\n",
        "\n",
        "\n",
        "    def enrich_vehicles(self):\n",
        "      df_v = self.extract_from_file(format=\"parquet\", path=\"/content/lake/silver/vehicles\")\n",
        "      df_l = self.extract_from_file(format=\"parquet\", path=\"/content/lake/silver/lines\")\n",
        "      df_m = self.extract_from_file(format=\"parquet\", path=\"/content/lake/silver/municipalities\")\n",
        "\n",
        "      # transformations\n",
        "      # transformations\n",
        "\n",
        "      df_l = df_l.withColumnRenamed(\"id\", \"line_id\")\n",
        "      dict = {row['id']:row['name'] for row in df_m.collect()}\n",
        "\n",
        "      df = df_v.join(df_l.select('line_id', 'long_name','municipalities'), on='line_id' ,how='left')\n",
        "      map_col = create_map([lit(x) for i in dict.items() for x in i])\n",
        "      df = df.withColumn('municipality_names', transform('municipalities', lambda x: map_col[x]))\n",
        "\n",
        "      self.load_partition(df=df, format=\"parquet\", partition='date' ,path=\"/content/lake/gold/vehicles_enriched\")\n",
        "\n",
        "\n",
        "if __name__ == '__main__':\n",
        "\n",
        "    # init spark\n",
        "    from pyspark.sql import SparkSession\n",
        "    spark = SparkSession.builder.master('local').appName('ETL Program').getOrCreate()\n",
        "\n",
        "    print(\"Starting ETL program\")\n",
        "    etl = ETLTask(spark)\n",
        "\n",
        "    # run tasks\n",
        "    print(\"Running Task - Ingestion Vehicles\")\n",
        "    etl.ingestion_vehicles()\n",
        "\n",
        "    print(\"Running Task - Ingestion lines\")\n",
        "    etl.ingestion_lines()\n",
        "\n",
        "    print(\"Running Task - ingestion municipalities \")\n",
        "    etl.ingestion_municipalities()\n",
        "\n",
        "    print(\"Running Task - Cleansing Vehicles\")\n",
        "    etl.cleansing_vehicles()\n",
        "\n",
        "    print(\"Running Task - Cleansing lines\")\n",
        "    etl.cleansing_lines()\n",
        "\n",
        "    print(\"Running Task - Cleansing municipalities\")\n",
        "    etl.cleansing_municipalities()\n",
        "\n",
        "    print(\"Running Task - enrich vehicles\")\n",
        "    etl.enrich_vehicles()\n",
        "\n",
        "    #etl.enrich()\n",
        "\n",
        "    print(\"ETL program completed\")"
      ],
      "metadata": {
        "id": "rMiQSlzLqJsk",
        "outputId": "9b18d602-ab24-4e15-d1a9-6b8fb59de58d",
        "colab": {
          "base_uri": "https://localhost:8080/"
        }
      },
      "execution_count": 2,
      "outputs": [
        {
          "output_type": "stream",
          "name": "stdout",
          "text": [
            "Starting ETL program\n",
            "Running Task - Ingestion Vehicles\n",
            "Running Task - Ingestion lines\n",
            "Running Task - ingestion municipalities \n",
            "Running Task - Cleansing Vehicles\n",
            "Running Task - Cleansing lines\n",
            "Running Task - Cleansing municipalities\n",
            "Running Task - enrich vehicles\n",
            "ETL program completed\n"
          ]
        }
      ]
    },
    {
      "cell_type": "code",
      "source": [
        "df = ETLTask(spark).extract_from_file(format=\"parquet\", path=\"/content/lake/gold/vehicles_enriched\")\n",
        "df = df.withColumn(\"municipality\", explode(df.municipality_names))\n",
        "\n",
        "#count of vehicles (id) that pass through that municipality\n",
        "df.groupBy('municipality').agg(count('municipality').alias('lines_per_municipality'),\n",
        "                               sum('speed').alias('sum_speed'),\n",
        "                               avg('speed').alias('avg_speed')).orderBy(desc('lines_per_municipality')).show()\n"
      ],
      "metadata": {
        "id": "vu0JFFW_qMB7",
        "outputId": "265a4fde-4405-44fb-98ed-aa146c256e83",
        "colab": {
          "base_uri": "https://localhost:8080/"
        }
      },
      "execution_count": 24,
      "outputs": [
        {
          "output_type": "stream",
          "name": "stdout",
          "text": [
            "+-------------------+----------------------+------------------+------------------+\n",
            "|       municipality|lines_per_municipality|         sum_speed|         avg_speed|\n",
            "+-------------------+----------------------+------------------+------------------+\n",
            "|             Lisboa|                   238|1307.2222224473953| 5.492530346417627|\n",
            "|             Sintra|                   183| 990.0000005364418| 5.409836068505147|\n",
            "|             Loures|                   152| 750.0000000596046|4.9342105267079255|\n",
            "|             Almada|                   107| 559.7222218513489| 5.231048802349055|\n",
            "|            Amadora|                   104|484.72222077846527|4.6607905844083195|\n",
            "|             Oeiras|                   104|  436.111108481884| 4.193376043095038|\n",
            "|           Odivelas|                    91|401.38888919353485| 4.410866914214669|\n",
            "|             Seixal|                    79|425.27777779102325| 5.383263010012953|\n",
            "|            Setúbal|                    71| 420.5555543899536|5.9233176674641355|\n",
            "|            Palmela|                    53| 360.5555557012558| 6.802935013231242|\n",
            "|Vila Franca de Xira|                    51| 289.9999997615814| 5.686274505129047|\n",
            "|              Mafra|                    50|456.38889133930206|  9.12777782678604|\n",
            "|            Cascais|                    43|232.77777606248856| 5.413436652616013|\n",
            "|            Montijo|                    39| 282.2222223877907| 7.236467240712582|\n",
            "|           Sesimbra|                    29|141.66666507720947| 4.885057416455499|\n",
            "|           Barreiro|                    24| 148.0555546283722| 6.168981442848842|\n",
            "|          Alcochete|                    23| 220.5555546283722| 9.589371940364009|\n",
            "|              Moita|                    20|  97.2222216129303|4.8611110806465145|\n",
            "|  Arruda dos Vinhos|                     3|  9.44444465637207|  3.14814821879069|\n",
            "|           Alenquer|                     3| 19.44444441795349| 6.481481472651164|\n",
            "+-------------------+----------------------+------------------+------------------+\n",
            "only showing top 20 rows\n",
            "\n"
          ]
        }
      ]
    },
    {
      "cell_type": "code",
      "source": [
        "df.groupBy('municipality').agg(count('municipality').alias('lines_per_municipality'),\n",
        "                               sum('speed').alias('sum_speed'),\n",
        "                               avg('speed').alias('avg_speed')).orderBy(desc('avg_speed')).show()"
      ],
      "metadata": {
        "id": "HFupfc-HtX_X",
        "outputId": "0dee0de0-42ca-4efa-893b-9db0b1354f94",
        "colab": {
          "base_uri": "https://localhost:8080/"
        }
      },
      "execution_count": 25,
      "outputs": [
        {
          "output_type": "stream",
          "name": "stdout",
          "text": [
            "+--------------------+----------------------+------------------+------------------+\n",
            "|        municipality|lines_per_municipality|         sum_speed|         avg_speed|\n",
            "+--------------------+----------------------+------------------+------------------+\n",
            "|       Torres Vedras|                     1| 13.61111068725586| 13.61111068725586|\n",
            "|           Alcochete|                    23| 220.5555546283722| 9.589371940364009|\n",
            "|               Mafra|                    50|456.38889133930206|  9.12777782678604|\n",
            "|        Vendas Novas|                     2| 18.05555534362793| 9.027777671813965|\n",
            "|             Montijo|                    39| 282.2222223877907| 7.236467240712582|\n",
            "|             Palmela|                    53| 360.5555557012558| 6.802935013231242|\n",
            "|Sobral de Monte A...|                     2|13.333333253860474| 6.666666626930237|\n",
            "|            Alenquer|                     3| 19.44444441795349| 6.481481472651164|\n",
            "|            Barreiro|                    24| 148.0555546283722| 6.168981442848842|\n",
            "|             Setúbal|                    71| 420.5555543899536|5.9233176674641355|\n",
            "| Vila Franca de Xira|                    51| 289.9999997615814| 5.686274505129047|\n",
            "|              Lisboa|                   238|1307.2222224473953| 5.492530346417627|\n",
            "|             Cascais|                    43|232.77777606248856| 5.413436652616013|\n",
            "|              Sintra|                   183| 990.0000005364418| 5.409836068505147|\n",
            "|              Seixal|                    79|425.27777779102325| 5.383263010012953|\n",
            "|              Almada|                   107| 559.7222218513489| 5.231048802349055|\n",
            "|              Loures|                   152| 750.0000000596046|4.9342105267079255|\n",
            "|            Sesimbra|                    29|141.66666507720947| 4.885057416455499|\n",
            "|               Moita|                    20|  97.2222216129303|4.8611110806465145|\n",
            "|             Amadora|                   104|484.72222077846527|4.6607905844083195|\n",
            "+--------------------+----------------------+------------------+------------------+\n",
            "only showing top 20 rows\n",
            "\n"
          ]
        }
      ]
    },
    {
      "cell_type": "code",
      "source": [],
      "metadata": {
        "id": "7A2MYNzfuYQJ"
      },
      "execution_count": 25,
      "outputs": []
    },
    {
      "cell_type": "code",
      "source": [],
      "metadata": {
        "id": "4WpKh2Lxuv5t"
      },
      "execution_count": null,
      "outputs": []
    }
  ],
  "metadata": {
    "colab": {
      "provenance": [],
      "include_colab_link": true
    },
    "kernelspec": {
      "display_name": "Python 3",
      "name": "python3"
    },
    "language_info": {
      "name": "python"
    }
  },
  "nbformat": 4,
  "nbformat_minor": 0
}