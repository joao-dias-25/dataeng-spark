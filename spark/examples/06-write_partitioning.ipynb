{
  "cells": [
    {
      "cell_type": "markdown",
      "metadata": {
        "id": "view-in-github",
        "colab_type": "text"
      },
      "source": [
        "<a href=\"https://colab.research.google.com/github/joao-dias-25/dataeng-spark/blob/main/spark/examples/06-write_partitioning.ipynb\" target=\"_parent\"><img src=\"https://colab.research.google.com/assets/colab-badge.svg\" alt=\"Open In Colab\"/></a>"
      ]
    },
    {
      "cell_type": "markdown",
      "metadata": {
        "id": "BOA_wQSmLd9z"
      },
      "source": [
        "# Write\n",
        "- .write\n",
        "- .format (parquet, csv, json)\n",
        "- options\n",
        "- spark.sql.sources.partitionOverwriteMode dynamic\n",
        "\n",
        "# Write Mode\n",
        "- overwrite - The overwrite mode is used to overwrite the existing file, alternatively, you can use SaveMode.Overwrite\n",
        "- append - To add the data to the existing file, alternatively, you can use SaveMode.Append\n",
        "- ignore - Ignores write operation when the file already exists, alternatively, you can use SaveMode.Ignore.\n",
        "- errorifexists or error - This is a default option when the file already exists, it returns an error, alternatively, you can use SaveMode.ErrorIfExists.\n",
        "\n",
        "# Partitioning\n",
        "Process to organize the data into multiple chunks based on some criteria.\n",
        "Partitions are organized in sub-folders.\n",
        "Partitioning improves performance in Spark."
      ]
    },
    {
      "cell_type": "markdown",
      "metadata": {
        "id": "d9LeYFsPTjAb"
      },
      "source": [
        "# Setting up PySpark"
      ]
    },
    {
      "cell_type": "code",
      "execution_count": null,
      "metadata": {
        "colab": {
          "base_uri": "https://localhost:8080/"
        },
        "id": "uYXeODL0T1fO",
        "outputId": "c410e46c-4a50-43aa-926f-d0417c6280d2"
      },
      "outputs": [
        {
          "name": "stdout",
          "output_type": "stream",
          "text": [
            "Requirement already satisfied: pyspark in /usr/local/lib/python3.10/dist-packages (3.5.3)\n",
            "Requirement already satisfied: py4j==0.10.9.7 in /usr/local/lib/python3.10/dist-packages (from pyspark) (0.10.9.7)\n"
          ]
        }
      ],
      "source": [
        "%pip install pyspark"
      ]
    },
    {
      "cell_type": "code",
      "execution_count": 1,
      "metadata": {
        "id": "637HFw00T3LP"
      },
      "outputs": [],
      "source": [
        "from pyspark.sql import SparkSession\n",
        "spark = SparkSession.builder.master('local').appName('Spark Course').getOrCreate()"
      ]
    },
    {
      "cell_type": "markdown",
      "metadata": {
        "id": "Vj3Cg2riVX3m"
      },
      "source": [
        "# Preparing data"
      ]
    },
    {
      "cell_type": "code",
      "source": [
        "!pip install faker"
      ],
      "metadata": {
        "colab": {
          "base_uri": "https://localhost:8080/"
        },
        "id": "83BBHcNJDmw4",
        "outputId": "fe8fc284-76b1-4a2a-ce85-1fb87a507555"
      },
      "execution_count": 2,
      "outputs": [
        {
          "output_type": "stream",
          "name": "stdout",
          "text": [
            "Collecting faker\n",
            "  Downloading Faker-33.0.0-py3-none-any.whl.metadata (15 kB)\n",
            "Requirement already satisfied: python-dateutil>=2.4 in /usr/local/lib/python3.10/dist-packages (from faker) (2.8.2)\n",
            "Requirement already satisfied: typing-extensions in /usr/local/lib/python3.10/dist-packages (from faker) (4.12.2)\n",
            "Requirement already satisfied: six>=1.5 in /usr/local/lib/python3.10/dist-packages (from python-dateutil>=2.4->faker) (1.16.0)\n",
            "Downloading Faker-33.0.0-py3-none-any.whl (1.9 MB)\n",
            "\u001b[2K   \u001b[90m━━━━━━━━━━━━━━━━━━━━━━━━━━━━━━━━━━━━━━━━\u001b[0m \u001b[32m1.9/1.9 MB\u001b[0m \u001b[31m22.0 MB/s\u001b[0m eta \u001b[36m0:00:00\u001b[0m\n",
            "\u001b[?25hInstalling collected packages: faker\n",
            "Successfully installed faker-33.0.0\n"
          ]
        }
      ]
    },
    {
      "cell_type": "code",
      "execution_count": 3,
      "metadata": {
        "id": "z-caHS2MVX3m",
        "colab": {
          "base_uri": "https://localhost:8080/"
        },
        "outputId": "63d4a1c0-ed6b-4e66-a9c5-2f833897185e"
      },
      "outputs": [
        {
          "output_type": "stream",
          "name": "stdout",
          "text": [
            "+----------------------------------------------------+--------------------------+----------+-------------------------+-----------------+--------------------+\n",
            "|address                                             |date                      |dob       |email                    |name             |phone               |\n",
            "+----------------------------------------------------+--------------------------+----------+-------------------------+-----------------+--------------------+\n",
            "|9500 Carter Ridges\\nKimberlyhaven, MO 21519         |2024-05-04 11:51:10.699278|1965-09-29|djacobs@example.com      |Erika Wallace    |885-586-3585x301    |\n",
            "|USS Wallace\\nFPO AE 72382                           |2024-05-02 13:23:17.583099|1984-09-04|wwalker@example.net      |Lisa Mullins     |001-467-351-1718x604|\n",
            "|9218 Karen Manor\\nBarberville, ND 40430             |2024-05-04 02:03:43.955199|1958-01-27|coltonjohnson@example.org|Karen Thornton   |4818032072          |\n",
            "|6873 Ramos Station Suite 575\\nPort Bridget, ID 57916|2024-05-01 12:23:13.355828|1972-02-27|juliejones@example.com   |Jeffrey Henderson|(730)511-2221       |\n",
            "|4926 Douglas Trail Apt. 008\\nNorth Angela, MD 64345 |2024-05-02 19:37:00.547472|1934-03-13|mark04@example.net       |Donna Olson      |(895)378-2800x9355  |\n",
            "|57106 James Plain\\nCalhounland, GA 07618            |2024-05-02 19:28:28.093229|1921-05-09|denniskyle@example.net   |Terry Brown      |001-847-976-5674x084|\n",
            "|1818 Timothy River Apt. 028\\nBrownmouth, LA 37411   |2024-05-01 22:28:33.370538|1958-01-12|adamknight@example.org   |Tammy Moody      |+1-793-911-2712     |\n",
            "|USNS Moore\\nFPO AE 30032                            |2024-05-02 03:34:54.617441|1996-08-18|frankdavid@example.net   |Kimberly Nguyen  |212.793.6367x561    |\n",
            "|6994 Luis Bridge Apt. 997\\nJennifermouth, VI 58182  |2024-05-04 06:42:04.781873|1965-10-31|jlewis@example.com       |Robert Campbell  |812.514.0624        |\n",
            "|71655 Khan Turnpike\\nNew Kelly, MN 26140            |2024-05-04 14:12:11.194005|1933-03-28|xbennett@example.org     |Juan George      |215-843-2537        |\n",
            "+----------------------------------------------------+--------------------------+----------+-------------------------+-----------------+--------------------+\n",
            "only showing top 10 rows\n",
            "\n"
          ]
        }
      ],
      "source": [
        "from faker import Faker\n",
        "from datetime import datetime\n",
        "\n",
        "fake = Faker()\n",
        "\n",
        "users = []\n",
        "for _ in range(50):\n",
        "    user = {\n",
        "        'date': fake.date_time_between_dates(datetime(2024, 5, 1), datetime(2024, 5, 5)),\n",
        "        'name': fake.name(),\n",
        "        'address': fake.address(),\n",
        "        'email': fake.email(),\n",
        "        'dob': fake.date_of_birth(),\n",
        "        'phone': fake.phone_number()\n",
        "    }\n",
        "    users.append(user)\n",
        "\n",
        "df = spark.createDataFrame(users)\n",
        "\n",
        "df.show(10, False)\n"
      ]
    },
    {
      "cell_type": "markdown",
      "metadata": {
        "id": "YGXjf6xpBj36"
      },
      "source": [
        "# Writing as PARQUET\n",
        "\n"
      ]
    },
    {
      "cell_type": "code",
      "execution_count": 4,
      "metadata": {
        "colab": {
          "base_uri": "https://localhost:8080/"
        },
        "id": "dw5IIgebBj37",
        "outputId": "41d85aa6-839c-45f4-fdaf-7d52d49c0bdb"
      },
      "outputs": [
        {
          "output_type": "stream",
          "name": "stdout",
          "text": [
            "part-00000-66c796b1-ccda-4d72-a113-f0f73d25bb44-c000.snappy.parquet  _SUCCESS\n"
          ]
        },
        {
          "output_type": "execute_result",
          "data": {
            "text/plain": [
              "50"
            ]
          },
          "metadata": {},
          "execution_count": 4
        }
      ],
      "source": [
        "# Writing as PARQUET with no partitions\n",
        "\n",
        "path = \"/content/write_partitioning/parquet_no_partitions\"\n",
        "\n",
        "df.write.mode(\"overwrite\").format(\"parquet\").save(path)\n",
        "\n",
        "!ls /content/write_partitioning/parquet_no_partitions\n",
        "\n",
        "spark.read.format(\"parquet\").load(path).count()"
      ]
    },
    {
      "cell_type": "code",
      "source": [
        "!rm -rf /content/write_partitioning/parquet_with_partitions/date_part=20240503"
      ],
      "metadata": {
        "id": "rraejGtfy03M"
      },
      "execution_count": 8,
      "outputs": []
    },
    {
      "cell_type": "markdown",
      "metadata": {
        "id": "14stpbb4Bj37"
      },
      "source": []
    },
    {
      "cell_type": "code",
      "source": [
        "# Writing as PARQUET with partitions\n",
        "from pyspark.sql.functions import *\n",
        "\n",
        "path = \"/content/write_partitioning/parquet_with_partitions\"\n",
        "\n",
        "# Creating partition column\n",
        "df = df.withColumn(\"date_part\", date_format(col(\"date\"), \"yyyyMMdd\"))\n",
        "\n",
        "spark.conf.set(\"spark.sql.sources.partitionOverwriteMode\",\"dynamic\") # enable dynamic partition overwrite - only overwrites partitions that are coming in the dataframe\n",
        "\n",
        "(df#.where(\"date_part = '20240503'\")\n",
        " .write\n",
        " .mode(\"overwrite\")                                               # overwrites the entire path with the new data\n",
        " .partitionBy(\"date_part\")                                        # partition the data by column - creates sub-folders for each partition\n",
        " .format(\"parquet\")                                               # format of output\n",
        " .save(path))                                                     # path\n",
        "\n",
        "!ls /content/write_partitioning/parquet_with_partitions\n",
        "\n",
        "spark.read.format(\"parquet\").load(path).count()"
      ],
      "metadata": {
        "colab": {
          "base_uri": "https://localhost:8080/"
        },
        "id": "DWX9WZbPHrL1",
        "outputId": "101c9ce8-b68c-40a4-e97c-9ee028925da3"
      },
      "execution_count": 9,
      "outputs": [
        {
          "output_type": "stream",
          "name": "stdout",
          "text": [
            "'date_part=20240501'  'date_part=20240502'  'date_part=20240503'  'date_part=20240504'\n"
          ]
        },
        {
          "output_type": "execute_result",
          "data": {
            "text/plain": [
              "50"
            ]
          },
          "metadata": {},
          "execution_count": 9
        }
      ]
    },
    {
      "cell_type": "code",
      "source": [
        "# Checking single partition\n",
        "spark.read.parquet(\"/content/write_partitioning/parquet_with_partitions/date_part=20240502\").show()"
      ],
      "metadata": {
        "colab": {
          "base_uri": "https://localhost:8080/"
        },
        "id": "0B62qu87JsAB",
        "outputId": "e2aa7769-15c7-49bc-f48a-be56e33c4ff9"
      },
      "execution_count": 10,
      "outputs": [
        {
          "output_type": "stream",
          "name": "stdout",
          "text": [
            "+--------------------+--------------------+----------+--------------------+--------------------+--------------------+\n",
            "|             address|                date|       dob|               email|                name|               phone|\n",
            "+--------------------+--------------------+----------+--------------------+--------------------+--------------------+\n",
            "|USS Wallace\\nFPO ...|2024-05-02 13:23:...|1984-09-04| wwalker@example.net|        Lisa Mullins|001-467-351-1718x604|\n",
            "|4926 Douglas Trai...|2024-05-02 19:37:...|1934-03-13|  mark04@example.net|         Donna Olson|  (895)378-2800x9355|\n",
            "|57106 James Plain...|2024-05-02 19:28:...|1921-05-09|denniskyle@exampl...|         Terry Brown|001-847-976-5674x084|\n",
            "|USNS Moore\\nFPO A...|2024-05-02 03:34:...|1996-08-18|frankdavid@exampl...|     Kimberly Nguyen|    212.793.6367x561|\n",
            "|7497 Meza Drive A...|2024-05-02 00:56:...|2006-03-29| tharris@example.org|       Valerie Mccoy|    271.264.6096x104|\n",
            "|USCGC Washington\\...|2024-05-02 12:44:...|1991-06-05|  nirwin@example.com|     Natasha Sweeney|        718.837.4645|\n",
            "|474 Mary Meadow\\n...|2024-05-02 08:13:...|2009-10-12|stewartashley@exa...|Mrs. Katherine Du...|+1-846-572-1555x4546|\n",
            "|3724 Rodriguez Br...|2024-05-02 05:08:...|2019-01-30|steven54@example.com|    Angela Gutierrez|   (625)967-4924x265|\n",
            "|368 Monica Camp\\n...|2024-05-02 10:19:...|2016-04-14|fostermegan@examp...|        Emily Parker| (655)822-6665x54257|\n",
            "|990 Beck Plain\\nN...|2024-05-02 03:02:...|1944-09-11|jessica58@example...|       Tiffany Smith|001-706-569-6196x...|\n",
            "|458 Marcus Branch...|2024-05-02 20:12:...|2011-12-06|alexkennedy@examp...|        Ashley Smith|  707.879.1421x55949|\n",
            "|8773 Alvarez Path...|2024-05-02 01:50:...|1961-10-16|thomasthompson@ex...|   Heather Hernandez|          2728160624|\n",
            "+--------------------+--------------------+----------+--------------------+--------------------+--------------------+\n",
            "\n"
          ]
        }
      ]
    },
    {
      "cell_type": "markdown",
      "source": [
        "# Writing as CSV\n",
        "\n",
        "https://spark.apache.org/docs/3.5.1/sql-data-sources-csv.html"
      ],
      "metadata": {
        "id": "n8mTC5yeNV6o"
      }
    },
    {
      "cell_type": "code",
      "source": [
        "df.count()"
      ],
      "metadata": {
        "colab": {
          "base_uri": "https://localhost:8080/"
        },
        "id": "BnAWUTeZO43Z",
        "outputId": "f43aaeb2-be77-405b-9cc0-a7b1acb210aa"
      },
      "execution_count": 11,
      "outputs": [
        {
          "output_type": "execute_result",
          "data": {
            "text/plain": [
              "50"
            ]
          },
          "metadata": {},
          "execution_count": 11
        }
      ]
    },
    {
      "cell_type": "code",
      "source": [
        "path = \"/content/write_partitioning/csv_no_partitioning/\"\n",
        "\n",
        "# write as csv\n",
        "(df\n",
        "  .write\n",
        "  .format(\"csv\")\n",
        "  .mode(\"overwrite\")\n",
        "  .option(\"delimiter\", \"|\")\n",
        "  .option(\"header\", True)\n",
        "  .save(path))\n",
        "\n",
        "# listing files in the folder\n",
        "!ls /content/write_partitioning/csv_no_partitioning/\n",
        "\n",
        "# read as csv\n",
        "(spark\n",
        "  .read\n",
        "  .options(sep=\"|\", multiLine=True, header=True)\n",
        "  .csv(path)\n",
        "  .count())"
      ],
      "metadata": {
        "colab": {
          "base_uri": "https://localhost:8080/"
        },
        "id": "oE6zC-HnNYAz",
        "outputId": "ee7624d3-b0b6-4fe4-caf9-3879a33e9bae"
      },
      "execution_count": 12,
      "outputs": [
        {
          "output_type": "stream",
          "name": "stdout",
          "text": [
            "part-00000-215aeb5c-3bb9-4b90-bfc5-03b26bff4d25-c000.csv  _SUCCESS\n"
          ]
        },
        {
          "output_type": "execute_result",
          "data": {
            "text/plain": [
              "50"
            ]
          },
          "metadata": {},
          "execution_count": 12
        }
      ]
    },
    {
      "cell_type": "code",
      "source": [
        "(spark\n",
        "  .read\n",
        "  .options(sep=\"|\", multiLine=True, header=True)\n",
        "  .csv(path)).show()"
      ],
      "metadata": {
        "id": "5KE3h4G6zvt3",
        "outputId": "ef0136ba-40a5-4ec3-fcd0-7cf13d65df42",
        "colab": {
          "base_uri": "https://localhost:8080/"
        }
      },
      "execution_count": 14,
      "outputs": [
        {
          "output_type": "stream",
          "name": "stdout",
          "text": [
            "+--------------------+--------------------+----------+--------------------+-----------------+--------------------+---------+\n",
            "|             address|                date|       dob|               email|             name|               phone|date_part|\n",
            "+--------------------+--------------------+----------+--------------------+-----------------+--------------------+---------+\n",
            "|9500 Carter Ridge...|2024-05-04T11:51:...|1965-09-29| djacobs@example.com|    Erika Wallace|    885-586-3585x301| 20240504|\n",
            "|USS Wallace\\nFPO ...|2024-05-02T13:23:...|1984-09-04| wwalker@example.net|     Lisa Mullins|001-467-351-1718x604| 20240502|\n",
            "|9218 Karen Manor\\...|2024-05-04T02:03:...|1958-01-27|coltonjohnson@exa...|   Karen Thornton|          4818032072| 20240504|\n",
            "|6873 Ramos Statio...|2024-05-01T12:23:...|1972-02-27|juliejones@exampl...|Jeffrey Henderson|       (730)511-2221| 20240501|\n",
            "|4926 Douglas Trai...|2024-05-02T19:37:...|1934-03-13|  mark04@example.net|      Donna Olson|  (895)378-2800x9355| 20240502|\n",
            "|57106 James Plain...|2024-05-02T19:28:...|1921-05-09|denniskyle@exampl...|      Terry Brown|001-847-976-5674x084| 20240502|\n",
            "|1818 Timothy Rive...|2024-05-01T22:28:...|1958-01-12|adamknight@exampl...|      Tammy Moody|     +1-793-911-2712| 20240501|\n",
            "|USNS Moore\\nFPO A...|2024-05-02T03:34:...|1996-08-18|frankdavid@exampl...|  Kimberly Nguyen|    212.793.6367x561| 20240502|\n",
            "|6994 Luis Bridge ...|2024-05-04T06:42:...|1965-10-31|  jlewis@example.com|  Robert Campbell|        812.514.0624| 20240504|\n",
            "|71655 Khan Turnpi...|2024-05-04T14:12:...|1933-03-28|xbennett@example.org|      Juan George|        215-843-2537| 20240504|\n",
            "|USS May\\nFPO AA 5...|2024-05-01T15:16:...|1911-11-19|villegasstacy@exa...|Bethany Patterson|   849.991.0542x5100| 20240501|\n",
            "|11187 Cannon Corn...|2024-05-03T09:18:...|1964-04-16|  lsmith@example.com|  Jennifer Martin|          6046507494| 20240503|\n",
            "|807 Amy Walk Suit...|2024-05-04T04:48:...|1987-05-03|matthewspencer@ex...|      Wayne Gomez|        634.324.7386| 20240504|\n",
            "|7497 Meza Drive A...|2024-05-02T00:56:...|2006-03-29| tharris@example.org|    Valerie Mccoy|    271.264.6096x104| 20240502|\n",
            "|64568 Ramsey Cove...|2024-05-01T21:56:...|1981-02-21| zbryant@example.org|   Michelle Lopez|       (754)585-3049| 20240501|\n",
            "|753 Cynthia Cliff...|2024-05-04T09:24:...|1932-11-09|brianwilson@examp...|  Angel Mcconnell|   260.459.9348x4593| 20240504|\n",
            "|USCGC Washington\\...|2024-05-02T12:44:...|1991-06-05|  nirwin@example.com|  Natasha Sweeney|        718.837.4645| 20240502|\n",
            "|68915 Rivers Expr...|2024-05-01T11:58:...|1944-02-13|xpollard@example.org|   Jermaine Owens|  (792)332-4466x0838| 20240501|\n",
            "|Unit 3436 Box 416...|2024-05-03T19:29:...|1912-09-13|shaunscott@exampl...|   Michael Garner|  (804)663-2120x4368| 20240503|\n",
            "|8425 Ferguson Squ...|2024-05-03T03:48:...|1955-08-04|snyderdonna@examp...|     Angel Nguyen|        253-837-1570| 20240503|\n",
            "+--------------------+--------------------+----------+--------------------+-----------------+--------------------+---------+\n",
            "only showing top 20 rows\n",
            "\n"
          ]
        }
      ]
    },
    {
      "cell_type": "markdown",
      "source": [
        "# Writing as JSON\n",
        "\n",
        "https://spark.apache.org/docs/3.5.1/sql-data-sources-json.html"
      ],
      "metadata": {
        "id": "ZAuM5-WcTtyZ"
      }
    },
    {
      "cell_type": "code",
      "source": [
        "path = \"/content/write_partitioning/json_no_partitioning/\"\n",
        "\n",
        "# write as json\n",
        "(df\n",
        ".write\n",
        ".mode(\"overwrite\")\n",
        ".format(\"json\")\n",
        ".save(path))\n",
        "\n",
        "# listing files in the folder\n",
        "!ls /content/write_partitioning/json_no_partitioning/\n",
        "\n",
        "# read as json\n",
        "(spark\n",
        "  .read\n",
        "  .json(path)\n",
        "  .count())"
      ],
      "metadata": {
        "colab": {
          "base_uri": "https://localhost:8080/"
        },
        "id": "vnNgwbtxTsW_",
        "outputId": "2055698c-47e6-43ff-b564-af7eebd69106"
      },
      "execution_count": 17,
      "outputs": [
        {
          "output_type": "stream",
          "name": "stdout",
          "text": [
            "part-00000-419d3691-98ae-47c4-a74b-6dc64e310efc-c000.json  _SUCCESS\n"
          ]
        },
        {
          "output_type": "execute_result",
          "data": {
            "text/plain": [
              "50"
            ]
          },
          "metadata": {},
          "execution_count": 17
        }
      ]
    },
    {
      "cell_type": "code",
      "source": [
        "# reading json as text\n",
        "spark.read.text(path).show(10, False)"
      ],
      "metadata": {
        "colab": {
          "base_uri": "https://localhost:8080/"
        },
        "id": "D3hYNCubT0ry",
        "outputId": "5833f422-ed99-490a-c55b-e4a375bc6080"
      },
      "execution_count": 18,
      "outputs": [
        {
          "output_type": "stream",
          "name": "stdout",
          "text": [
            "+----------------------------------------------------------------------------------------------------------------------------------------------------------------------------------------------------------------------------------+\n",
            "|value                                                                                                                                                                                                                             |\n",
            "+----------------------------------------------------------------------------------------------------------------------------------------------------------------------------------------------------------------------------------+\n",
            "|{\"address\":\"9500 Carter Ridges\\nKimberlyhaven, MO 21519\",\"date\":\"2024-05-04T11:51:10.699Z\",\"dob\":\"1965-09-29\",\"email\":\"djacobs@example.com\",\"name\":\"Erika Wallace\",\"phone\":\"885-586-3585x301\",\"date_part\":\"20240504\"}             |\n",
            "|{\"address\":\"USS Wallace\\nFPO AE 72382\",\"date\":\"2024-05-02T13:23:17.583Z\",\"dob\":\"1984-09-04\",\"email\":\"wwalker@example.net\",\"name\":\"Lisa Mullins\",\"phone\":\"001-467-351-1718x604\",\"date_part\":\"20240502\"}                            |\n",
            "|{\"address\":\"9218 Karen Manor\\nBarberville, ND 40430\",\"date\":\"2024-05-04T02:03:43.955Z\",\"dob\":\"1958-01-27\",\"email\":\"coltonjohnson@example.org\",\"name\":\"Karen Thornton\",\"phone\":\"4818032072\",\"date_part\":\"20240504\"}                |\n",
            "|{\"address\":\"6873 Ramos Station Suite 575\\nPort Bridget, ID 57916\",\"date\":\"2024-05-01T12:23:13.355Z\",\"dob\":\"1972-02-27\",\"email\":\"juliejones@example.com\",\"name\":\"Jeffrey Henderson\",\"phone\":\"(730)511-2221\",\"date_part\":\"20240501\"}|\n",
            "|{\"address\":\"4926 Douglas Trail Apt. 008\\nNorth Angela, MD 64345\",\"date\":\"2024-05-02T19:37:00.547Z\",\"dob\":\"1934-03-13\",\"email\":\"mark04@example.net\",\"name\":\"Donna Olson\",\"phone\":\"(895)378-2800x9355\",\"date_part\":\"20240502\"}      |\n",
            "|{\"address\":\"57106 James Plain\\nCalhounland, GA 07618\",\"date\":\"2024-05-02T19:28:28.093Z\",\"dob\":\"1921-05-09\",\"email\":\"denniskyle@example.net\",\"name\":\"Terry Brown\",\"phone\":\"001-847-976-5674x084\",\"date_part\":\"20240502\"}           |\n",
            "|{\"address\":\"1818 Timothy River Apt. 028\\nBrownmouth, LA 37411\",\"date\":\"2024-05-01T22:28:33.370Z\",\"dob\":\"1958-01-12\",\"email\":\"adamknight@example.org\",\"name\":\"Tammy Moody\",\"phone\":\"+1-793-911-2712\",\"date_part\":\"20240501\"}       |\n",
            "|{\"address\":\"USNS Moore\\nFPO AE 30032\",\"date\":\"2024-05-02T03:34:54.617Z\",\"dob\":\"1996-08-18\",\"email\":\"frankdavid@example.net\",\"name\":\"Kimberly Nguyen\",\"phone\":\"212.793.6367x561\",\"date_part\":\"20240502\"}                           |\n",
            "|{\"address\":\"6994 Luis Bridge Apt. 997\\nJennifermouth, VI 58182\",\"date\":\"2024-05-04T06:42:04.781Z\",\"dob\":\"1965-10-31\",\"email\":\"jlewis@example.com\",\"name\":\"Robert Campbell\",\"phone\":\"812.514.0624\",\"date_part\":\"20240504\"}         |\n",
            "|{\"address\":\"71655 Khan Turnpike\\nNew Kelly, MN 26140\",\"date\":\"2024-05-04T14:12:11.194Z\",\"dob\":\"1933-03-28\",\"email\":\"xbennett@example.org\",\"name\":\"Juan George\",\"phone\":\"215-843-2537\",\"date_part\":\"20240504\"}                     |\n",
            "+----------------------------------------------------------------------------------------------------------------------------------------------------------------------------------------------------------------------------------+\n",
            "only showing top 10 rows\n",
            "\n"
          ]
        }
      ]
    },
    {
      "cell_type": "code",
      "source": [
        "# reading json as text\n",
        "spark.read.json(path).show(10, False)"
      ],
      "metadata": {
        "colab": {
          "base_uri": "https://localhost:8080/"
        },
        "id": "0bHcT2ilUo_F",
        "outputId": "308dc759-12ae-4ee1-938b-b87916c5330e"
      },
      "execution_count": 19,
      "outputs": [
        {
          "output_type": "stream",
          "name": "stdout",
          "text": [
            "+----------------------------------------------------+------------------------+---------+----------+-------------------------+-----------------+--------------------+\n",
            "|address                                             |date                    |date_part|dob       |email                    |name             |phone               |\n",
            "+----------------------------------------------------+------------------------+---------+----------+-------------------------+-----------------+--------------------+\n",
            "|9500 Carter Ridges\\nKimberlyhaven, MO 21519         |2024-05-04T11:51:10.699Z|20240504 |1965-09-29|djacobs@example.com      |Erika Wallace    |885-586-3585x301    |\n",
            "|USS Wallace\\nFPO AE 72382                           |2024-05-02T13:23:17.583Z|20240502 |1984-09-04|wwalker@example.net      |Lisa Mullins     |001-467-351-1718x604|\n",
            "|9218 Karen Manor\\nBarberville, ND 40430             |2024-05-04T02:03:43.955Z|20240504 |1958-01-27|coltonjohnson@example.org|Karen Thornton   |4818032072          |\n",
            "|6873 Ramos Station Suite 575\\nPort Bridget, ID 57916|2024-05-01T12:23:13.355Z|20240501 |1972-02-27|juliejones@example.com   |Jeffrey Henderson|(730)511-2221       |\n",
            "|4926 Douglas Trail Apt. 008\\nNorth Angela, MD 64345 |2024-05-02T19:37:00.547Z|20240502 |1934-03-13|mark04@example.net       |Donna Olson      |(895)378-2800x9355  |\n",
            "|57106 James Plain\\nCalhounland, GA 07618            |2024-05-02T19:28:28.093Z|20240502 |1921-05-09|denniskyle@example.net   |Terry Brown      |001-847-976-5674x084|\n",
            "|1818 Timothy River Apt. 028\\nBrownmouth, LA 37411   |2024-05-01T22:28:33.370Z|20240501 |1958-01-12|adamknight@example.org   |Tammy Moody      |+1-793-911-2712     |\n",
            "|USNS Moore\\nFPO AE 30032                            |2024-05-02T03:34:54.617Z|20240502 |1996-08-18|frankdavid@example.net   |Kimberly Nguyen  |212.793.6367x561    |\n",
            "|6994 Luis Bridge Apt. 997\\nJennifermouth, VI 58182  |2024-05-04T06:42:04.781Z|20240504 |1965-10-31|jlewis@example.com       |Robert Campbell  |812.514.0624        |\n",
            "|71655 Khan Turnpike\\nNew Kelly, MN 26140            |2024-05-04T14:12:11.194Z|20240504 |1933-03-28|xbennett@example.org     |Juan George      |215-843-2537        |\n",
            "+----------------------------------------------------+------------------------+---------+----------+-------------------------+-----------------+--------------------+\n",
            "only showing top 10 rows\n",
            "\n"
          ]
        }
      ]
    },
    {
      "cell_type": "code",
      "source": [
        "# partition json data + saveAsTable\n",
        "\n",
        "# Creating partition column\n",
        "df = df.withColumn(\"date_part\", date_format(col(\"date\"), \"yyyyMMdd\"))\n",
        "\n",
        "# write as json\n",
        "(df.write\n",
        "  .partitionBy(\"date_part\")\n",
        "  .mode(\"overwrite\")\n",
        "  .format(\"json\")\n",
        "  .saveAsTable(\"tbl_json_part\"))\n",
        "\n",
        "# read as json\n",
        "print(spark.table(\"tbl_json_part\").count())\n",
        "\n",
        "# read as json\n",
        "spark.sql(\"show partitions tbl_json_part\").show()"
      ],
      "metadata": {
        "colab": {
          "base_uri": "https://localhost:8080/"
        },
        "id": "Qj59UNMuU0hV",
        "outputId": "441ad7a0-a356-4442-9a32-48300c0466e5"
      },
      "execution_count": 21,
      "outputs": [
        {
          "output_type": "stream",
          "name": "stdout",
          "text": [
            "50\n",
            "+------------------+\n",
            "|         partition|\n",
            "+------------------+\n",
            "|date_part=20240501|\n",
            "|date_part=20240502|\n",
            "|date_part=20240503|\n",
            "|date_part=20240504|\n",
            "+------------------+\n",
            "\n"
          ]
        }
      ]
    },
    {
      "cell_type": "code",
      "source": [
        "spark.sql(\"show tables from default\").show()"
      ],
      "metadata": {
        "id": "e_SdkQ2e2u1s",
        "outputId": "cd9df1af-9a8d-415e-9bdf-22595e9384bf",
        "colab": {
          "base_uri": "https://localhost:8080/"
        }
      },
      "execution_count": 23,
      "outputs": [
        {
          "output_type": "stream",
          "name": "stdout",
          "text": [
            "+---------+-------------+-----------+\n",
            "|namespace|    tableName|isTemporary|\n",
            "+---------+-------------+-----------+\n",
            "|  default|tbl_json_part|      false|\n",
            "+---------+-------------+-----------+\n",
            "\n"
          ]
        }
      ]
    },
    {
      "cell_type": "markdown",
      "source": [
        "# Append Mode"
      ],
      "metadata": {
        "id": "6RhijzyqZeeq"
      }
    },
    {
      "cell_type": "code",
      "source": [
        "# Writing as PARQUET with APPEND\n",
        "\n",
        "path = \"/content/write_partitioning/parquet_append\"\n",
        "\n",
        "df.write.mode(\"append\").format(\"parquet\").save(path)\n",
        "\n",
        "!ls /content/write_partitioning/parquet_append\n",
        "\n",
        "spark.read.format(\"parquet\").load(path).count()"
      ],
      "metadata": {
        "id": "GmLjA1zDZeG_",
        "outputId": "2ae7724d-b465-4bb3-b784-2fd6773fbaad",
        "colab": {
          "base_uri": "https://localhost:8080/"
        }
      },
      "execution_count": null,
      "outputs": [
        {
          "output_type": "stream",
          "name": "stdout",
          "text": [
            "part-00000-19403de2-076f-46ee-849e-cb4d71597ef7-c000.snappy.parquet\n",
            "part-00000-3b17956e-ed3d-4cbe-bebf-6602d8e45c1d-c000.snappy.parquet\n",
            "part-00000-dc9d4535-21b1-452d-97eb-cc6cc34a5870-c000.snappy.parquet\n",
            "_SUCCESS\n"
          ]
        },
        {
          "output_type": "execute_result",
          "data": {
            "text/plain": [
              "150"
            ]
          },
          "metadata": {},
          "execution_count": 116
        }
      ]
    }
  ],
  "metadata": {
    "colab": {
      "provenance": [],
      "include_colab_link": true
    },
    "kernelspec": {
      "display_name": "Python 3",
      "name": "python3"
    },
    "language_info": {
      "name": "python"
    }
  },
  "nbformat": 4,
  "nbformat_minor": 0
}