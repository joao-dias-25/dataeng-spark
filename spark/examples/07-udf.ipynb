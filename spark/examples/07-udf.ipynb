{
  "cells": [
    {
      "cell_type": "markdown",
      "metadata": {
        "id": "view-in-github",
        "colab_type": "text"
      },
      "source": [
        "<a href=\"https://colab.research.google.com/github/joao-dias-25/dataeng-spark/blob/main/spark/examples/07-udf.ipynb\" target=\"_parent\"><img src=\"https://colab.research.google.com/assets/colab-badge.svg\" alt=\"Open In Colab\"/></a>"
      ]
    },
    {
      "cell_type": "markdown",
      "metadata": {
        "id": "WlN-UqJCq5Q_"
      },
      "source": [
        "<a href=\"https://colab.research.google.com/github/lucprosa/dataeng-basic-course/blob/main/spark/examples/07-udf.ipynb\" target=\"_parent\"><img src=\"https://colab.research.google.com/assets/colab-badge.svg\" alt=\"Open In Colab\"/></a>"
      ]
    },
    {
      "cell_type": "markdown",
      "metadata": {
        "id": "BOA_wQSmLd9z"
      },
      "source": [
        "# UDF\n",
        "### Performance gaps with UDF\n",
        "\n",
        "- Serialization and Deserialization: Data needs to be serialized and deserialized between the JVM and Python processes. This back-and-forth communication can introduce latency.\n",
        "- Single-threaded Execution: UDFs in PySpark are executed in a single thread, making them less efficient compared to the parallel execution capabilities of native Spark functions.\n",
        "- Lack of Optimization: Spark’s Catalyst optimizer does not optimize UDFs, leading to potentially inefficient execution plans.\n",
        "\n",
        "### When to use\n",
        "- Use UDFs for logic that is difficult to express with built-in Apache Spark functions. Built-in Apache Spark functions are optimized for distributed processing and generally offer better performance at scale. For more information, see Functions.\n",
        "\n",
        "- Databricks recommends UDFs for ad hoc queries, manual data cleansing, exploratory data analysis, and operations on small to medium-sized datasets. Common use cases for UDFs include data encryption and decryption, hashing, JSON parsing, and validation.\n",
        "\n",
        "- Use Apache Spark methods for operations on very large datasets and any workloads that are run regularly or continuously, including ETL jobs and streaming operations."
      ]
    },
    {
      "cell_type": "markdown",
      "metadata": {
        "id": "d9LeYFsPTjAb"
      },
      "source": [
        "# Setting up PySpark"
      ]
    },
    {
      "cell_type": "code",
      "execution_count": null,
      "metadata": {
        "colab": {
          "base_uri": "https://localhost:8080/"
        },
        "id": "uYXeODL0T1fO",
        "outputId": "c410e46c-4a50-43aa-926f-d0417c6280d2"
      },
      "outputs": [
        {
          "name": "stdout",
          "output_type": "stream",
          "text": [
            "Requirement already satisfied: pyspark in /usr/local/lib/python3.10/dist-packages (3.5.3)\n",
            "Requirement already satisfied: py4j==0.10.9.7 in /usr/local/lib/python3.10/dist-packages (from pyspark) (0.10.9.7)\n"
          ]
        }
      ],
      "source": [
        "%pip install pyspark"
      ]
    },
    {
      "cell_type": "code",
      "execution_count": 1,
      "metadata": {
        "id": "637HFw00T3LP"
      },
      "outputs": [],
      "source": [
        "from pyspark.sql import SparkSession\n",
        "spark = SparkSession.builder.master('local').appName('Spark Course').config('spark.ui.port', '4050').getOrCreate()\n",
        "sc = spark.sparkContext"
      ]
    },
    {
      "cell_type": "markdown",
      "metadata": {
        "id": "tyR1PQGxq5RC"
      },
      "source": [
        "# UDF"
      ]
    },
    {
      "cell_type": "code",
      "execution_count": 13,
      "metadata": {
        "colab": {
          "base_uri": "https://localhost:8080/"
        },
        "id": "cJW8fERxq5RC",
        "outputId": "62e0c633-b090-41be-c68e-8d467829006b"
      },
      "outputs": [
        {
          "output_type": "stream",
          "name": "stdout",
          "text": [
            "+----------+--------------+------------+\n",
            "|slen(name)|to_upper(name)|add_one(age)|\n",
            "+----------+--------------+------------+\n",
            "|         8|      JOHN DOE|          22|\n",
            "+----------+--------------+------------+\n",
            "\n"
          ]
        }
      ],
      "source": [
        "# UDF examples\n",
        "\n",
        "from pyspark.sql.functions import udf\n",
        "from pyspark.sql.types import IntegerType\n",
        "\n",
        "slen = udf(lambda s: len(s), IntegerType())\n",
        "\n",
        "@udf\n",
        "def to_upper(s):\n",
        "    if s is not None:\n",
        "        return s.upper()\n",
        "\n",
        "@udf(returnType=IntegerType())\n",
        "def add_one(x):\n",
        "    if x is not None:\n",
        "        return x + 1\n",
        "\n",
        "df = spark.createDataFrame([(1, \"John Doe\", 21)], (\"id\", \"name\", \"age\"))\n",
        "df.select(slen(\"name\").alias(\"slen(name)\"), to_upper(\"name\"), add_one(\"age\")).show()"
      ]
    },
    {
      "cell_type": "code",
      "execution_count": 14,
      "metadata": {
        "id": "7Er_akN6suUy"
      },
      "outputs": [],
      "source": [
        "# Preparing the data\n",
        "employee_data = [(\"101\", \"Chloe\", 3),\n",
        "            (\"102\", \"Paul\", 1),\n",
        "            (\"103\", \"John\", 1),\n",
        "            (\"104\", \"Lisa\", 2),\n",
        "            (\"105\", \"Evan\", 3),\n",
        "            (\"106\", \"Amy\", 3),\n",
        "            (\"107\", \"Jimmy\", 5)]\n",
        "\n",
        "employee_columns = [\"id\", \"name\", \"dpto\"]\n",
        "\n",
        "employee = sc.parallelize(employee_data).toDF(employee_columns)"
      ]
    },
    {
      "cell_type": "code",
      "execution_count": 18,
      "metadata": {
        "colab": {
          "base_uri": "https://localhost:8080/"
        },
        "id": "55CrjaQZs7Fm",
        "outputId": "0a27a206-adc4-478f-998e-3b85396cf727"
      },
      "outputs": [
        {
          "output_type": "stream",
          "name": "stdout",
          "text": [
            "+---+-----+----+---------------+\n",
            "| id| name|dpto|additional_info|\n",
            "+---+-----+----+---------------+\n",
            "|101|Chloe|   3|          Chloe|\n",
            "|102| Paul|   1|           Paul|\n",
            "|103| John|   1| John#FIRED-103|\n",
            "|104| Lisa|   2| Lisa#FIRED-104|\n",
            "|105| Evan|   3| Evan#FIRED-105|\n",
            "|106|  Amy|   3|            Amy|\n",
            "|107|Jimmy|   5|          Jimmy|\n",
            "+---+-----+----+---------------+\n",
            "\n"
          ]
        }
      ],
      "source": [
        "\n",
        "# Creating UDF to identify the employess that will be fired\n",
        "\n",
        "fired_employees = [\"John\", \"Lisa\", \"Evan\"]\n",
        "\n",
        "@udf\n",
        "def add_char_at_end(s, f, fired=fired_employees):\n",
        "  if s in fired:\n",
        "    return f\"{s}#FIRED-{f}\"\n",
        "  else:\n",
        "    return s\n",
        "\n",
        "employee.select(employee[\"*\"], add_char_at_end(\"name\", \"id\").alias(\"additional_info\")).show()"
      ]
    },
    {
      "cell_type": "code",
      "execution_count": null,
      "metadata": {
        "colab": {
          "base_uri": "https://localhost:8080/"
        },
        "id": "yqYB0iRtyfi9",
        "outputId": "41afc614-43d1-49a8-8c03-8ceb71a019db"
      },
      "outputs": [
        {
          "name": "stdout",
          "output_type": "stream",
          "text": [
            "+------+\n",
            "|length|\n",
            "+------+\n",
            "|    23|\n",
            "+------+\n",
            "\n"
          ]
        }
      ],
      "source": [
        "# Can be used in SQL\n",
        "\n",
        "slen = udf(lambda s: len(s), IntegerType())\n",
        "spark.udf.register(\"slen\", slen)\n",
        "\n",
        "qry2 = \"\"\"SELECT slen(\"Data Engineering Course\") AS length\"\"\"\n",
        "\n",
        "spark.sql(qry2).show()"
      ]
    },
    {
      "cell_type": "markdown",
      "source": [
        "# Question"
      ],
      "metadata": {
        "id": "vGrxQ-jbHVF9"
      }
    },
    {
      "cell_type": "code",
      "execution_count": 21,
      "metadata": {
        "id": "dMaASP-rxwTp",
        "outputId": "2860c246-1699-4644-9e4b-b49d9e178dfa",
        "colab": {
          "base_uri": "https://localhost:8080/"
        }
      },
      "outputs": [
        {
          "output_type": "stream",
          "name": "stdout",
          "text": [
            "+---+-----+----+---------------+\n",
            "| id| name|dpto|department_info|\n",
            "+---+-----+----+---------------+\n",
            "|101|Chloe|   3|             HR|\n",
            "|102| Paul|   1|      Marketing|\n",
            "|103| John|   1|      Marketing|\n",
            "|104| Lisa|   2|          Sales|\n",
            "|105| Evan|   3|             HR|\n",
            "|106|  Amy|   3|             HR|\n",
            "|107|Jimmy|   5|             IT|\n",
            "+---+-----+----+---------------+\n",
            "\n"
          ]
        }
      ],
      "source": [
        "# Q1\n",
        "# Create an UDF to add the department name to the dataset based on dpto id\n",
        "mapping = {1: \"Marketing\", 2: \"Sales\", 3: \"HR\", 4: \"Finance\", 5: \"IT\"}\n",
        "\n",
        "@udf\n",
        "def dep_label(s, dic=mapping):\n",
        "  return mapping[s]\n",
        "\n",
        "employee.select(employee[\"*\"], dep_label( \"dpto\").alias(\"department_info\")).show()"
      ]
    },
    {
      "cell_type": "code",
      "source": [
        "spark.udf.register('nova_function', dep_label)"
      ],
      "metadata": {
        "id": "gy7wg64EUops",
        "outputId": "164e5b66-2b0e-44e5-944d-9b70aff6ebbc",
        "colab": {
          "base_uri": "https://localhost:8080/"
        }
      },
      "execution_count": 22,
      "outputs": [
        {
          "output_type": "execute_result",
          "data": {
            "text/plain": [
              "<pyspark.sql.udf.UserDefinedFunction at 0x7ca5a5dabc10>"
            ]
          },
          "metadata": {},
          "execution_count": 22
        }
      ]
    },
    {
      "cell_type": "code",
      "source": [
        "employee.createOrReplaceTempView(\"view_employee\")"
      ],
      "metadata": {
        "id": "9kiObvZFWKkT"
      },
      "execution_count": 23,
      "outputs": []
    },
    {
      "cell_type": "markdown",
      "source": [],
      "metadata": {
        "id": "kwEnq5D2WmHO"
      }
    },
    {
      "cell_type": "code",
      "source": [
        "spark.sql(\"select *, nova_function(dpto) from view_employee\").show()"
      ],
      "metadata": {
        "id": "qQi72wr0WVHN",
        "outputId": "211a8e91-8098-4471-f91b-5201956cc2b8",
        "colab": {
          "base_uri": "https://localhost:8080/"
        }
      },
      "execution_count": 27,
      "outputs": [
        {
          "output_type": "stream",
          "name": "stdout",
          "text": [
            "+---+-----+----+-------------------+\n",
            "| id| name|dpto|nova_function(dpto)|\n",
            "+---+-----+----+-------------------+\n",
            "|101|Chloe|   3|                 HR|\n",
            "|102| Paul|   1|          Marketing|\n",
            "|103| John|   1|          Marketing|\n",
            "|104| Lisa|   2|              Sales|\n",
            "|105| Evan|   3|                 HR|\n",
            "|106|  Amy|   3|                 HR|\n",
            "|107|Jimmy|   5|                 IT|\n",
            "+---+-----+----+-------------------+\n",
            "\n"
          ]
        }
      ]
    },
    {
      "cell_type": "code",
      "source": [],
      "metadata": {
        "id": "_u-JOP47WeSU"
      },
      "execution_count": null,
      "outputs": []
    }
  ],
  "metadata": {
    "colab": {
      "provenance": [],
      "toc_visible": true,
      "include_colab_link": true
    },
    "kernelspec": {
      "display_name": "Python 3",
      "name": "python3"
    },
    "language_info": {
      "name": "python"
    }
  },
  "nbformat": 4,
  "nbformat_minor": 0
}