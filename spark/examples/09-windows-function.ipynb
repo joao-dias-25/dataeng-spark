{
  "cells": [
    {
      "cell_type": "markdown",
      "metadata": {
        "id": "view-in-github",
        "colab_type": "text"
      },
      "source": [
        "<a href=\"https://colab.research.google.com/github/joao-dias-25/dataeng-spark/blob/main/spark/examples/09-windows-function.ipynb\" target=\"_parent\"><img src=\"https://colab.research.google.com/assets/colab-badge.svg\" alt=\"Open In Colab\"/></a>"
      ]
    },
    {
      "cell_type": "markdown",
      "metadata": {
        "id": "BOA_wQSmLd9z"
      },
      "source": [
        "# Windows Function\n",
        "- Window functions operate on a group of rows, referred to as a window, and calculate a return value for each row based on the group of rows.\n",
        "- Window functions are useful for processing tasks such as calculating a moving average, computing a cumulative statistic, or accessing the value of rows given the relative position of the current row."
      ]
    },
    {
      "cell_type": "markdown",
      "metadata": {
        "id": "d9LeYFsPTjAb"
      },
      "source": [
        "# Setting up PySpark"
      ]
    },
    {
      "cell_type": "code",
      "execution_count": null,
      "metadata": {
        "colab": {
          "base_uri": "https://localhost:8080/"
        },
        "id": "uYXeODL0T1fO",
        "outputId": "c410e46c-4a50-43aa-926f-d0417c6280d2"
      },
      "outputs": [
        {
          "name": "stdout",
          "output_type": "stream",
          "text": [
            "Requirement already satisfied: pyspark in /usr/local/lib/python3.10/dist-packages (3.5.3)\n",
            "Requirement already satisfied: py4j==0.10.9.7 in /usr/local/lib/python3.10/dist-packages (from pyspark) (0.10.9.7)\n"
          ]
        }
      ],
      "source": [
        "%pip install pyspark"
      ]
    },
    {
      "cell_type": "code",
      "execution_count": 1,
      "metadata": {
        "id": "637HFw00T3LP"
      },
      "outputs": [],
      "source": [
        "from pyspark.sql import SparkSession\n",
        "spark = SparkSession.builder.master('local').appName('Spark Course').config('spark.ui.port', '4050').getOrCreate()"
      ]
    },
    {
      "cell_type": "markdown",
      "metadata": {
        "id": "9BRgjNQbOKE0"
      },
      "source": [
        "# Windows Function"
      ]
    },
    {
      "cell_type": "code",
      "execution_count": 2,
      "metadata": {
        "colab": {
          "base_uri": "https://localhost:8080/"
        },
        "id": "fZzWrJbROKE0",
        "outputId": "dd64b5d5-4659-4f36-8142-676c80f77bb2"
      },
      "outputs": [
        {
          "output_type": "stream",
          "name": "stdout",
          "text": [
            "+-----+-----------+------+---+\n",
            "| name|       dept|salary|age|\n",
            "+-----+-----------+------+---+\n",
            "| Lisa|      Sales| 10000| 35|\n",
            "| Evan|      Sales| 32000| 38|\n",
            "| Fred|Engineering| 21000| 28|\n",
            "| Alex|      Sales| 30000| 33|\n",
            "|  Tom|Engineering| 23000| 33|\n",
            "| Jane|  Marketing| 29000| 28|\n",
            "| Jeff|  Marketing| 35000| 38|\n",
            "| Paul|Engineering| 29000| 23|\n",
            "|Chloe|Engineering| 23000| 25|\n",
            "+-----+-----------+------+---+\n",
            "\n"
          ]
        }
      ],
      "source": [
        "# using inline table to prepare the data\n",
        "\n",
        "qry = \"\"\"CREATE OR REPLACE TEMPORARY VIEW employees AS SELECT * FROM VALUES(\"Lisa\", \"Sales\", 10000, 35),\n",
        "(\"Evan\", \"Sales\", 32000, 38),\n",
        "(\"Fred\", \"Engineering\", 21000, 28),\n",
        "(\"Alex\", \"Sales\", 30000, 33),\n",
        "(\"Tom\", \"Engineering\", 23000, 33),\n",
        "(\"Jane\", \"Marketing\", 29000, 28),\n",
        "(\"Jeff\", \"Marketing\", 35000, 38),\n",
        "(\"Paul\", \"Engineering\", 29000, 23),\n",
        "(\"Chloe\", \"Engineering\", 23000, 25)\n",
        "AS employees(name, dept, salary, age)\"\"\"\n",
        "\n",
        "spark.sql(qry)\n",
        "spark.table(\"employees\").show()"
      ]
    },
    {
      "cell_type": "code",
      "execution_count": 4,
      "metadata": {
        "colab": {
          "base_uri": "https://localhost:8080/"
        },
        "id": "o0JtIU70Pgoq",
        "outputId": "b078aa3c-58a2-48ae-aacf-06c7a3855cf6"
      },
      "outputs": [
        {
          "output_type": "stream",
          "name": "stdout",
          "text": [
            "+-----+-----------+------+----------+\n",
            "| name|       dept|salary|dense_rank|\n",
            "+-----+-----------+------+----------+\n",
            "| Fred|Engineering| 21000|         1|\n",
            "|  Tom|Engineering| 23000|         2|\n",
            "|Chloe|Engineering| 23000|         2|\n",
            "| Paul|Engineering| 29000|         4|\n",
            "| Jane|  Marketing| 29000|         1|\n",
            "| Jeff|  Marketing| 35000|         2|\n",
            "| Lisa|      Sales| 10000|         1|\n",
            "| Alex|      Sales| 30000|         2|\n",
            "| Evan|      Sales| 32000|         3|\n",
            "+-----+-----------+------+----------+\n",
            "\n"
          ]
        }
      ],
      "source": [
        "# calculate dense_rank on salary\n",
        "qry1 = \"\"\"SELECT name, dept, salary, RANK() OVER (PARTITION BY dept ORDER BY salary ROWS BETWEEN\n",
        "    UNBOUNDED PRECEDING AND CURRENT ROW) AS dense_rank FROM employees;\"\"\"\n",
        "\n",
        "spark.sql(qry1).show()"
      ]
    },
    {
      "cell_type": "code",
      "execution_count": 6,
      "metadata": {
        "colab": {
          "base_uri": "https://localhost:8080/"
        },
        "id": "mE58WtSzRsg9",
        "outputId": "dcf43035-1d56-4af6-ca76-3b1c88a93bbd"
      },
      "outputs": [
        {
          "output_type": "stream",
          "name": "stdout",
          "text": [
            "+-----+-----------+------+-----+\n",
            "| name|       dept|salary|  min|\n",
            "+-----+-----------+------+-----+\n",
            "| Fred|Engineering| 21000|21000|\n",
            "|  Tom|Engineering| 23000|21000|\n",
            "|Chloe|Engineering| 23000|21000|\n",
            "| Paul|Engineering| 29000|21000|\n",
            "| Jane|  Marketing| 29000|29000|\n",
            "| Jeff|  Marketing| 35000|29000|\n",
            "| Lisa|      Sales| 10000|10000|\n",
            "| Alex|      Sales| 30000|10000|\n",
            "| Evan|      Sales| 32000|10000|\n",
            "+-----+-----------+------+-----+\n",
            "\n"
          ]
        }
      ],
      "source": [
        "# calculate min salary by dept\n",
        "qry2 = \"\"\"SELECT name, dept, salary, MIN(salary) OVER (PARTITION BY dept ORDER BY salary) AS min\n",
        "    FROM employees;\"\"\"\n",
        "\n",
        "spark.sql(qry2).show()"
      ]
    },
    {
      "cell_type": "code",
      "execution_count": 8,
      "metadata": {
        "colab": {
          "base_uri": "https://localhost:8080/"
        },
        "id": "FBohSBV4Sfkb",
        "outputId": "b1e9f3ce-a1ed-4764-a618-1d1dce752193"
      },
      "outputs": [
        {
          "output_type": "stream",
          "name": "stdout",
          "text": [
            "+-----+-----------+------+---+-----+\n",
            "| name|       dept|salary|age|  min|\n",
            "+-----+-----------+------+---+-----+\n",
            "| Fred|Engineering| 21000| 28|21000|\n",
            "|  Tom|Engineering| 23000| 33|21000|\n",
            "|Chloe|Engineering| 23000| 25|21000|\n",
            "| Paul|Engineering| 29000| 23|21000|\n",
            "| Jane|  Marketing| 29000| 28|29000|\n",
            "| Jeff|  Marketing| 35000| 38|29000|\n",
            "| Lisa|      Sales| 10000| 35|10000|\n",
            "| Alex|      Sales| 30000| 33|10000|\n",
            "| Evan|      Sales| 32000| 38|10000|\n",
            "+-----+-----------+------+---+-----+\n",
            "\n"
          ]
        }
      ],
      "source": [
        "# same logic but using dataframes\n",
        "from pyspark.sql.functions import min\n",
        "from pyspark.sql.window import Window\n",
        "\n",
        "df = spark.table(\"employees\")\n",
        "windowSpec = Window.partitionBy(\"dept\").orderBy(\"salary\")\n",
        "df.withColumn(\"min\", min(\"salary\").over(windowSpec)).show()"
      ]
    },
    {
      "cell_type": "markdown",
      "metadata": {
        "id": "8KnCXs19UXDw"
      },
      "source": [
        "# Question"
      ]
    },
    {
      "cell_type": "code",
      "execution_count": 23,
      "metadata": {
        "id": "NM33rISwSybn",
        "colab": {
          "base_uri": "https://localhost:8080/"
        },
        "outputId": "73ded180-f6b1-42e6-9349-cee1178a1a4c"
      },
      "outputs": [
        {
          "output_type": "stream",
          "name": "stdout",
          "text": [
            "+-----+-----------+------+---+-------------------+------+--------------+-------------------------+\n",
            "| name|       dept|salary|age|highest_salary_dept|is_max|highest_salary|is_highest_salary_company|\n",
            "+-----+-----------+------+---+-------------------+------+--------------+-------------------------+\n",
            "| Fred|Engineering| 21000| 28|              29000| false|         35000|                    false|\n",
            "|  Tom|Engineering| 23000| 33|              29000| false|         35000|                    false|\n",
            "| Paul|Engineering| 29000| 23|              29000|  true|         35000|                    false|\n",
            "|Chloe|Engineering| 23000| 25|              29000| false|         35000|                    false|\n",
            "| Jane|  Marketing| 29000| 28|              35000| false|         35000|                    false|\n",
            "| Jeff|  Marketing| 35000| 38|              35000|  true|         35000|                     true|\n",
            "| Lisa|      Sales| 10000| 35|              32000| false|         35000|                    false|\n",
            "| Evan|      Sales| 32000| 38|              32000|  true|         35000|                    false|\n",
            "| Alex|      Sales| 30000| 33|              32000| false|         35000|                    false|\n",
            "+-----+-----------+------+---+-------------------+------+--------------+-------------------------+\n",
            "\n"
          ]
        }
      ],
      "source": [
        "# Q1\n",
        "# Use windows functions to identify the higher salary by dept\n",
        "# Create new column \"highest_salary_dept\" and assign TRUE/FALSE accordingly\n",
        "# Identify the high salary of the company (including all the dept)\n",
        "# Create new column \"highest_salary_company\" and assign TRUE/FALSE accordingly\n",
        "\n",
        "from pyspark.sql.functions import max\n",
        "\n",
        "df = spark.table(\"employees\")\n",
        "windowSpec = Window.partitionBy(\"dept\")#.orderBy(\"salary\")\n",
        "windowSpec2 = Window.partitionBy()#.orderBy(\"salary\")\n",
        "\n",
        "df = df.withColumn(\"highest_salary_dept\", max(\"salary\").over(windowSpec))\n",
        "df = df.withColumn(\"is_max\", when(col(\"salary\") == col(\"highest_salary_dept\"), lit(\"true\")).otherwise(lit(\"false\")))\n",
        "\n",
        "df = df.withColumn(\"highest_salary\", max(\"salary\").over(windowSpec2))\n",
        "df = df.withColumn(\"is_highest_salary_company\", when(col(\"salary\") == col(\"highest_salary\"), lit(\"true\")).otherwise(lit(\"false\")))\n",
        "df.show()"
      ]
    },
    {
      "cell_type": "code",
      "source": [
        " # same logic but using dataframes\n",
        "from pyspark.sql.functions import *\n",
        "from pyspark.sql.window import Window\n",
        "df = spark.table(\"employees\")\n",
        "windowSpec = Window.partitionBy(\"dept\").orderBy(\"salary\")\n",
        "df = df.withColumn(\"min\", min(\"salary\").over(windowSpec))\n",
        "df = df.withColumn(\"is_min\", when(col(\"salary\") == col(\"min\"), lit(\"true\")).otherwise(lit(\"false\")))\n",
        "df.show()"
      ],
      "metadata": {
        "id": "AdAeKoZ8aLII"
      },
      "execution_count": null,
      "outputs": []
    }
  ],
  "metadata": {
    "colab": {
      "provenance": [],
      "toc_visible": true,
      "include_colab_link": true
    },
    "kernelspec": {
      "display_name": "Python 3",
      "name": "python3"
    },
    "language_info": {
      "name": "python"
    }
  },
  "nbformat": 4,
  "nbformat_minor": 0
}